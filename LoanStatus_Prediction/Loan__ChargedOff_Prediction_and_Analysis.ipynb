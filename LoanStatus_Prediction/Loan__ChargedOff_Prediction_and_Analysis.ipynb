{
 "cells": [
  {
   "attachments": {},
   "cell_type": "markdown",
   "metadata": {
    "id": "gmu1vN3jIaI-"
   },
   "source": [
    "## Importing necessary libraries"
   ]
  },
  {
   "cell_type": "code",
   "execution_count": 1,
   "metadata": {
    "id": "ohMcO_pmIipN",
    "ExecuteTime": {
     "end_time": "2023-05-29T13:25:50.660428800Z",
     "start_time": "2023-05-29T13:25:50.647918900Z"
    }
   },
   "outputs": [],
   "source": [
    "import numpy as np \n",
    "import pandas as pd \n",
    "import seaborn as sns\n",
    "import matplotlib.pyplot as plt\n",
    "import warnings\n",
    "warnings.filterwarnings('ignore')"
   ]
  },
  {
   "cell_type": "code",
   "execution_count": 2,
   "metadata": {
    "colab": {
     "base_uri": "https://localhost:8080/",
     "height": 403
    },
    "id": "fRs84cUaL3J6",
    "outputId": "e0325f06-d0bc-4701-9e18-812bcb46cc44",
    "ExecuteTime": {
     "end_time": "2023-05-29T13:25:52.070280700Z",
     "start_time": "2023-05-29T13:25:50.663430800Z"
    }
   },
   "outputs": [
    {
     "ename": "FileNotFoundError",
     "evalue": "[Errno 2] No such file or directory: 'Loan_status_2007-2020Q3.gzip'",
     "output_type": "error",
     "traceback": [
      "\u001B[1;31m---------------------------------------------------------------------------\u001B[0m",
      "\u001B[1;31mFileNotFoundError\u001B[0m                         Traceback (most recent call last)",
      "Input \u001B[1;32mIn [2]\u001B[0m, in \u001B[0;36m<cell line: 1>\u001B[1;34m()\u001B[0m\n\u001B[1;32m----> 1\u001B[0m df \u001B[38;5;241m=\u001B[39m \u001B[43mpd\u001B[49m\u001B[38;5;241;43m.\u001B[39;49m\u001B[43mread_csv\u001B[49m\u001B[43m(\u001B[49m\u001B[38;5;124;43m\"\u001B[39;49m\u001B[38;5;124;43mLoan_status_2007-2020Q3.gzip\u001B[39;49m\u001B[38;5;124;43m\"\u001B[39;49m\u001B[43m,\u001B[49m\u001B[43m \u001B[49m\u001B[43mlow_memory\u001B[49m\u001B[38;5;241;43m=\u001B[39;49m\u001B[38;5;28;43;01mFalse\u001B[39;49;00m\u001B[43m)\u001B[49m\n\u001B[0;32m      2\u001B[0m df\u001B[38;5;241m.\u001B[39mhead()\n",
      "File \u001B[1;32m~\\anaconda3\\lib\\site-packages\\pandas\\util\\_decorators.py:311\u001B[0m, in \u001B[0;36mdeprecate_nonkeyword_arguments.<locals>.decorate.<locals>.wrapper\u001B[1;34m(*args, **kwargs)\u001B[0m\n\u001B[0;32m    305\u001B[0m \u001B[38;5;28;01mif\u001B[39;00m \u001B[38;5;28mlen\u001B[39m(args) \u001B[38;5;241m>\u001B[39m num_allow_args:\n\u001B[0;32m    306\u001B[0m     warnings\u001B[38;5;241m.\u001B[39mwarn(\n\u001B[0;32m    307\u001B[0m         msg\u001B[38;5;241m.\u001B[39mformat(arguments\u001B[38;5;241m=\u001B[39marguments),\n\u001B[0;32m    308\u001B[0m         \u001B[38;5;167;01mFutureWarning\u001B[39;00m,\n\u001B[0;32m    309\u001B[0m         stacklevel\u001B[38;5;241m=\u001B[39mstacklevel,\n\u001B[0;32m    310\u001B[0m     )\n\u001B[1;32m--> 311\u001B[0m \u001B[38;5;28;01mreturn\u001B[39;00m func(\u001B[38;5;241m*\u001B[39margs, \u001B[38;5;241m*\u001B[39m\u001B[38;5;241m*\u001B[39mkwargs)\n",
      "File \u001B[1;32m~\\anaconda3\\lib\\site-packages\\pandas\\io\\parsers\\readers.py:680\u001B[0m, in \u001B[0;36mread_csv\u001B[1;34m(filepath_or_buffer, sep, delimiter, header, names, index_col, usecols, squeeze, prefix, mangle_dupe_cols, dtype, engine, converters, true_values, false_values, skipinitialspace, skiprows, skipfooter, nrows, na_values, keep_default_na, na_filter, verbose, skip_blank_lines, parse_dates, infer_datetime_format, keep_date_col, date_parser, dayfirst, cache_dates, iterator, chunksize, compression, thousands, decimal, lineterminator, quotechar, quoting, doublequote, escapechar, comment, encoding, encoding_errors, dialect, error_bad_lines, warn_bad_lines, on_bad_lines, delim_whitespace, low_memory, memory_map, float_precision, storage_options)\u001B[0m\n\u001B[0;32m    665\u001B[0m kwds_defaults \u001B[38;5;241m=\u001B[39m _refine_defaults_read(\n\u001B[0;32m    666\u001B[0m     dialect,\n\u001B[0;32m    667\u001B[0m     delimiter,\n\u001B[1;32m   (...)\u001B[0m\n\u001B[0;32m    676\u001B[0m     defaults\u001B[38;5;241m=\u001B[39m{\u001B[38;5;124m\"\u001B[39m\u001B[38;5;124mdelimiter\u001B[39m\u001B[38;5;124m\"\u001B[39m: \u001B[38;5;124m\"\u001B[39m\u001B[38;5;124m,\u001B[39m\u001B[38;5;124m\"\u001B[39m},\n\u001B[0;32m    677\u001B[0m )\n\u001B[0;32m    678\u001B[0m kwds\u001B[38;5;241m.\u001B[39mupdate(kwds_defaults)\n\u001B[1;32m--> 680\u001B[0m \u001B[38;5;28;01mreturn\u001B[39;00m \u001B[43m_read\u001B[49m\u001B[43m(\u001B[49m\u001B[43mfilepath_or_buffer\u001B[49m\u001B[43m,\u001B[49m\u001B[43m \u001B[49m\u001B[43mkwds\u001B[49m\u001B[43m)\u001B[49m\n",
      "File \u001B[1;32m~\\anaconda3\\lib\\site-packages\\pandas\\io\\parsers\\readers.py:575\u001B[0m, in \u001B[0;36m_read\u001B[1;34m(filepath_or_buffer, kwds)\u001B[0m\n\u001B[0;32m    572\u001B[0m _validate_names(kwds\u001B[38;5;241m.\u001B[39mget(\u001B[38;5;124m\"\u001B[39m\u001B[38;5;124mnames\u001B[39m\u001B[38;5;124m\"\u001B[39m, \u001B[38;5;28;01mNone\u001B[39;00m))\n\u001B[0;32m    574\u001B[0m \u001B[38;5;66;03m# Create the parser.\u001B[39;00m\n\u001B[1;32m--> 575\u001B[0m parser \u001B[38;5;241m=\u001B[39m TextFileReader(filepath_or_buffer, \u001B[38;5;241m*\u001B[39m\u001B[38;5;241m*\u001B[39mkwds)\n\u001B[0;32m    577\u001B[0m \u001B[38;5;28;01mif\u001B[39;00m chunksize \u001B[38;5;129;01mor\u001B[39;00m iterator:\n\u001B[0;32m    578\u001B[0m     \u001B[38;5;28;01mreturn\u001B[39;00m parser\n",
      "File \u001B[1;32m~\\anaconda3\\lib\\site-packages\\pandas\\io\\parsers\\readers.py:933\u001B[0m, in \u001B[0;36mTextFileReader.__init__\u001B[1;34m(self, f, engine, **kwds)\u001B[0m\n\u001B[0;32m    930\u001B[0m     \u001B[38;5;28mself\u001B[39m\u001B[38;5;241m.\u001B[39moptions[\u001B[38;5;124m\"\u001B[39m\u001B[38;5;124mhas_index_names\u001B[39m\u001B[38;5;124m\"\u001B[39m] \u001B[38;5;241m=\u001B[39m kwds[\u001B[38;5;124m\"\u001B[39m\u001B[38;5;124mhas_index_names\u001B[39m\u001B[38;5;124m\"\u001B[39m]\n\u001B[0;32m    932\u001B[0m \u001B[38;5;28mself\u001B[39m\u001B[38;5;241m.\u001B[39mhandles: IOHandles \u001B[38;5;241m|\u001B[39m \u001B[38;5;28;01mNone\u001B[39;00m \u001B[38;5;241m=\u001B[39m \u001B[38;5;28;01mNone\u001B[39;00m\n\u001B[1;32m--> 933\u001B[0m \u001B[38;5;28mself\u001B[39m\u001B[38;5;241m.\u001B[39m_engine \u001B[38;5;241m=\u001B[39m \u001B[38;5;28;43mself\u001B[39;49m\u001B[38;5;241;43m.\u001B[39;49m\u001B[43m_make_engine\u001B[49m\u001B[43m(\u001B[49m\u001B[43mf\u001B[49m\u001B[43m,\u001B[49m\u001B[43m \u001B[49m\u001B[38;5;28;43mself\u001B[39;49m\u001B[38;5;241;43m.\u001B[39;49m\u001B[43mengine\u001B[49m\u001B[43m)\u001B[49m\n",
      "File \u001B[1;32m~\\anaconda3\\lib\\site-packages\\pandas\\io\\parsers\\readers.py:1217\u001B[0m, in \u001B[0;36mTextFileReader._make_engine\u001B[1;34m(self, f, engine)\u001B[0m\n\u001B[0;32m   1213\u001B[0m     mode \u001B[38;5;241m=\u001B[39m \u001B[38;5;124m\"\u001B[39m\u001B[38;5;124mrb\u001B[39m\u001B[38;5;124m\"\u001B[39m\n\u001B[0;32m   1214\u001B[0m \u001B[38;5;66;03m# error: No overload variant of \"get_handle\" matches argument types\u001B[39;00m\n\u001B[0;32m   1215\u001B[0m \u001B[38;5;66;03m# \"Union[str, PathLike[str], ReadCsvBuffer[bytes], ReadCsvBuffer[str]]\"\u001B[39;00m\n\u001B[0;32m   1216\u001B[0m \u001B[38;5;66;03m# , \"str\", \"bool\", \"Any\", \"Any\", \"Any\", \"Any\", \"Any\"\u001B[39;00m\n\u001B[1;32m-> 1217\u001B[0m \u001B[38;5;28mself\u001B[39m\u001B[38;5;241m.\u001B[39mhandles \u001B[38;5;241m=\u001B[39m \u001B[43mget_handle\u001B[49m\u001B[43m(\u001B[49m\u001B[43m  \u001B[49m\u001B[38;5;66;43;03m# type: ignore[call-overload]\u001B[39;49;00m\n\u001B[0;32m   1218\u001B[0m \u001B[43m    \u001B[49m\u001B[43mf\u001B[49m\u001B[43m,\u001B[49m\n\u001B[0;32m   1219\u001B[0m \u001B[43m    \u001B[49m\u001B[43mmode\u001B[49m\u001B[43m,\u001B[49m\n\u001B[0;32m   1220\u001B[0m \u001B[43m    \u001B[49m\u001B[43mencoding\u001B[49m\u001B[38;5;241;43m=\u001B[39;49m\u001B[38;5;28;43mself\u001B[39;49m\u001B[38;5;241;43m.\u001B[39;49m\u001B[43moptions\u001B[49m\u001B[38;5;241;43m.\u001B[39;49m\u001B[43mget\u001B[49m\u001B[43m(\u001B[49m\u001B[38;5;124;43m\"\u001B[39;49m\u001B[38;5;124;43mencoding\u001B[39;49m\u001B[38;5;124;43m\"\u001B[39;49m\u001B[43m,\u001B[49m\u001B[43m \u001B[49m\u001B[38;5;28;43;01mNone\u001B[39;49;00m\u001B[43m)\u001B[49m\u001B[43m,\u001B[49m\n\u001B[0;32m   1221\u001B[0m \u001B[43m    \u001B[49m\u001B[43mcompression\u001B[49m\u001B[38;5;241;43m=\u001B[39;49m\u001B[38;5;28;43mself\u001B[39;49m\u001B[38;5;241;43m.\u001B[39;49m\u001B[43moptions\u001B[49m\u001B[38;5;241;43m.\u001B[39;49m\u001B[43mget\u001B[49m\u001B[43m(\u001B[49m\u001B[38;5;124;43m\"\u001B[39;49m\u001B[38;5;124;43mcompression\u001B[39;49m\u001B[38;5;124;43m\"\u001B[39;49m\u001B[43m,\u001B[49m\u001B[43m \u001B[49m\u001B[38;5;28;43;01mNone\u001B[39;49;00m\u001B[43m)\u001B[49m\u001B[43m,\u001B[49m\n\u001B[0;32m   1222\u001B[0m \u001B[43m    \u001B[49m\u001B[43mmemory_map\u001B[49m\u001B[38;5;241;43m=\u001B[39;49m\u001B[38;5;28;43mself\u001B[39;49m\u001B[38;5;241;43m.\u001B[39;49m\u001B[43moptions\u001B[49m\u001B[38;5;241;43m.\u001B[39;49m\u001B[43mget\u001B[49m\u001B[43m(\u001B[49m\u001B[38;5;124;43m\"\u001B[39;49m\u001B[38;5;124;43mmemory_map\u001B[39;49m\u001B[38;5;124;43m\"\u001B[39;49m\u001B[43m,\u001B[49m\u001B[43m \u001B[49m\u001B[38;5;28;43;01mFalse\u001B[39;49;00m\u001B[43m)\u001B[49m\u001B[43m,\u001B[49m\n\u001B[0;32m   1223\u001B[0m \u001B[43m    \u001B[49m\u001B[43mis_text\u001B[49m\u001B[38;5;241;43m=\u001B[39;49m\u001B[43mis_text\u001B[49m\u001B[43m,\u001B[49m\n\u001B[0;32m   1224\u001B[0m \u001B[43m    \u001B[49m\u001B[43merrors\u001B[49m\u001B[38;5;241;43m=\u001B[39;49m\u001B[38;5;28;43mself\u001B[39;49m\u001B[38;5;241;43m.\u001B[39;49m\u001B[43moptions\u001B[49m\u001B[38;5;241;43m.\u001B[39;49m\u001B[43mget\u001B[49m\u001B[43m(\u001B[49m\u001B[38;5;124;43m\"\u001B[39;49m\u001B[38;5;124;43mencoding_errors\u001B[39;49m\u001B[38;5;124;43m\"\u001B[39;49m\u001B[43m,\u001B[49m\u001B[43m \u001B[49m\u001B[38;5;124;43m\"\u001B[39;49m\u001B[38;5;124;43mstrict\u001B[39;49m\u001B[38;5;124;43m\"\u001B[39;49m\u001B[43m)\u001B[49m\u001B[43m,\u001B[49m\n\u001B[0;32m   1225\u001B[0m \u001B[43m    \u001B[49m\u001B[43mstorage_options\u001B[49m\u001B[38;5;241;43m=\u001B[39;49m\u001B[38;5;28;43mself\u001B[39;49m\u001B[38;5;241;43m.\u001B[39;49m\u001B[43moptions\u001B[49m\u001B[38;5;241;43m.\u001B[39;49m\u001B[43mget\u001B[49m\u001B[43m(\u001B[49m\u001B[38;5;124;43m\"\u001B[39;49m\u001B[38;5;124;43mstorage_options\u001B[39;49m\u001B[38;5;124;43m\"\u001B[39;49m\u001B[43m,\u001B[49m\u001B[43m \u001B[49m\u001B[38;5;28;43;01mNone\u001B[39;49;00m\u001B[43m)\u001B[49m\u001B[43m,\u001B[49m\n\u001B[0;32m   1226\u001B[0m \u001B[43m\u001B[49m\u001B[43m)\u001B[49m\n\u001B[0;32m   1227\u001B[0m \u001B[38;5;28;01massert\u001B[39;00m \u001B[38;5;28mself\u001B[39m\u001B[38;5;241m.\u001B[39mhandles \u001B[38;5;129;01mis\u001B[39;00m \u001B[38;5;129;01mnot\u001B[39;00m \u001B[38;5;28;01mNone\u001B[39;00m\n\u001B[0;32m   1228\u001B[0m f \u001B[38;5;241m=\u001B[39m \u001B[38;5;28mself\u001B[39m\u001B[38;5;241m.\u001B[39mhandles\u001B[38;5;241m.\u001B[39mhandle\n",
      "File \u001B[1;32m~\\anaconda3\\lib\\site-packages\\pandas\\io\\common.py:789\u001B[0m, in \u001B[0;36mget_handle\u001B[1;34m(path_or_buf, mode, encoding, compression, memory_map, is_text, errors, storage_options)\u001B[0m\n\u001B[0;32m    784\u001B[0m \u001B[38;5;28;01melif\u001B[39;00m \u001B[38;5;28misinstance\u001B[39m(handle, \u001B[38;5;28mstr\u001B[39m):\n\u001B[0;32m    785\u001B[0m     \u001B[38;5;66;03m# Check whether the filename is to be opened in binary mode.\u001B[39;00m\n\u001B[0;32m    786\u001B[0m     \u001B[38;5;66;03m# Binary mode does not support 'encoding' and 'newline'.\u001B[39;00m\n\u001B[0;32m    787\u001B[0m     \u001B[38;5;28;01mif\u001B[39;00m ioargs\u001B[38;5;241m.\u001B[39mencoding \u001B[38;5;129;01mand\u001B[39;00m \u001B[38;5;124m\"\u001B[39m\u001B[38;5;124mb\u001B[39m\u001B[38;5;124m\"\u001B[39m \u001B[38;5;129;01mnot\u001B[39;00m \u001B[38;5;129;01min\u001B[39;00m ioargs\u001B[38;5;241m.\u001B[39mmode:\n\u001B[0;32m    788\u001B[0m         \u001B[38;5;66;03m# Encoding\u001B[39;00m\n\u001B[1;32m--> 789\u001B[0m         handle \u001B[38;5;241m=\u001B[39m \u001B[38;5;28;43mopen\u001B[39;49m\u001B[43m(\u001B[49m\n\u001B[0;32m    790\u001B[0m \u001B[43m            \u001B[49m\u001B[43mhandle\u001B[49m\u001B[43m,\u001B[49m\n\u001B[0;32m    791\u001B[0m \u001B[43m            \u001B[49m\u001B[43mioargs\u001B[49m\u001B[38;5;241;43m.\u001B[39;49m\u001B[43mmode\u001B[49m\u001B[43m,\u001B[49m\n\u001B[0;32m    792\u001B[0m \u001B[43m            \u001B[49m\u001B[43mencoding\u001B[49m\u001B[38;5;241;43m=\u001B[39;49m\u001B[43mioargs\u001B[49m\u001B[38;5;241;43m.\u001B[39;49m\u001B[43mencoding\u001B[49m\u001B[43m,\u001B[49m\n\u001B[0;32m    793\u001B[0m \u001B[43m            \u001B[49m\u001B[43merrors\u001B[49m\u001B[38;5;241;43m=\u001B[39;49m\u001B[43merrors\u001B[49m\u001B[43m,\u001B[49m\n\u001B[0;32m    794\u001B[0m \u001B[43m            \u001B[49m\u001B[43mnewline\u001B[49m\u001B[38;5;241;43m=\u001B[39;49m\u001B[38;5;124;43m\"\u001B[39;49m\u001B[38;5;124;43m\"\u001B[39;49m\u001B[43m,\u001B[49m\n\u001B[0;32m    795\u001B[0m \u001B[43m        \u001B[49m\u001B[43m)\u001B[49m\n\u001B[0;32m    796\u001B[0m     \u001B[38;5;28;01melse\u001B[39;00m:\n\u001B[0;32m    797\u001B[0m         \u001B[38;5;66;03m# Binary mode\u001B[39;00m\n\u001B[0;32m    798\u001B[0m         handle \u001B[38;5;241m=\u001B[39m \u001B[38;5;28mopen\u001B[39m(handle, ioargs\u001B[38;5;241m.\u001B[39mmode)\n",
      "\u001B[1;31mFileNotFoundError\u001B[0m: [Errno 2] No such file or directory: 'Loan_status_2007-2020Q3.gzip'"
     ]
    }
   ],
   "source": [
    "df = pd.read_csv(\"Loan_status_2007-2020Q3.gzip\", low_memory=False)\n",
    "df.head()"
   ]
  },
  {
   "cell_type": "code",
   "execution_count": null,
   "metadata": {
    "colab": {
     "base_uri": "https://localhost:8080/"
    },
    "id": "vr65ngbRMG09",
    "outputId": "8a2ebae2-5159-417c-a7fe-fb77a18fa225"
   },
   "outputs": [],
   "source": [
    "df.shape #Clearly there are way too many columns. We are gonna drop some columns(features) by implementing several constrictions"
   ]
  },
  {
   "cell_type": "code",
   "execution_count": null,
   "metadata": {
    "colab": {
     "base_uri": "https://localhost:8080/"
    },
    "id": "SGjLuhYHMK3u",
    "outputId": "9429f13c-4f9e-47a6-9d97-d05d6ea819d8"
   },
   "outputs": [],
   "source": [
    "df.info()"
   ]
  },
  {
   "cell_type": "code",
   "execution_count": null,
   "metadata": {
    "colab": {
     "base_uri": "https://localhost:8080/",
     "height": 393
    },
    "id": "kiqppazPNOgA",
    "outputId": "f77646f3-fb2b-4a05-f996-2b1e293ac2f8"
   },
   "outputs": [],
   "source": [
    "df.describe()"
   ]
  },
  {
   "cell_type": "code",
   "execution_count": null,
   "metadata": {
    "colab": {
     "base_uri": "https://localhost:8080/"
    },
    "id": "vxENyD6FNRqR",
    "outputId": "4377af3a-40a0-4deb-8756-dc0921fb96c9"
   },
   "outputs": [],
   "source": [
    "df.isnull().sum()"
   ]
  },
  {
   "cell_type": "code",
   "execution_count": null,
   "metadata": {
    "colab": {
     "base_uri": "https://localhost:8080/"
    },
    "id": "A-Fz7aSqUUcs",
    "outputId": "f7dcb432-f318-40c4-e105-3cf2b2b90973"
   },
   "outputs": [],
   "source": [
    "df['loan_status'].value_counts()"
   ]
  },
  {
   "cell_type": "code",
   "execution_count": null,
   "metadata": {
    "colab": {
     "base_uri": "https://localhost:8080/",
     "height": 521
    },
    "id": "al7fX1abSS9Y",
    "outputId": "fecc4db9-3cf5-49d4-a62a-7e9a85f419d3"
   },
   "outputs": [],
   "source": [
    "counts = df['loan_status'].value_counts()\n",
    "plt.figure(figsize=(30,15))\n",
    "plt.title('Value Counts of loan_status')\n",
    "plt.pie(counts, labels=counts.index, autopct='%.1f%%')\n",
    "plt.show()"
   ]
  },
  {
   "attachments": {},
   "cell_type": "markdown",
   "metadata": {
    "id": "UoUsQSw5Qel7"
   },
   "source": [
    "## Preprocessing : Dropping columns having lots of data missing"
   ]
  },
  {
   "cell_type": "code",
   "execution_count": null,
   "metadata": {
    "colab": {
     "base_uri": "https://localhost:8080/"
    },
    "id": "IXHaoNfHQnm6",
    "outputId": "bd315cc2-e0cd-4e36-ac0e-32e8c5bff973"
   },
   "outputs": [],
   "source": [
    "missing_data = df.isnull().mean().sort_values(ascending=False)\n",
    "missing_data.head()"
   ]
  },
  {
   "cell_type": "code",
   "execution_count": null,
   "metadata": {
    "colab": {
     "base_uri": "https://localhost:8080/",
     "height": 527
    },
    "id": "ndKiNwdeSASb",
    "outputId": "0936fcf9-f657-48a9-b2fb-29bdf37d78c1"
   },
   "outputs": [],
   "source": [
    "plt.figure(figsize=(10,6), dpi=90)\n",
    "missing_data.plot.hist()\n",
    "plt.title('Histogram of Feature Incompleteness')\n",
    "plt.xlabel('Fraction of missing data')\n",
    "plt.ylabel('Feature count')"
   ]
  },
  {
   "cell_type": "code",
   "execution_count": null,
   "metadata": {
    "colab": {
     "base_uri": "https://localhost:8080/"
    },
    "id": "r26876RLfZOJ",
    "outputId": "c8226148-114a-4d61-a5ef-552feb21c439"
   },
   "outputs": [],
   "source": [
    "drop_list = sorted(list(missing_data[missing_data > 0.6].index)) #listing columns having more than 60 percent of missing data\n",
    "print(drop_list)\n",
    "print(\"Drop Features: \", len(drop_list))"
   ]
  },
  {
   "cell_type": "code",
   "execution_count": null,
   "metadata": {
    "colab": {
     "base_uri": "https://localhost:8080/"
    },
    "id": "Q_hxpp7BiMWI",
    "outputId": "2824b4e7-def4-4512-f0ed-21a371d00177"
   },
   "outputs": [],
   "source": [
    "df.drop(labels=drop_list, axis=1, inplace=True) #dropping columns having more than 60 percent of data\n",
    "df.shape"
   ]
  },
  {
   "cell_type": "code",
   "execution_count": null,
   "metadata": {},
   "outputs": [],
   "source": [
    "df['loan_status'].shape"
   ]
  },
  {
   "cell_type": "code",
   "execution_count": null,
   "metadata": {
    "colab": {
     "base_uri": "https://localhost:8080/",
     "height": 206
    },
    "id": "kAOsxFAriN8x",
    "outputId": "9a9a8c4e-dab8-488d-ff82-0f383f77649c"
   },
   "outputs": [],
   "source": [
    "df['Charged_Off'] = df.loan_status.map({'Fully Paid':0,'Charged Off':1,'Current':0,'Late (31-120 days)':0,'In Grace Period':0,'Late (16-30 days)':0,'Issued':0,'Does not meet the credit policy. Status:Fully Paid':0,'Does not meet the credit policy. Status:Charged Off':0,'Default':0}) #creating a target column using 0 in case of fully paid and 1 in case of charged off\n",
    "df[['loan_status', 'Charged_Off']].head(15)"
   ]
  },
  {
   "cell_type": "code",
   "execution_count": null,
   "metadata": {},
   "outputs": [],
   "source": [
    "df['Charged_Off'].shape"
   ]
  },
  {
   "cell_type": "code",
   "execution_count": null,
   "metadata": {
    "colab": {
     "base_uri": "https://localhost:8080/"
    },
    "id": "tTBvKryyjti4",
    "outputId": "bf4759ec-c167-47b9-ed57-2b7b62d32bbc"
   },
   "outputs": [],
   "source": [
    "df.corr()['Charged_Off'].sort_values(ascending=False).dropna() #Now we check for features most relevant to charged off status using correlation method"
   ]
  },
  {
   "cell_type": "code",
   "execution_count": null,
   "metadata": {
    "colab": {
     "base_uri": "https://localhost:8080/"
    },
    "id": "ssb5V6I3kHz6",
    "outputId": "dd85912e-1408-4a36-975b-c4ca2cfcba96"
   },
   "outputs": [],
   "source": [
    "features_selected = ['Charged_Off','recoveries','collection_recovery_fee', 'total_rec_late_fee', 'inq_last_6mths', 'pub_rec', 'pub_rec_bankruptcies', 'loan_amnt', 'funded_amnt', 'dti', 'id', 'funded_amnt_inv', 'delinq_2yrs', 'installment', 'open_acc', 'total_acc', 'annual_inc', 'fico_range_high', 'fico_range_low', 'last_pymnt_amnt', 'total_pymnt', 'total_pymnt_inv','total_rec_prncp', 'last_fico_range_low', 'last_fico_range_high']\n",
    "len(features_selected)"
   ]
  },
  {
   "cell_type": "code",
   "execution_count": null,
   "metadata": {
    "colab": {
     "base_uri": "https://localhost:8080/",
     "height": 299
    },
    "id": "DL0Dfi1TmS9I",
    "outputId": "a8fe08aa-35bc-47eb-90b6-c8efae36ae53"
   },
   "outputs": [],
   "source": [
    "#So we have the new dataframe with the selected features\n",
    "df2 = df.loc[:, ['Charged_Off','recoveries','collection_recovery_fee', 'total_rec_late_fee', 'inq_last_6mths', 'pub_rec', 'pub_rec_bankruptcies', 'loan_amnt', 'funded_amnt', 'dti', 'id', 'funded_amnt_inv', 'delinq_2yrs', 'installment', 'open_acc', 'total_acc', 'annual_inc', 'fico_range_high', 'fico_range_low', 'last_pymnt_amnt', 'total_pymnt', 'total_pymnt_inv','total_rec_prncp', 'last_fico_range_low', 'last_fico_range_high']]"
   ]
  },
  {
   "cell_type": "code",
   "execution_count": null,
   "metadata": {},
   "outputs": [],
   "source": [
    "df2.shape"
   ]
  },
  {
   "attachments": {},
   "cell_type": "markdown",
   "metadata": {
    "id": "74MSRSt2smBK"
   },
   "source": [
    "## Further Cleaning"
   ]
  },
  {
   "cell_type": "code",
   "execution_count": null,
   "metadata": {
    "colab": {
     "base_uri": "https://localhost:8080/"
    },
    "id": "vIH62s3Im0Ol",
    "outputId": "dc437b72-3049-40c8-faac-0abe9e216416"
   },
   "outputs": [],
   "source": [
    "df2.isnull().sum()"
   ]
  },
  {
   "cell_type": "code",
   "execution_count": null,
   "metadata": {
    "colab": {
     "base_uri": "https://localhost:8080/"
    },
    "id": "drAUjDOCrFCf",
    "outputId": "adbe301b-73dd-4997-9621-bb4099118604"
   },
   "outputs": [],
   "source": [
    "df2.dropna(inplace=True) #dropping any remaining null values\n",
    "df2.isnull().sum()"
   ]
  },
  {
   "cell_type": "code",
   "execution_count": null,
   "metadata": {
    "colab": {
     "base_uri": "https://localhost:8080/"
    },
    "id": "IxwcPwM4sEga",
    "outputId": "14f5b545-5fce-4ff4-844c-90bc046b026a"
   },
   "outputs": [],
   "source": [
    "df2.duplicated().sum() #no duplicates"
   ]
  },
  {
   "cell_type": "code",
   "execution_count": null,
   "metadata": {
    "colab": {
     "base_uri": "https://localhost:8080/"
    },
    "id": "1U_rp0MdsZAS",
    "outputId": "2498f9ac-29ae-472d-8cd1-5128696fa813"
   },
   "outputs": [],
   "source": [
    "df2.shape"
   ]
  },
  {
   "cell_type": "code",
   "execution_count": null,
   "metadata": {},
   "outputs": [],
   "source": [
    "df2.to_csv(\"cleaned_dataset\", index=False)"
   ]
  },
  {
   "attachments": {},
   "cell_type": "markdown",
   "metadata": {
    "id": "ie8CyTyKto9v"
   },
   "source": [
    "## Exploratory Data Analysis"
   ]
  },
  {
   "cell_type": "code",
   "execution_count": null,
   "metadata": {
    "colab": {
     "base_uri": "https://localhost:8080/",
     "height": 559
    },
    "id": "l85CbPZDxkds",
    "outputId": "b32a05e9-f184-4694-cee0-f0ea37645181"
   },
   "outputs": [],
   "source": [
    "plt.figure(figsize=(30,15)) #plotting the graph for open_acc value count\n",
    "plt.xticks(rotation=90)\n",
    "ax = sns.countplot(x=\"open_acc\", data=df)"
   ]
  },
  {
   "cell_type": "code",
   "execution_count": null,
   "metadata": {
    "colab": {
     "base_uri": "https://localhost:8080/",
     "height": 632
    },
    "id": "VbrRTU12wQXx",
    "outputId": "806e42f5-97be-4a44-8001-bed13321f687"
   },
   "outputs": [],
   "source": [
    "plt.figure(figsize=(10,6))\n",
    "df.loan_status.value_counts().plot.bar()\n",
    "plt.title('Loan Status Bar Plot')"
   ]
  },
  {
   "cell_type": "code",
   "execution_count": null,
   "metadata": {
    "colab": {
     "base_uri": "https://localhost:8080/",
     "height": 564
    },
    "id": "NJdsfG66u5KQ",
    "outputId": "c6545897-1ad4-4c09-cb2b-4f3a612dc3ce"
   },
   "outputs": [],
   "source": [
    "#Plotting the graph against the loan amount and loan status.\n",
    "plt.figure(figsize=(10,6))\n",
    "sns.boxplot(x='loan_amnt', y='loan_status', data=df)\n",
    "plt.title('Box Plot of loan_status vs loan-amnt')\n",
    "plt.show()\n"
   ]
  },
  {
   "cell_type": "code",
   "execution_count": null,
   "metadata": {
    "colab": {
     "base_uri": "https://localhost:8080/",
     "height": 564
    },
    "id": "S2sn8bwey_U2",
    "outputId": "82ba42d6-ffde-4ace-b03c-77e1791bb0d5"
   },
   "outputs": [],
   "source": [
    "value_counts = df['int_rate'].value_counts().sort_index() #Plotting the graph of interest rates counts\n",
    "plt.figure(figsize=(10,6))\n",
    "plt.bar(value_counts.index, value_counts.values)\n",
    "plt.title('Bar Plot of Interest Rates')\n",
    "plt.xlabel('Interest Rate')\n",
    "plt.ylabel('Counts')\n",
    "plt.xlim(0, 14)\n",
    "plt.show()"
   ]
  },
  {
   "cell_type": "code",
   "execution_count": null,
   "metadata": {
    "colab": {
     "base_uri": "https://localhost:8080/",
     "height": 564
    },
    "id": "tBz_a5yO0jyS",
    "outputId": "9628b9de-eb4a-4445-ea55-62fe32129c70"
   },
   "outputs": [],
   "source": [
    "plt.figure(figsize=(10,6)) #Plotting Subgrade Distribution\n",
    "sns.countplot(x='sub_grade',data=df, palette='coolwarm')\n",
    "plt.title('Subgrade Distribution');"
   ]
  },
  {
   "cell_type": "code",
   "execution_count": null,
   "metadata": {
    "colab": {
     "base_uri": "https://localhost:8080/"
    },
    "id": "UbAvO9vO6378",
    "outputId": "89f68e60-35f3-4d43-f7d0-2f8f2a2da507"
   },
   "outputs": [],
   "source": [
    "# converting emp_length to integer for better indexing and training\n",
    "emp_len_map = {\n",
    "    '< 1 year' : 0,\n",
    "    '1 year' : 1, \n",
    "    '2 years' : 2,\n",
    "    '3 years' : 3, \n",
    "    '4 years' : 4,\n",
    "    '5 years' : 5, \n",
    "    '6 years' : 6, \n",
    "    '7 years' : 7, \n",
    "    '8 years' : 8,\n",
    "    '9 years' : 9, \n",
    "   '10+ years': 10,\n",
    "}\n",
    "df_emp = df.dropna(subset=['emp_length']) #to deal with nan values\n",
    "df_emp['emp_length'] = df_emp.apply(lambda r: emp_len_map[r.emp_length], axis=1)"
   ]
  },
  {
   "cell_type": "code",
   "execution_count": null,
   "metadata": {
    "colab": {
     "base_uri": "https://localhost:8080/",
     "height": 581
    },
    "id": "npDMqXLW3mvp",
    "outputId": "e2f25c2e-891f-4ee1-f6a5-ded7256baeb0"
   },
   "outputs": [],
   "source": [
    "plt.figure(figsize=(10,6)) #Plotting emp_length distribution\n",
    "vc = df_emp['emp_length'].value_counts().sort_index()\n",
    "sns.countplot(x='emp_length',data=df_emp, order =vc.index, palette='viridis')\n",
    "plt.title('emp_length Distribution')"
   ]
  },
  {
   "cell_type": "code",
   "execution_count": null,
   "metadata": {
    "colab": {
     "base_uri": "https://localhost:8080/",
     "height": 564
    },
    "id": "puVBx1Kk53pp",
    "outputId": "2e96696d-22c0-4734-98ee-fdf175cfd2e5"
   },
   "outputs": [],
   "source": [
    "plt.figure(figsize=(10,6), dpi=90) #plotting the dti (debt to income ratio)\n",
    "sns.displot(df.loc[df['dti'].notnull() & (df['dti']<50), 'dti'], kde=False)\n",
    "plt.xlabel('Debt to income Ratio')\n",
    "plt.ylabel('Count')\n",
    "plt.title('Debt to income Ratio Plot')"
   ]
  },
  {
   "cell_type": "code",
   "execution_count": null,
   "metadata": {
    "colab": {
     "base_uri": "https://localhost:8080/",
     "height": 522
    },
    "id": "smn8DowRDShE",
    "outputId": "d7363c7f-c224-4fd4-c7c4-518fd3704327"
   },
   "outputs": [],
   "source": [
    "plt.figure(figsize=(30,10)) #Plotting heatmap of the Correlation of all the features\n",
    "sns.heatmap(df2.corr(), annot=True, cmap='coolwarm')\n",
    "plt.title('Feature Correlation')"
   ]
  },
  {
   "cell_type": "code",
   "execution_count": null,
   "metadata": {
    "id": "W9GwLyTYLpB5"
   },
   "outputs": [],
   "source": [
    "# It is clearly visible that there are some strong correlations betwee multile features.\n",
    "# We need to drop some of these highly correlated features as the model can get biased by this strong correlations.\n",
    "# funded_amnt has very high correlation with loan_amnt, so we drop funded_amnt\n",
    "# \n",
    "# collection_recovery_fee has very high correlation with recoveries, so we drop collection_recovery_fee\n",
    "# total_pymnt has very high correlation with total_pymnt_inv, so we drop total_pymnt_inv\n",
    "# loan_amnt has very high correlation with funded_amnt, so we drop funded_amnt\n",
    "# fico_range_high has very high correlation with fico_range_low, so we drop fico_range_low\n",
    "# funded_amnt_inv has very high correlation with loan_amnt, so we drop funded_amnt_inv\n",
    "# total_rec_prncp has very high correlation with both total_paymnt, so we drop total_rec_prncp\n",
    "\n",
    "df2.drop(['funded_amnt_inv','total_pymnt_inv','funded_amnt','collection_recovery_fee','total_rec_prncp','fico_range_low'],axis=1,inplace=True)\n"
   ]
  },
  {
   "attachments": {},
   "cell_type": "markdown",
   "metadata": {
    "id": "--roYkR0QXi9"
   },
   "source": [
    "## More preprocessing"
   ]
  },
  {
   "attachments": {},
   "cell_type": "markdown",
   "metadata": {
    "id": "7eS4wt0sQmX_"
   },
   "source": [
    "Performing Feature Scaling"
   ]
  },
  {
   "cell_type": "code",
   "execution_count": null,
   "metadata": {},
   "outputs": [],
   "source": [
    "df2.shape"
   ]
  },
  {
   "cell_type": "code",
   "execution_count": null,
   "metadata": {},
   "outputs": [],
   "source": [
    "df2.isnull().sum()\n",
    "df2.dropna(inplace=True)"
   ]
  },
  {
   "cell_type": "code",
   "execution_count": null,
   "metadata": {},
   "outputs": [],
   "source": [
    "df2.shape"
   ]
  },
  {
   "cell_type": "code",
   "execution_count": null,
   "metadata": {
    "id": "7mnEjv8kr3lS"
   },
   "outputs": [],
   "source": [
    "target = df2['Charged_Off'] #setting up the target variable\n",
    "numeric_features = df2.select_dtypes(exclude=['object', 'category'])\n",
    "numeric_features = numeric_features.drop('Charged_Off', axis = 1) #dropping the Charged Off column, as we don't want that to be scaled.\n",
    "from sklearn.preprocessing import StandardScaler\n",
    "sc = StandardScaler()\n",
    "scaled = sc.fit_transform(numeric_features)"
   ]
  },
  {
   "cell_type": "code",
   "execution_count": null,
   "metadata": {},
   "outputs": [],
   "source": [
    "target = target.astype(int) #Checking target variable\n",
    "print(target.shape)\n",
    "target.head()"
   ]
  },
  {
   "cell_type": "code",
   "execution_count": null,
   "metadata": {
    "colab": {
     "base_uri": "https://localhost:8080/"
    },
    "id": "O3vmZg8jcO3W",
    "outputId": "c30f2904-29b3-4896-b9c5-727ff9e41fe3"
   },
   "outputs": [],
   "source": [
    "numeric_features.columns"
   ]
  },
  {
   "cell_type": "code",
   "execution_count": null,
   "metadata": {
    "colab": {
     "base_uri": "https://localhost:8080/",
     "height": 270
    },
    "id": "YRs4O2u8cuky",
    "outputId": "8755b120-cbbf-4b2e-c69f-16c292cc7771"
   },
   "outputs": [],
   "source": [
    "scaled_features = pd.DataFrame(scaled, columns=['recoveries', 'total_rec_late_fee', 'inq_last_6mths', 'pub_rec',\n",
    "       'pub_rec_bankruptcies', 'loan_amnt', 'dti', 'delinq_2yrs',\n",
    "       'installment', 'open_acc', 'total_acc', 'annual_inc', 'fico_range_high',\n",
    "       'last_pymnt_amnt', 'total_pymnt', 'last_fico_range_low',\n",
    "       'last_fico_range_high'], index= numeric_features.index)\n",
    "scaled_features.head()"
   ]
  },
  {
   "cell_type": "code",
   "execution_count": null,
   "metadata": {},
   "outputs": [],
   "source": [
    "df2.select_dtypes(['object', 'category']).info()\n",
    "df2.select_dtypes(['object', 'category'])\n"
   ]
  },
  {
   "cell_type": "code",
   "execution_count": null,
   "metadata": {
    "id": "U8mIQev0d7ha"
   },
   "outputs": [],
   "source": [
    "# df2 dataframe has only one categorical value having object datatype.\n",
    "#The 'id' is just an unique assigned ID, which will not play any significant role in the prediction process.\n",
    "#So there is no need of One Hot Encoding of that column."
   ]
  },
  {
   "cell_type": "code",
   "execution_count": null,
   "metadata": {
    "colab": {
     "base_uri": "https://localhost:8080/"
    },
    "id": "L59SJfphivEd",
    "outputId": "197344b0-935d-444b-c555-18b5b86c7322"
   },
   "outputs": [],
   "source": [
    "scaled_features.shape  #These are our predictor variables"
   ]
  },
  {
   "cell_type": "code",
   "execution_count": null,
   "metadata": {},
   "outputs": [],
   "source": [
    "target.shape #These are our target variables"
   ]
  },
  {
   "attachments": {},
   "cell_type": "markdown",
   "metadata": {
    "id": "-mT90mk7lec7"
   },
   "source": [
    "Creating Train_Test Split"
   ]
  },
  {
   "cell_type": "code",
   "execution_count": null,
   "metadata": {
    "id": "ybTD2ZE2i5q3"
   },
   "outputs": [],
   "source": [
    "from sklearn.model_selection import train_test_split\n",
    "from sklearn.tree import DecisionTreeClassifier\n",
    "from sklearn.metrics import confusion_matrix, classification_report, accuracy_score, f1_score\n",
    "from sklearn.model_selection import GridSearchCV\n",
    "\n",
    "X = scaled_features\n",
    "Y = target\n",
    "X_train, X_test, Y_train, Y_test = train_test_split(X, Y, train_size=0.8, shuffle=True, random_state=42)\n"
   ]
  },
  {
   "cell_type": "code",
   "execution_count": null,
   "metadata": {},
   "outputs": [],
   "source": [
    "X.shape\n"
   ]
  },
  {
   "cell_type": "code",
   "execution_count": null,
   "metadata": {},
   "outputs": [],
   "source": [
    "Y.shape"
   ]
  },
  {
   "cell_type": "code",
   "execution_count": null,
   "metadata": {
    "colab": {
     "base_uri": "https://localhost:8080/",
     "height": 586
    },
    "id": "l0NZR2eRs6FH",
    "outputId": "83f096ef-7f3c-43b0-964a-8112806cf52d"
   },
   "outputs": [],
   "source": [
    "# Creating a Decision Tree Classifier object\n",
    "dt = DecisionTreeClassifier()\n",
    "\n",
    "# Defining the parameter grid \n",
    "parameters = {'max_depth': [2, 4, 6, 8],\n",
    "          'min_samples_split': [2, 5, 10, 15],\n",
    "          'min_samples_leaf': [1, 2, 4, 8]}\n",
    "\n",
    "\n",
    "grid_search = GridSearchCV(dt, param_grid = parameters, cv=5)\n",
    "\n",
    "# Fitting the GridSearchCV object to the dataset\n",
    "grid_search.fit(X, Y)\n",
    "\n",
    "# Printing the best parameters \n",
    "print(\"Best parameters:\", grid_search.best_params_)\n",
    "\n",
    "#getting associated grid score\n",
    "train_score = grid_search.score(X_train, Y_train)\n",
    "test_score = grid_search.score(X_test, Y_test)\n",
    "\n",
    "Y_pred = grid_search.predict(X_test)\n",
    "\n",
    "# Computing accuracy of the model\n",
    "accuracy = accuracy_score(Y_test, Y_pred)\n",
    "f1_score_dt = f1_score(Y_test, Y_pred, average='weighted')\n",
    "\n",
    "#Printing the scores\n",
    "print(\"Train score: \", train_score)\n",
    "print(\"Test score: \", test_score)\n",
    "print(\"f1 score: \", f1_score_dt)\n",
    "print(\"Accuracy: \", accuracy)\n",
    "\n",
    "cm = confusion_matrix(Y_test, Y_pred)\n",
    "sns.heatmap(cm/np.sum(cm), annot=True, fmt='.2%', cmap='coolwarm')\n",
    "plt.title('Confusion Matrix of Decision Tree Classifier', fontweight='bold', fontsize=18)\n",
    "plt.xlabel('Predicted', fontweight='bold', fontsize=14)\n",
    "plt.ylabel('Actual', fontweight='bold', fontsize=14)"
   ]
  },
  {
   "attachments": {},
   "cell_type": "markdown",
   "metadata": {
    "id": "goTT_59Pz4Ba"
   },
   "source": [
    "Feature Importance Plot"
   ]
  },
  {
   "cell_type": "code",
   "execution_count": null,
   "metadata": {
    "colab": {
     "base_uri": "https://localhost:8080/",
     "height": 472
    },
    "id": "CtUzRLWetwHm",
    "outputId": "a7329469-761c-41cf-d591-e154ecaf1541"
   },
   "outputs": [],
   "source": [
    "best_estimator = grid_search.best_estimator_ #getting the best features trough best attribute method\n",
    "importance_fraction = best_estimator.feature_importances_\n",
    "\n",
    "# creating a dataframe having feature names and their corresponding importance fraction\n",
    "feat_importances = pd.DataFrame({'Feature': X.columns, 'Importance': importance_fraction})\n",
    "\n",
    "# sorting the dataframe by importance in descending order\n",
    "feat_importances = feat_importances.sort_values('Importance', ascending=False)\n",
    "\n",
    "# visualizing the important features using a horizontal barplot\n",
    "sns.barplot(x='Importance', y='Feature', data=feat_importances[:10], color=\"steelblue\")\n",
    "plt.title('Feature Importance Plot')\n",
    "plt.xlabel('Importance')\n",
    "plt.ylabel('Feature')\n",
    "plt.show()\n"
   ]
  }
 ],
 "metadata": {
  "colab": {
   "provenance": []
  },
  "kernelspec": {
   "name": "python3",
   "language": "python",
   "display_name": "Python 3 (ipykernel)"
  },
  "language_info": {
   "codemirror_mode": {
    "name": "ipython",
    "version": 3
   },
   "file_extension": ".py",
   "mimetype": "text/x-python",
   "name": "python",
   "nbconvert_exporter": "python",
   "pygments_lexer": "ipython3",
   "version": "3.10.11"
  }
 },
 "nbformat": 4,
 "nbformat_minor": 0
}
