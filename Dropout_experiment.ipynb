{
 "cells": [
  {
   "cell_type": "code",
   "execution_count": 1,
   "outputs": [],
   "source": [
    "import pandas as pd\n",
    "X = pd.read_csv(r'C:\\Users\\User\\Machine_Learning_Projects\\Dropout_Prediction\\Input.csv')\n",
    "Y = pd.read_csv(r'C:\\Users\\User\\Machine_Learning_Projects\\Dropout_Prediction\\Output.csv')"
   ],
   "metadata": {
    "collapsed": false,
    "ExecuteTime": {
     "end_time": "2023-06-16T19:11:44.244728300Z",
     "start_time": "2023-06-16T19:11:44.195726400Z"
    }
   }
  },
  {
   "cell_type": "code",
   "execution_count": 2,
   "metadata": {
    "collapsed": true,
    "ExecuteTime": {
     "end_time": "2023-06-16T19:11:44.482748Z",
     "start_time": "2023-06-16T19:11:44.232732400Z"
    }
   },
   "outputs": [],
   "source": [
    "import joblib"
   ]
  },
  {
   "cell_type": "code",
   "execution_count": 3,
   "outputs": [],
   "source": [
    "model = joblib.load(r\"C:\\Users\\User\\Machine_Learning_Projects\\Dropout_Prediction\\Dropout_Prediction_Model.joblib\")"
   ],
   "metadata": {
    "collapsed": false,
    "ExecuteTime": {
     "end_time": "2023-06-16T19:11:44.831011300Z",
     "start_time": "2023-06-16T19:11:44.485748600Z"
    }
   }
  },
  {
   "cell_type": "code",
   "execution_count": 4,
   "outputs": [
    {
     "data": {
      "text/plain": "      Marital status  Application mode  Application order  Course  \\\n0                  1                 8                  5       2   \n1                  1                 6                  1      11   \n2                  1                 1                  5       5   \n3                  1                 8                  2      15   \n4                  2                12                  1       3   \n...              ...               ...                ...     ...   \n3625               1                 1                  6      15   \n3626               1                 1                  2      15   \n3627               1                 1                  1      12   \n3628               1                 1                  1       9   \n3629               1                 5                  1      15   \n\n      Daytime/evening attendance  Previous qualification  \\\n0                              1                       1   \n1                              1                       1   \n2                              1                       1   \n3                              1                       1   \n4                              0                       1   \n...                          ...                     ...   \n3625                           1                       1   \n3626                           1                       1   \n3627                           1                       1   \n3628                           1                       1   \n3629                           1                       1   \n\n      Mother's qualification  Father's qualification  Mother's occupation  \\\n0                         13                      10                    6   \n1                          1                       3                    4   \n2                         22                      27                   10   \n3                         23                      27                    6   \n4                         22                      28                   10   \n...                      ...                     ...                  ...   \n3625                       1                       1                    6   \n3626                       1                       1                   10   \n3627                      22                      27                   10   \n3628                      22                      27                    8   \n3629                      23                      27                    6   \n\n      Father's occupation  ...  \\\n0                      10  ...   \n1                       4  ...   \n2                      10  ...   \n3                       4  ...   \n4                      10  ...   \n...                   ...  ...   \n3625                    5  ...   \n3626                   10  ...   \n3627                   10  ...   \n3628                    5  ...   \n3629                   10  ...   \n\n      Curricular units 1st sem (without evaluations)  \\\n0                                                  0   \n1                                                  0   \n2                                                  0   \n3                                                  0   \n4                                                  0   \n...                                              ...   \n3625                                               0   \n3626                                               0   \n3627                                               0   \n3628                                               0   \n3629                                               0   \n\n      Curricular units 2nd sem (credited)  \\\n0                                       0   \n1                                       0   \n2                                       0   \n3                                       0   \n4                                       0   \n...                                   ...   \n3625                                    0   \n3626                                    0   \n3627                                    0   \n3628                                    0   \n3629                                    0   \n\n      Curricular units 2nd sem (enrolled)  \\\n0                                       0   \n1                                       6   \n2                                       6   \n3                                       6   \n4                                       6   \n...                                   ...   \n3625                                    6   \n3626                                    6   \n3627                                    8   \n3628                                    5   \n3629                                    6   \n\n      Curricular units 2nd sem (evaluations)  \\\n0                                          0   \n1                                          6   \n2                                          0   \n3                                         10   \n4                                          6   \n...                                      ...   \n3625                                       8   \n3626                                       6   \n3627                                       9   \n3628                                       6   \n3629                                       6   \n\n      Curricular units 2nd sem (approved)  Curricular units 2nd sem (grade)  \\\n0                                       0                          0.000000   \n1                                       6                         13.666667   \n2                                       0                          0.000000   \n3                                       5                         12.400000   \n4                                       6                         13.000000   \n...                                   ...                               ...   \n3625                                    5                         12.666667   \n3626                                    2                         11.000000   \n3627                                    1                         13.500000   \n3628                                    5                         12.000000   \n3629                                    6                         13.000000   \n\n      Curricular units 2nd sem (without evaluations)  Unemployment rate  \\\n0                                                  0               10.8   \n1                                                  0               13.9   \n2                                                  0               10.8   \n3                                                  0                9.4   \n4                                                  0               13.9   \n...                                              ...                ...   \n3625                                               0               15.5   \n3626                                               0               11.1   \n3627                                               0               13.9   \n3628                                               0                9.4   \n3629                                               0               12.7   \n\n      Inflation rate   GDP  \n0                1.4  1.74  \n1               -0.3  0.79  \n2                1.4  1.74  \n3               -0.8 -3.12  \n4               -0.3  0.79  \n...              ...   ...  \n3625             2.8 -4.06  \n3626             0.6  2.02  \n3627            -0.3  0.79  \n3628            -0.8 -3.12  \n3629             3.7 -1.70  \n\n[3630 rows x 28 columns]",
      "text/html": "<div>\n<style scoped>\n    .dataframe tbody tr th:only-of-type {\n        vertical-align: middle;\n    }\n\n    .dataframe tbody tr th {\n        vertical-align: top;\n    }\n\n    .dataframe thead th {\n        text-align: right;\n    }\n</style>\n<table border=\"1\" class=\"dataframe\">\n  <thead>\n    <tr style=\"text-align: right;\">\n      <th></th>\n      <th>Marital status</th>\n      <th>Application mode</th>\n      <th>Application order</th>\n      <th>Course</th>\n      <th>Daytime/evening attendance</th>\n      <th>Previous qualification</th>\n      <th>Mother's qualification</th>\n      <th>Father's qualification</th>\n      <th>Mother's occupation</th>\n      <th>Father's occupation</th>\n      <th>...</th>\n      <th>Curricular units 1st sem (without evaluations)</th>\n      <th>Curricular units 2nd sem (credited)</th>\n      <th>Curricular units 2nd sem (enrolled)</th>\n      <th>Curricular units 2nd sem (evaluations)</th>\n      <th>Curricular units 2nd sem (approved)</th>\n      <th>Curricular units 2nd sem (grade)</th>\n      <th>Curricular units 2nd sem (without evaluations)</th>\n      <th>Unemployment rate</th>\n      <th>Inflation rate</th>\n      <th>GDP</th>\n    </tr>\n  </thead>\n  <tbody>\n    <tr>\n      <th>0</th>\n      <td>1</td>\n      <td>8</td>\n      <td>5</td>\n      <td>2</td>\n      <td>1</td>\n      <td>1</td>\n      <td>13</td>\n      <td>10</td>\n      <td>6</td>\n      <td>10</td>\n      <td>...</td>\n      <td>0</td>\n      <td>0</td>\n      <td>0</td>\n      <td>0</td>\n      <td>0</td>\n      <td>0.000000</td>\n      <td>0</td>\n      <td>10.8</td>\n      <td>1.4</td>\n      <td>1.74</td>\n    </tr>\n    <tr>\n      <th>1</th>\n      <td>1</td>\n      <td>6</td>\n      <td>1</td>\n      <td>11</td>\n      <td>1</td>\n      <td>1</td>\n      <td>1</td>\n      <td>3</td>\n      <td>4</td>\n      <td>4</td>\n      <td>...</td>\n      <td>0</td>\n      <td>0</td>\n      <td>6</td>\n      <td>6</td>\n      <td>6</td>\n      <td>13.666667</td>\n      <td>0</td>\n      <td>13.9</td>\n      <td>-0.3</td>\n      <td>0.79</td>\n    </tr>\n    <tr>\n      <th>2</th>\n      <td>1</td>\n      <td>1</td>\n      <td>5</td>\n      <td>5</td>\n      <td>1</td>\n      <td>1</td>\n      <td>22</td>\n      <td>27</td>\n      <td>10</td>\n      <td>10</td>\n      <td>...</td>\n      <td>0</td>\n      <td>0</td>\n      <td>6</td>\n      <td>0</td>\n      <td>0</td>\n      <td>0.000000</td>\n      <td>0</td>\n      <td>10.8</td>\n      <td>1.4</td>\n      <td>1.74</td>\n    </tr>\n    <tr>\n      <th>3</th>\n      <td>1</td>\n      <td>8</td>\n      <td>2</td>\n      <td>15</td>\n      <td>1</td>\n      <td>1</td>\n      <td>23</td>\n      <td>27</td>\n      <td>6</td>\n      <td>4</td>\n      <td>...</td>\n      <td>0</td>\n      <td>0</td>\n      <td>6</td>\n      <td>10</td>\n      <td>5</td>\n      <td>12.400000</td>\n      <td>0</td>\n      <td>9.4</td>\n      <td>-0.8</td>\n      <td>-3.12</td>\n    </tr>\n    <tr>\n      <th>4</th>\n      <td>2</td>\n      <td>12</td>\n      <td>1</td>\n      <td>3</td>\n      <td>0</td>\n      <td>1</td>\n      <td>22</td>\n      <td>28</td>\n      <td>10</td>\n      <td>10</td>\n      <td>...</td>\n      <td>0</td>\n      <td>0</td>\n      <td>6</td>\n      <td>6</td>\n      <td>6</td>\n      <td>13.000000</td>\n      <td>0</td>\n      <td>13.9</td>\n      <td>-0.3</td>\n      <td>0.79</td>\n    </tr>\n    <tr>\n      <th>...</th>\n      <td>...</td>\n      <td>...</td>\n      <td>...</td>\n      <td>...</td>\n      <td>...</td>\n      <td>...</td>\n      <td>...</td>\n      <td>...</td>\n      <td>...</td>\n      <td>...</td>\n      <td>...</td>\n      <td>...</td>\n      <td>...</td>\n      <td>...</td>\n      <td>...</td>\n      <td>...</td>\n      <td>...</td>\n      <td>...</td>\n      <td>...</td>\n      <td>...</td>\n      <td>...</td>\n    </tr>\n    <tr>\n      <th>3625</th>\n      <td>1</td>\n      <td>1</td>\n      <td>6</td>\n      <td>15</td>\n      <td>1</td>\n      <td>1</td>\n      <td>1</td>\n      <td>1</td>\n      <td>6</td>\n      <td>5</td>\n      <td>...</td>\n      <td>0</td>\n      <td>0</td>\n      <td>6</td>\n      <td>8</td>\n      <td>5</td>\n      <td>12.666667</td>\n      <td>0</td>\n      <td>15.5</td>\n      <td>2.8</td>\n      <td>-4.06</td>\n    </tr>\n    <tr>\n      <th>3626</th>\n      <td>1</td>\n      <td>1</td>\n      <td>2</td>\n      <td>15</td>\n      <td>1</td>\n      <td>1</td>\n      <td>1</td>\n      <td>1</td>\n      <td>10</td>\n      <td>10</td>\n      <td>...</td>\n      <td>0</td>\n      <td>0</td>\n      <td>6</td>\n      <td>6</td>\n      <td>2</td>\n      <td>11.000000</td>\n      <td>0</td>\n      <td>11.1</td>\n      <td>0.6</td>\n      <td>2.02</td>\n    </tr>\n    <tr>\n      <th>3627</th>\n      <td>1</td>\n      <td>1</td>\n      <td>1</td>\n      <td>12</td>\n      <td>1</td>\n      <td>1</td>\n      <td>22</td>\n      <td>27</td>\n      <td>10</td>\n      <td>10</td>\n      <td>...</td>\n      <td>0</td>\n      <td>0</td>\n      <td>8</td>\n      <td>9</td>\n      <td>1</td>\n      <td>13.500000</td>\n      <td>0</td>\n      <td>13.9</td>\n      <td>-0.3</td>\n      <td>0.79</td>\n    </tr>\n    <tr>\n      <th>3628</th>\n      <td>1</td>\n      <td>1</td>\n      <td>1</td>\n      <td>9</td>\n      <td>1</td>\n      <td>1</td>\n      <td>22</td>\n      <td>27</td>\n      <td>8</td>\n      <td>5</td>\n      <td>...</td>\n      <td>0</td>\n      <td>0</td>\n      <td>5</td>\n      <td>6</td>\n      <td>5</td>\n      <td>12.000000</td>\n      <td>0</td>\n      <td>9.4</td>\n      <td>-0.8</td>\n      <td>-3.12</td>\n    </tr>\n    <tr>\n      <th>3629</th>\n      <td>1</td>\n      <td>5</td>\n      <td>1</td>\n      <td>15</td>\n      <td>1</td>\n      <td>1</td>\n      <td>23</td>\n      <td>27</td>\n      <td>6</td>\n      <td>10</td>\n      <td>...</td>\n      <td>0</td>\n      <td>0</td>\n      <td>6</td>\n      <td>6</td>\n      <td>6</td>\n      <td>13.000000</td>\n      <td>0</td>\n      <td>12.7</td>\n      <td>3.7</td>\n      <td>-1.70</td>\n    </tr>\n  </tbody>\n</table>\n<p>3630 rows × 28 columns</p>\n</div>"
     },
     "execution_count": 4,
     "metadata": {},
     "output_type": "execute_result"
    }
   ],
   "source": [
    "X"
   ],
   "metadata": {
    "collapsed": false,
    "ExecuteTime": {
     "end_time": "2023-06-16T19:11:44.877013800Z",
     "start_time": "2023-06-16T19:11:44.834008400Z"
    }
   }
  },
  {
   "cell_type": "code",
   "execution_count": 5,
   "outputs": [
    {
     "data": {
      "text/plain": "      Target\n0          0\n1          1\n2          0\n3          1\n4          1\n...      ...\n3625       1\n3626       0\n3627       0\n3628       1\n3629       1\n\n[3630 rows x 1 columns]",
      "text/html": "<div>\n<style scoped>\n    .dataframe tbody tr th:only-of-type {\n        vertical-align: middle;\n    }\n\n    .dataframe tbody tr th {\n        vertical-align: top;\n    }\n\n    .dataframe thead th {\n        text-align: right;\n    }\n</style>\n<table border=\"1\" class=\"dataframe\">\n  <thead>\n    <tr style=\"text-align: right;\">\n      <th></th>\n      <th>Target</th>\n    </tr>\n  </thead>\n  <tbody>\n    <tr>\n      <th>0</th>\n      <td>0</td>\n    </tr>\n    <tr>\n      <th>1</th>\n      <td>1</td>\n    </tr>\n    <tr>\n      <th>2</th>\n      <td>0</td>\n    </tr>\n    <tr>\n      <th>3</th>\n      <td>1</td>\n    </tr>\n    <tr>\n      <th>4</th>\n      <td>1</td>\n    </tr>\n    <tr>\n      <th>...</th>\n      <td>...</td>\n    </tr>\n    <tr>\n      <th>3625</th>\n      <td>1</td>\n    </tr>\n    <tr>\n      <th>3626</th>\n      <td>0</td>\n    </tr>\n    <tr>\n      <th>3627</th>\n      <td>0</td>\n    </tr>\n    <tr>\n      <th>3628</th>\n      <td>1</td>\n    </tr>\n    <tr>\n      <th>3629</th>\n      <td>1</td>\n    </tr>\n  </tbody>\n</table>\n<p>3630 rows × 1 columns</p>\n</div>"
     },
     "execution_count": 5,
     "metadata": {},
     "output_type": "execute_result"
    }
   ],
   "source": [
    "Y"
   ],
   "metadata": {
    "collapsed": false,
    "ExecuteTime": {
     "end_time": "2023-06-16T19:11:44.905014100Z",
     "start_time": "2023-06-16T19:11:44.884011Z"
    }
   }
  },
  {
   "cell_type": "code",
   "execution_count": 6,
   "outputs": [],
   "source": [
    "predictions = model.predict(X)"
   ],
   "metadata": {
    "collapsed": false,
    "ExecuteTime": {
     "end_time": "2023-06-16T19:12:13.609817400Z",
     "start_time": "2023-06-16T19:12:13.535423100Z"
    }
   }
  },
  {
   "cell_type": "code",
   "execution_count": 9,
   "outputs": [
    {
     "data": {
      "text/plain": "(3630,)"
     },
     "execution_count": 9,
     "metadata": {},
     "output_type": "execute_result"
    }
   ],
   "source": [
    "predictions.shape"
   ],
   "metadata": {
    "collapsed": false,
    "ExecuteTime": {
     "end_time": "2023-06-16T19:20:58.414866400Z",
     "start_time": "2023-06-16T19:20:58.383609700Z"
    }
   }
  },
  {
   "cell_type": "code",
   "execution_count": 8,
   "outputs": [],
   "source": [
    "import  pandas as pd\n",
    "pd.DataFrame(predictions).to_csv('RF_Prediction_Results.csv', index=False)"
   ],
   "metadata": {
    "collapsed": false,
    "ExecuteTime": {
     "end_time": "2023-06-16T19:14:59.453917700Z",
     "start_time": "2023-06-16T19:14:59.427917600Z"
    }
   }
  },
  {
   "cell_type": "code",
   "execution_count": null,
   "outputs": [],
   "source": [
    "import matplotlib.pyplot as plt\n",
    "import  seaborn as sns\n",
    "best_estimator = model.best_estimator_ #getting the best features trough best attribute method\n",
    "importance_fraction = best_estimator.feature_importances_\n",
    "\n",
    "# creating a dataframe having feature names and their corresponding importance fraction\n",
    "feat_importances = pd.DataFrame({'Feature': X.columns, 'Importance': importance_fraction})\n",
    "\n",
    "# sorting the dataframe by importance in descending order\n",
    "feat_importances = feat_importances.sort_values('Importance', ascending=False)\n",
    "\n",
    "# visualizing the important features using a horizontal barplot\n",
    "sns.barplot(x='Importance', y='Feature', data=feat_importances[:10], color=\"steelblue\")\n",
    "plt.title('Feature Importance Plot')\n",
    "plt.xlabel('Importance')\n",
    "plt.ylabel('Feature')\n",
    "plt.show()\n"
   ],
   "metadata": {
    "collapsed": false
   }
  },
  {
   "cell_type": "code",
   "execution_count": null,
   "outputs": [],
   "source": [
    "feat_importances"
   ],
   "metadata": {
    "collapsed": false
   }
  },
  {
   "cell_type": "code",
   "execution_count": null,
   "outputs": [],
   "source": [],
   "metadata": {
    "collapsed": false
   }
  }
 ],
 "metadata": {
  "kernelspec": {
   "display_name": "Python 3",
   "language": "python",
   "name": "python3"
  },
  "language_info": {
   "codemirror_mode": {
    "name": "ipython",
    "version": 2
   },
   "file_extension": ".py",
   "mimetype": "text/x-python",
   "name": "python",
   "nbconvert_exporter": "python",
   "pygments_lexer": "ipython2",
   "version": "2.7.6"
  }
 },
 "nbformat": 4,
 "nbformat_minor": 0
}
