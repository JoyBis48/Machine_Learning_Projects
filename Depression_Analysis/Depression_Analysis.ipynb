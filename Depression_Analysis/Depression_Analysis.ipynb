{
 "cells": [
  {
   "cell_type": "markdown",
   "source": [
    "## Dataset Creation"
   ],
   "metadata": {
    "collapsed": false
   }
  },
  {
   "cell_type": "markdown",
   "source": [
    "#### Parsing XML Dataset to a Pandas Dataframe"
   ],
   "metadata": {
    "collapsed": false
   }
  },
  {
   "cell_type": "code",
   "execution_count": 1,
   "metadata": {
    "collapsed": true,
    "ExecuteTime": {
     "end_time": "2023-06-23T19:51:09.107231300Z",
     "start_time": "2023-06-23T19:51:03.897520500Z"
    }
   },
   "outputs": [],
   "source": [
    "import os\n",
    "import xml.etree.ElementTree as et\n",
    "\n",
    "import gensim.utils\n",
    "import numpy as np\n",
    "import pandas as pd\n",
    "\n",
    "# Step 1: Traverse the directory structure\n",
    "path = '2017'\n",
    "\n",
    "train_folder = os.path.join(path, 'train')\n",
    "test_folder = os.path.join(path, 'test')\n",
    "\n",
    "# Step 2-4: Read XML files and load data into an appropriate format\n",
    "def process_xml_files(folder_path, label=None):\n",
    "    data = []\n",
    "\n",
    "    for chunk_folder in os.listdir(folder_path):\n",
    "        chunk_folder_path = os.path.join(folder_path, chunk_folder)\n",
    "        if not os.path.isdir(chunk_folder_path):\n",
    "            continue\n",
    "\n",
    "        for xml_file in os.listdir(chunk_folder_path):\n",
    "            xml_file_path = os.path.join(chunk_folder_path, xml_file)\n",
    "            if not xml_file.endswith('.xml'):\n",
    "                    continue\n",
    "\n",
    "                # Step 3: Extract data from XML files\n",
    "            tree = et.parse(xml_file_path)\n",
    "            root = tree.getroot()\n",
    "\n",
    "                # Extract the relevant data from the XML structure\n",
    "                # Modify this part based on the XML structure of your dataset\n",
    "            for writing in root.findall('WRITING'):\n",
    "                text = writing.find('TEXT').text.strip()\n",
    "\n",
    "\n",
    "                # Step 4: Load the data into an appropriate format\n",
    "                data.append({'text': text, 'label': label})\n",
    "\n",
    "    return data\n",
    "\n",
    "# Process the train dataset\n",
    "train_data_depression = process_xml_files(os.path.join(train_folder, 'positive_examples_anonymous_chunks'), label='depression')\n",
    "train_data_non_depression = process_xml_files(os.path.join(train_folder, 'negative_examples_anonymous_chunks'), label='non-depression')\n",
    "test_data = process_xml_files(os.path.join(test_folder))\n",
    "\n",
    "# Combining the train datasets into a single DataFrame\n",
    "train_df = pd.DataFrame(train_data_depression + train_data_non_depression)\n",
    "test_df = pd.DataFrame(test_data)"
   ]
  },
  {
   "cell_type": "markdown",
   "source": [
    "## Cleaning and Preprocessing"
   ],
   "metadata": {
    "collapsed": false
   }
  },
  {
   "cell_type": "code",
   "execution_count": 2,
   "outputs": [
    {
     "data": {
      "text/plain": "'\\n\\nThis stage will include the following :-\\n\\n1) Cleaning of the Dataset\\n\\n    1.1) Removal of rows having no data.\\n\\n2) Processing of the Dataset\\n\\n    2.1) Removal of Punctuations.\\n    2.2) Removal of HTML syntaxes and URLs\\n    2.3) Conversion of Texts to lowercase.\\n    2.4) Tokenization of the texts.\\n    2.5) Removal of stop words.\\n    2.6) Lemmatization.\\n\\n3) Post Cleaning after preprocessing\\n\\n'"
     },
     "execution_count": 2,
     "metadata": {},
     "output_type": "execute_result"
    }
   ],
   "source": [
    "'''\n",
    "\n",
    "This stage will include the following :-\n",
    "\n",
    "1) Cleaning of the Dataset\n",
    "\n",
    "    1.1) Removal of rows having no data.\n",
    "\n",
    "2) Processing of the Dataset\n",
    "\n",
    "    2.1) Removal of Punctuations.\n",
    "    2.2) Removal of HTML syntaxes and URLs\n",
    "    2.3) Conversion of Texts to lowercase.\n",
    "    2.4) Tokenization of the texts.\n",
    "    2.5) Removal of stop words.\n",
    "    2.6) Lemmatization.\n",
    "\n",
    "3) Post Cleaning after preprocessing\n",
    "\n",
    "'''\n"
   ],
   "metadata": {
    "collapsed": false,
    "ExecuteTime": {
     "end_time": "2023-06-23T19:51:09.122854Z",
     "start_time": "2023-06-23T19:51:09.107231300Z"
    }
   }
  },
  {
   "cell_type": "markdown",
   "source": [
    "##### Checking dataframe"
   ],
   "metadata": {
    "collapsed": false
   }
  },
  {
   "cell_type": "code",
   "execution_count": 3,
   "outputs": [
    {
     "data": {
      "text/plain": "                                                     text           label\n0       The last line is pretty much the same as the f...      depression\n1       On the flipside generic canned ravioli is just...      depression\n2       At least make it illegal to perform on infants...      depression\n3       I feel like I am the only who has never seen s...      depression\n4       If anything it was an act of God for his chute...      depression\n...                                                   ...             ...\n295018  Yeah, I have known too many privates end up wi...  non-depression\n295019  I am a soldier. I am regularly away from home ...  non-depression\n295020          Please explain the button at /r/thebutton  non-depression\n295021  Stars and Stripes is reporting the same thing ...  non-depression\n295022  Stranger danger; if they give you the gold the...  non-depression\n\n[295023 rows x 2 columns]",
      "text/html": "<div>\n<style scoped>\n    .dataframe tbody tr th:only-of-type {\n        vertical-align: middle;\n    }\n\n    .dataframe tbody tr th {\n        vertical-align: top;\n    }\n\n    .dataframe thead th {\n        text-align: right;\n    }\n</style>\n<table border=\"1\" class=\"dataframe\">\n  <thead>\n    <tr style=\"text-align: right;\">\n      <th></th>\n      <th>text</th>\n      <th>label</th>\n    </tr>\n  </thead>\n  <tbody>\n    <tr>\n      <th>0</th>\n      <td>The last line is pretty much the same as the f...</td>\n      <td>depression</td>\n    </tr>\n    <tr>\n      <th>1</th>\n      <td>On the flipside generic canned ravioli is just...</td>\n      <td>depression</td>\n    </tr>\n    <tr>\n      <th>2</th>\n      <td>At least make it illegal to perform on infants...</td>\n      <td>depression</td>\n    </tr>\n    <tr>\n      <th>3</th>\n      <td>I feel like I am the only who has never seen s...</td>\n      <td>depression</td>\n    </tr>\n    <tr>\n      <th>4</th>\n      <td>If anything it was an act of God for his chute...</td>\n      <td>depression</td>\n    </tr>\n    <tr>\n      <th>...</th>\n      <td>...</td>\n      <td>...</td>\n    </tr>\n    <tr>\n      <th>295018</th>\n      <td>Yeah, I have known too many privates end up wi...</td>\n      <td>non-depression</td>\n    </tr>\n    <tr>\n      <th>295019</th>\n      <td>I am a soldier. I am regularly away from home ...</td>\n      <td>non-depression</td>\n    </tr>\n    <tr>\n      <th>295020</th>\n      <td>Please explain the button at /r/thebutton</td>\n      <td>non-depression</td>\n    </tr>\n    <tr>\n      <th>295021</th>\n      <td>Stars and Stripes is reporting the same thing ...</td>\n      <td>non-depression</td>\n    </tr>\n    <tr>\n      <th>295022</th>\n      <td>Stranger danger; if they give you the gold the...</td>\n      <td>non-depression</td>\n    </tr>\n  </tbody>\n</table>\n<p>295023 rows × 2 columns</p>\n</div>"
     },
     "execution_count": 3,
     "metadata": {},
     "output_type": "execute_result"
    }
   ],
   "source": [
    "train_df"
   ],
   "metadata": {
    "collapsed": false,
    "ExecuteTime": {
     "end_time": "2023-06-23T19:51:09.169728800Z",
     "start_time": "2023-06-23T19:51:09.122854Z"
    }
   }
  },
  {
   "cell_type": "code",
   "execution_count": 4,
   "outputs": [
    {
     "data": {
      "text/plain": "(295023, 2)"
     },
     "execution_count": 4,
     "metadata": {},
     "output_type": "execute_result"
    }
   ],
   "source": [
    "train_df.shape"
   ],
   "metadata": {
    "collapsed": false,
    "ExecuteTime": {
     "end_time": "2023-06-23T19:51:09.169728800Z",
     "start_time": "2023-06-23T19:51:09.154103900Z"
    }
   }
  },
  {
   "cell_type": "code",
   "execution_count": 5,
   "outputs": [
    {
     "name": "stdout",
     "output_type": "stream",
     "text": [
      "<class 'pandas.core.frame.DataFrame'>\n",
      "RangeIndex: 295023 entries, 0 to 295022\n",
      "Data columns (total 2 columns):\n",
      " #   Column  Non-Null Count   Dtype \n",
      "---  ------  --------------   ----- \n",
      " 0   text    295023 non-null  object\n",
      " 1   label   295023 non-null  object\n",
      "dtypes: object(2)\n",
      "memory usage: 4.5+ MB\n"
     ]
    }
   ],
   "source": [
    "train_df.info()"
   ],
   "metadata": {
    "collapsed": false,
    "ExecuteTime": {
     "end_time": "2023-06-23T19:51:09.325975300Z",
     "start_time": "2023-06-23T19:51:09.169728800Z"
    }
   }
  },
  {
   "cell_type": "code",
   "execution_count": 6,
   "outputs": [
    {
     "data": {
      "text/plain": "          text           label\ncount   295023          295023\nunique  204926               2\ntop             non-depression\nfreq     84288          264172",
      "text/html": "<div>\n<style scoped>\n    .dataframe tbody tr th:only-of-type {\n        vertical-align: middle;\n    }\n\n    .dataframe tbody tr th {\n        vertical-align: top;\n    }\n\n    .dataframe thead th {\n        text-align: right;\n    }\n</style>\n<table border=\"1\" class=\"dataframe\">\n  <thead>\n    <tr style=\"text-align: right;\">\n      <th></th>\n      <th>text</th>\n      <th>label</th>\n    </tr>\n  </thead>\n  <tbody>\n    <tr>\n      <th>count</th>\n      <td>295023</td>\n      <td>295023</td>\n    </tr>\n    <tr>\n      <th>unique</th>\n      <td>204926</td>\n      <td>2</td>\n    </tr>\n    <tr>\n      <th>top</th>\n      <td></td>\n      <td>non-depression</td>\n    </tr>\n    <tr>\n      <th>freq</th>\n      <td>84288</td>\n      <td>264172</td>\n    </tr>\n  </tbody>\n</table>\n</div>"
     },
     "execution_count": 6,
     "metadata": {},
     "output_type": "execute_result"
    }
   ],
   "source": [
    "train_df.describe()"
   ],
   "metadata": {
    "collapsed": false,
    "ExecuteTime": {
     "end_time": "2023-06-23T19:51:09.603546800Z",
     "start_time": "2023-06-23T19:51:09.294729300Z"
    }
   }
  },
  {
   "cell_type": "markdown",
   "source": [
    "##### Checking for rows having no texts or labels"
   ],
   "metadata": {
    "collapsed": false
   }
  },
  {
   "cell_type": "code",
   "execution_count": 7,
   "outputs": [
    {
     "name": "stdout",
     "output_type": "stream",
     "text": [
      "There are 84288 rows with no text data in the dataframe\n"
     ]
    }
   ],
   "source": [
    "blank_entries = (train_df[\"text\"] == \"\").sum()\n",
    "print(f'There are {blank_entries} rows with no text data in the dataframe')"
   ],
   "metadata": {
    "collapsed": false,
    "ExecuteTime": {
     "end_time": "2023-06-23T19:51:09.681671500Z",
     "start_time": "2023-06-23T19:51:09.634799900Z"
    }
   }
  },
  {
   "cell_type": "code",
   "execution_count": 8,
   "outputs": [
    {
     "name": "stdout",
     "output_type": "stream",
     "text": [
      "There are 0 rows with no label data in the dataframe\n"
     ]
    }
   ],
   "source": [
    "blank_entries = (train_df[\"label\"] == \"\").sum()\n",
    "print(f'There are {blank_entries} rows with no label data in the dataframe')"
   ],
   "metadata": {
    "collapsed": false,
    "ExecuteTime": {
     "end_time": "2023-06-23T19:51:09.728543600Z",
     "start_time": "2023-06-23T19:51:09.650420Z"
    }
   }
  },
  {
   "cell_type": "markdown",
   "source": [
    "##### Removing rows with no texts"
   ],
   "metadata": {
    "collapsed": false
   }
  },
  {
   "cell_type": "code",
   "execution_count": 9,
   "outputs": [],
   "source": [
    "df = train_df.drop(train_df[train_df[\"text\"] == \"\"].index)"
   ],
   "metadata": {
    "collapsed": false,
    "ExecuteTime": {
     "end_time": "2023-06-23T19:51:09.837918Z",
     "start_time": "2023-06-23T19:51:09.728543600Z"
    }
   }
  },
  {
   "cell_type": "code",
   "execution_count": 10,
   "outputs": [
    {
     "name": "stdout",
     "output_type": "stream",
     "text": [
      "There are 0 rows with no text data in the dataframe\n"
     ]
    }
   ],
   "source": [
    "blank_entries = (df[\"text\"] == \"\").sum()\n",
    "print(f'There are {blank_entries} rows with no text data in the dataframe')"
   ],
   "metadata": {
    "collapsed": false,
    "ExecuteTime": {
     "end_time": "2023-06-23T19:51:09.837918Z",
     "start_time": "2023-06-23T19:51:09.759795Z"
    }
   }
  },
  {
   "cell_type": "code",
   "execution_count": 11,
   "outputs": [
    {
     "data": {
      "text/plain": "                                                     text           label\n0       The last line is pretty much the same as the f...      depression\n1       On the flipside generic canned ravioli is just...      depression\n2       At least make it illegal to perform on infants...      depression\n3       I feel like I am the only who has never seen s...      depression\n4       If anything it was an act of God for his chute...      depression\n...                                                   ...             ...\n295018  Yeah, I have known too many privates end up wi...  non-depression\n295019  I am a soldier. I am regularly away from home ...  non-depression\n295020          Please explain the button at /r/thebutton  non-depression\n295021  Stars and Stripes is reporting the same thing ...  non-depression\n295022  Stranger danger; if they give you the gold the...  non-depression\n\n[210735 rows x 2 columns]",
      "text/html": "<div>\n<style scoped>\n    .dataframe tbody tr th:only-of-type {\n        vertical-align: middle;\n    }\n\n    .dataframe tbody tr th {\n        vertical-align: top;\n    }\n\n    .dataframe thead th {\n        text-align: right;\n    }\n</style>\n<table border=\"1\" class=\"dataframe\">\n  <thead>\n    <tr style=\"text-align: right;\">\n      <th></th>\n      <th>text</th>\n      <th>label</th>\n    </tr>\n  </thead>\n  <tbody>\n    <tr>\n      <th>0</th>\n      <td>The last line is pretty much the same as the f...</td>\n      <td>depression</td>\n    </tr>\n    <tr>\n      <th>1</th>\n      <td>On the flipside generic canned ravioli is just...</td>\n      <td>depression</td>\n    </tr>\n    <tr>\n      <th>2</th>\n      <td>At least make it illegal to perform on infants...</td>\n      <td>depression</td>\n    </tr>\n    <tr>\n      <th>3</th>\n      <td>I feel like I am the only who has never seen s...</td>\n      <td>depression</td>\n    </tr>\n    <tr>\n      <th>4</th>\n      <td>If anything it was an act of God for his chute...</td>\n      <td>depression</td>\n    </tr>\n    <tr>\n      <th>...</th>\n      <td>...</td>\n      <td>...</td>\n    </tr>\n    <tr>\n      <th>295018</th>\n      <td>Yeah, I have known too many privates end up wi...</td>\n      <td>non-depression</td>\n    </tr>\n    <tr>\n      <th>295019</th>\n      <td>I am a soldier. I am regularly away from home ...</td>\n      <td>non-depression</td>\n    </tr>\n    <tr>\n      <th>295020</th>\n      <td>Please explain the button at /r/thebutton</td>\n      <td>non-depression</td>\n    </tr>\n    <tr>\n      <th>295021</th>\n      <td>Stars and Stripes is reporting the same thing ...</td>\n      <td>non-depression</td>\n    </tr>\n    <tr>\n      <th>295022</th>\n      <td>Stranger danger; if they give you the gold the...</td>\n      <td>non-depression</td>\n    </tr>\n  </tbody>\n</table>\n<p>210735 rows × 2 columns</p>\n</div>"
     },
     "execution_count": 11,
     "metadata": {},
     "output_type": "execute_result"
    }
   ],
   "source": [
    "df"
   ],
   "metadata": {
    "collapsed": false,
    "ExecuteTime": {
     "end_time": "2023-06-23T19:51:09.837918Z",
     "start_time": "2023-06-23T19:51:09.806667800Z"
    }
   }
  },
  {
   "cell_type": "markdown",
   "source": [
    "##### Removing Punctuations"
   ],
   "metadata": {
    "collapsed": false
   }
  },
  {
   "cell_type": "code",
   "execution_count": 12,
   "outputs": [],
   "source": [
    "import string\n",
    "removables = string.punctuation # assigning removables to a string containing all the punctuations\n",
    "def remove_punctuations(text):\n",
    "    clean = ''.join([char for char in text if char not in removables])\n",
    "    return clean\n",
    "df['text'] = df['text'].apply(lambda x: remove_punctuations(x))"
   ],
   "metadata": {
    "collapsed": false,
    "ExecuteTime": {
     "end_time": "2023-06-23T19:51:13.280271500Z",
     "start_time": "2023-06-23T19:51:09.822297600Z"
    }
   }
  },
  {
   "cell_type": "markdown",
   "source": [
    "##### Removing html syntaxes and url"
   ],
   "metadata": {
    "collapsed": false
   }
  },
  {
   "cell_type": "code",
   "execution_count": 13,
   "outputs": [],
   "source": [
    "import re\n",
    "\n",
    "def remove_html_and_urls(text):\n",
    "\n",
    "    new_text = re.sub(r\"<.*?>\", \"\", text)\n",
    "    new_text = re.sub(r\"http\\S+|www\\S+\", \"\", new_text)\n",
    "\n",
    "    return new_text\n",
    "\n",
    "df['text'] = df['text'].apply(lambda x: remove_html_and_urls(x))"
   ],
   "metadata": {
    "collapsed": false,
    "ExecuteTime": {
     "end_time": "2023-06-23T19:51:14.148919900Z",
     "start_time": "2023-06-23T19:51:13.295899600Z"
    }
   }
  },
  {
   "cell_type": "markdown",
   "source": [
    "##### Conversion of texts into lowercase"
   ],
   "metadata": {
    "collapsed": false
   }
  },
  {
   "cell_type": "code",
   "execution_count": 14,
   "outputs": [],
   "source": [
    "df['text'] = df['text'].str.lower()"
   ],
   "metadata": {
    "collapsed": false,
    "ExecuteTime": {
     "end_time": "2023-06-23T19:51:14.273916500Z",
     "start_time": "2023-06-23T19:51:14.148919900Z"
    }
   }
  },
  {
   "cell_type": "markdown",
   "source": [
    "##### Performing Tokenization of words"
   ],
   "metadata": {
    "collapsed": false
   }
  },
  {
   "cell_type": "code",
   "execution_count": 15,
   "outputs": [],
   "source": [
    "df['text'] = df['text'].apply(lambda x: x.split())"
   ],
   "metadata": {
    "collapsed": false,
    "ExecuteTime": {
     "end_time": "2023-06-23T19:51:15.642784800Z",
     "start_time": "2023-06-23T19:51:14.273916500Z"
    }
   }
  },
  {
   "cell_type": "markdown",
   "source": [
    "##### Removal of Stopwords"
   ],
   "metadata": {
    "collapsed": false
   }
  },
  {
   "cell_type": "code",
   "execution_count": 16,
   "outputs": [],
   "source": [
    "# from gensim.parsing.preprocessing import remove_stopword_tokens\n",
    "# df['text'] = df['text'].apply(lambda x: remove_stopword_tokens(x))"
   ],
   "metadata": {
    "collapsed": false,
    "ExecuteTime": {
     "end_time": "2023-06-23T19:51:15.658408300Z",
     "start_time": "2023-06-23T19:51:15.642784800Z"
    }
   }
  },
  {
   "cell_type": "code",
   "execution_count": 17,
   "outputs": [],
   "source": [
    "from nltk.corpus import stopwords\n",
    "stopwords = set(stopwords.words('english'))\n",
    "\n",
    "df['text_without_stopwords'] = df['text'].apply(lambda x: ' '.join([word for word in x if word not in stopwords]))\n"
   ],
   "metadata": {
    "collapsed": false,
    "ExecuteTime": {
     "end_time": "2023-06-23T19:51:17.115476500Z",
     "start_time": "2023-06-23T19:51:15.658408300Z"
    }
   }
  },
  {
   "cell_type": "markdown",
   "source": [
    "##### Performing Lemmatization"
   ],
   "metadata": {
    "collapsed": false
   }
  },
  {
   "cell_type": "code",
   "execution_count": 18,
   "outputs": [],
   "source": [
    "from nltk.stem import WordNetLemmatizer\n",
    "\n",
    "lemmatizer = WordNetLemmatizer()\n",
    "\n",
    "df['lemmatized_text'] = df['text_without_stopwords'].str.split().apply(lambda x: ' '.join([lemmatizer.lemmatize(word) for word in x]))"
   ],
   "metadata": {
    "collapsed": false,
    "ExecuteTime": {
     "end_time": "2023-06-23T19:51:37.835668Z",
     "start_time": "2023-06-23T19:51:17.115476500Z"
    }
   }
  },
  {
   "cell_type": "markdown",
   "source": [
    "##### Post cleaning after preprocessing."
   ],
   "metadata": {
    "collapsed": false
   }
  },
  {
   "cell_type": "code",
   "execution_count": 19,
   "outputs": [
    {
     "name": "stdout",
     "output_type": "stream",
     "text": [
      "There are 1696 empty lists in text column\n",
      "There are 1696 empty lists in text_without_stopwords column\n",
      "There are 1696 empty lists in lemmatized_text column\n"
     ]
    }
   ],
   "source": [
    "#checking for empty lists occuring as a result of preprocessing\n",
    "empty_lists = df['text'].apply(lambda x: len(x) == 0).sum()\n",
    "empty_lists1 = df['text'].apply(lambda x: len(x) == 0).sum()\n",
    "empty_lists2 = df['text'].apply(lambda x: len(x) == 0).sum()\n",
    "print(f'There are {empty_lists} empty lists in text column')\n",
    "print(f'There are {empty_lists1} empty lists in text_without_stopwords column')\n",
    "print(f'There are {empty_lists2} empty lists in lemmatized_text column')"
   ],
   "metadata": {
    "collapsed": false,
    "ExecuteTime": {
     "end_time": "2023-06-23T19:51:38.070037400Z",
     "start_time": "2023-06-23T19:51:37.835668Z"
    }
   }
  },
  {
   "cell_type": "code",
   "execution_count": 20,
   "outputs": [],
   "source": [
    "# Removal of empty lists\n",
    "df = df[df['text'].apply(len) > 0]\n",
    "df = df[df['text_without_stopwords'].apply(len) > 0]\n",
    "df = df[df['lemmatized_text'].apply(len) > 0]"
   ],
   "metadata": {
    "collapsed": false,
    "ExecuteTime": {
     "end_time": "2023-06-23T19:51:38.414651100Z",
     "start_time": "2023-06-23T19:51:38.070037400Z"
    }
   }
  },
  {
   "cell_type": "code",
   "execution_count": 21,
   "outputs": [
    {
     "data": {
      "text/plain": "                                                     text           label  \\\n0       [the, last, line, is, pretty, much, the, same,...      depression   \n1       [on, the, flipside, generic, canned, ravioli, ...      depression   \n2       [at, least, make, it, illegal, to, perform, on...      depression   \n3       [i, feel, like, i, am, the, only, who, has, ne...      depression   \n4       [if, anything, it, was, an, act, of, god, for,...      depression   \n...                                                   ...             ...   \n295018  [yeah, i, have, known, too, many, privates, en...  non-depression   \n295019  [i, am, a, soldier, i, am, regularly, away, fr...  non-depression   \n295020     [please, explain, the, button, at, rthebutton]  non-depression   \n295021  [stars, and, stripes, is, reporting, the, same...  non-depression   \n295022  [stranger, danger, if, they, give, you, the, g...  non-depression   \n\n                                   text_without_stopwords  \\\n0       last line pretty much first could course wasnt...   \n1       flipside generic canned ravioli good name bran...   \n2       least make illegal perform infants absolutely ...   \n3                  feel like never seen sushi gas station   \n4                             anything act god chute open   \n...                                                   ...   \n295018  yeah known many privates end stripper hooters ...   \n295019  soldier regularly away home weeks months even ...   \n295020                   please explain button rthebutton   \n295021  stars stripes reporting thing consider little ...   \n295022           stranger danger give gold want one holes   \n\n                                          lemmatized_text  \n0       last line pretty much first could course wasnt...  \n1       flipside generic canned ravioli good name bran...  \n2       least make illegal perform infant absolutely s...  \n3                  feel like never seen sushi gas station  \n4                             anything act god chute open  \n...                                                   ...  \n295018  yeah known many private end stripper hooter gi...  \n295019  soldier regularly away home week month even ye...  \n295020                   please explain button rthebutton  \n295021  star stripe reporting thing consider little re...  \n295022            stranger danger give gold want one hole  \n\n[207981 rows x 4 columns]",
      "text/html": "<div>\n<style scoped>\n    .dataframe tbody tr th:only-of-type {\n        vertical-align: middle;\n    }\n\n    .dataframe tbody tr th {\n        vertical-align: top;\n    }\n\n    .dataframe thead th {\n        text-align: right;\n    }\n</style>\n<table border=\"1\" class=\"dataframe\">\n  <thead>\n    <tr style=\"text-align: right;\">\n      <th></th>\n      <th>text</th>\n      <th>label</th>\n      <th>text_without_stopwords</th>\n      <th>lemmatized_text</th>\n    </tr>\n  </thead>\n  <tbody>\n    <tr>\n      <th>0</th>\n      <td>[the, last, line, is, pretty, much, the, same,...</td>\n      <td>depression</td>\n      <td>last line pretty much first could course wasnt...</td>\n      <td>last line pretty much first could course wasnt...</td>\n    </tr>\n    <tr>\n      <th>1</th>\n      <td>[on, the, flipside, generic, canned, ravioli, ...</td>\n      <td>depression</td>\n      <td>flipside generic canned ravioli good name bran...</td>\n      <td>flipside generic canned ravioli good name bran...</td>\n    </tr>\n    <tr>\n      <th>2</th>\n      <td>[at, least, make, it, illegal, to, perform, on...</td>\n      <td>depression</td>\n      <td>least make illegal perform infants absolutely ...</td>\n      <td>least make illegal perform infant absolutely s...</td>\n    </tr>\n    <tr>\n      <th>3</th>\n      <td>[i, feel, like, i, am, the, only, who, has, ne...</td>\n      <td>depression</td>\n      <td>feel like never seen sushi gas station</td>\n      <td>feel like never seen sushi gas station</td>\n    </tr>\n    <tr>\n      <th>4</th>\n      <td>[if, anything, it, was, an, act, of, god, for,...</td>\n      <td>depression</td>\n      <td>anything act god chute open</td>\n      <td>anything act god chute open</td>\n    </tr>\n    <tr>\n      <th>...</th>\n      <td>...</td>\n      <td>...</td>\n      <td>...</td>\n      <td>...</td>\n    </tr>\n    <tr>\n      <th>295018</th>\n      <td>[yeah, i, have, known, too, many, privates, en...</td>\n      <td>non-depression</td>\n      <td>yeah known many privates end stripper hooters ...</td>\n      <td>yeah known many private end stripper hooter gi...</td>\n    </tr>\n    <tr>\n      <th>295019</th>\n      <td>[i, am, a, soldier, i, am, regularly, away, fr...</td>\n      <td>non-depression</td>\n      <td>soldier regularly away home weeks months even ...</td>\n      <td>soldier regularly away home week month even ye...</td>\n    </tr>\n    <tr>\n      <th>295020</th>\n      <td>[please, explain, the, button, at, rthebutton]</td>\n      <td>non-depression</td>\n      <td>please explain button rthebutton</td>\n      <td>please explain button rthebutton</td>\n    </tr>\n    <tr>\n      <th>295021</th>\n      <td>[stars, and, stripes, is, reporting, the, same...</td>\n      <td>non-depression</td>\n      <td>stars stripes reporting thing consider little ...</td>\n      <td>star stripe reporting thing consider little re...</td>\n    </tr>\n    <tr>\n      <th>295022</th>\n      <td>[stranger, danger, if, they, give, you, the, g...</td>\n      <td>non-depression</td>\n      <td>stranger danger give gold want one holes</td>\n      <td>stranger danger give gold want one hole</td>\n    </tr>\n  </tbody>\n</table>\n<p>207981 rows × 4 columns</p>\n</div>"
     },
     "execution_count": 21,
     "metadata": {},
     "output_type": "execute_result"
    }
   ],
   "source": [
    "df"
   ],
   "metadata": {
    "collapsed": false,
    "ExecuteTime": {
     "end_time": "2023-06-23T19:51:38.461523800Z",
     "start_time": "2023-06-23T19:51:38.414651100Z"
    }
   }
  },
  {
   "cell_type": "code",
   "execution_count": 22,
   "outputs": [],
   "source": [
    "# Label encoding the target variable with 0 and 1\n",
    "df['label'] = df['label'].map({\n",
    "    'non-depression':0,\n",
    "    'depression':1\n",
    "})"
   ],
   "metadata": {
    "collapsed": false,
    "ExecuteTime": {
     "end_time": "2023-06-23T19:51:38.539649100Z",
     "start_time": "2023-06-23T19:51:38.445900300Z"
    }
   }
  },
  {
   "cell_type": "markdown",
   "source": [
    "## Text Feature Extraction (Word2Vec)"
   ],
   "metadata": {
    "collapsed": false
   }
  },
  {
   "cell_type": "code",
   "execution_count": 23,
   "outputs": [
    {
     "data": {
      "text/plain": "(18771316, 19342575)"
     },
     "execution_count": 23,
     "metadata": {},
     "output_type": "execute_result"
    }
   ],
   "source": [
    "from gensim.models import Word2Vec\n",
    "\n",
    "# Word2Vec Feature Extraction\n",
    "word2vec_model = Word2Vec(df.lemmatized_text.str.split(), window=5, min_count=1, workers=4)\n",
    "word2vec_model.train(df.lemmatized_text.str.split(), total_examples=word2vec_model.corpus_count, epochs= 5 )"
   ],
   "metadata": {
    "collapsed": false,
    "ExecuteTime": {
     "end_time": "2023-06-23T19:52:14.595220700Z",
     "start_time": "2023-06-23T19:51:38.492771600Z"
    }
   }
  },
  {
   "cell_type": "code",
   "execution_count": 24,
   "outputs": [],
   "source": [
    "import numpy as np\n",
    "\n",
    "# Building a function to vectorize the list of words containing in the dataset from the vectors obtained from Word2Vec\n",
    "def buildvector(text, size):\n",
    "    vec = np.zeros(size).reshape((1, size))\n",
    "    count = 0\n",
    "    for word in text:\n",
    "        try:\n",
    "            vec += word2vec_model.wv[word].reshape((1, size))\n",
    "            count += 1.\n",
    "        except KeyError:\n",
    "            continue\n",
    "    if count != 0:\n",
    "        vec /= count\n",
    "    return vec"
   ],
   "metadata": {
    "collapsed": false,
    "ExecuteTime": {
     "end_time": "2023-06-23T19:52:14.610840900Z",
     "start_time": "2023-06-23T19:52:14.595220700Z"
    }
   }
  },
  {
   "cell_type": "code",
   "execution_count": 25,
   "outputs": [],
   "source": [
    "# Concantenating and scaling the vectors thus obtained.\n",
    "# This essentially provides each sentence or list of words in the form of vectors of size 100\n",
    "\n",
    "from sklearn.preprocessing import scale\n",
    "vectors = np.concatenate([buildvector(x, word2vec_model.wv.vector_size) for x in df.lemmatized_text.str.split()])\n",
    "vectors = scale(vectors)"
   ],
   "metadata": {
    "collapsed": false,
    "ExecuteTime": {
     "end_time": "2023-06-23T19:52:34.585567700Z",
     "start_time": "2023-06-23T19:52:14.610840900Z"
    }
   }
  },
  {
   "cell_type": "markdown",
   "source": [
    "## Model Training and Evaulation."
   ],
   "metadata": {
    "collapsed": false
   }
  },
  {
   "cell_type": "code",
   "execution_count": 26,
   "outputs": [
    {
     "name": "stdout",
     "output_type": "stream",
     "text": [
      "Accuracy: 0.8648460225497031\n",
      "f1 score: 0.004603399433427762\n"
     ]
    }
   ],
   "source": [
    "import numpy as np\n",
    "from sklearn.linear_model import LogisticRegression\n",
    "from sklearn.metrics import accuracy_score, f1_score, confusion_matrix\n",
    "\n",
    "# Converting the vectors and labels to numpy arrays\n",
    "X = np.array(vectors)\n",
    "Y = np.array(df.label)\n",
    "\n",
    "# Splitting the data into training and testing sets for the purpose of training\n",
    "from sklearn.model_selection import train_test_split\n",
    "X_train, X_test, Y_train, Y_test = train_test_split(vectors, df.label, test_size=0.2, random_state=48)\n",
    "\n",
    "# Instantiating the model\n",
    "model = LogisticRegression()\n",
    "\n",
    "# Setting the hyperparameters\n",
    "#-----------------------------\n",
    "\n",
    "C = 1.0\n",
    "penalty = 'l2'\n",
    "solver = 'sag'\n",
    "max_iter = 1000\n",
    "\n",
    "#-----------------------------\n",
    "\n",
    "model.set_params(C=C, penalty=penalty, solver=solver, max_iter = max_iter)\n",
    "\n",
    "# Training the logistic regression model\n",
    "model.fit(X_train, Y_train)\n",
    "\n",
    "# Make predictions on the test set\n",
    "Y_pred = model.predict(X_test)\n",
    "\n",
    "# Calculating the accuracy obtained\n",
    "accuracy = accuracy_score(Y_test, Y_pred)\n",
    "print(\"Accuracy:\", accuracy)\n",
    "f1 = f1_score(Y_test, Y_pred)\n",
    "print(\"f1 score:\", f1)"
   ],
   "metadata": {
    "collapsed": false,
    "ExecuteTime": {
     "end_time": "2023-06-23T19:52:40.316222300Z",
     "start_time": "2023-06-23T19:52:34.585567700Z"
    }
   }
  },
  {
   "cell_type": "code",
   "execution_count": 61,
   "outputs": [
    {
     "data": {
      "text/plain": "<Figure size 640x480 with 2 Axes>",
      "image/png": "[encoded data removed]"
     },
     "metadata": {},
     "output_type": "display_data"
    }
   ],
   "source": [
    "import seaborn as sns\n",
    "import matplotlib.pyplot as plt\n",
    "from sklearn.metrics import confusion_matrix\n",
    "\n",
    "Y_pred = model.predict(X_test)\n",
    "CM = confusion_matrix(Y_test, Y_pred)\n",
    "\n",
    "# Creating a heatmap for the confusion matrix\n",
    "labels = np.unique(Y_test)\n",
    "sns.heatmap(CM, annot=True, cmap='coolwarm', fmt='d', xticklabels=('non-depression', 'depression'), yticklabels=('non-depression', 'depression'))\n",
    "plt.xlabel('Predicted labels')\n",
    "plt.ylabel('True labels')\n",
    "plt.title('Confusion Matrix Plot')\n",
    "\n",
    "plt.show()"
   ],
   "metadata": {
    "collapsed": false,
    "ExecuteTime": {
     "end_time": "2023-06-23T20:23:22.020095500Z",
     "start_time": "2023-06-23T20:23:21.762078700Z"
    }
   }
  },
  {
   "cell_type": "code",
   "execution_count": 64,
   "outputs": [
    {
     "data": {
      "text/plain": "<Figure size 640x480 with 1 Axes>",
      "image/png": "[encoded data removed]"
     },
     "metadata": {},
     "output_type": "display_data"
    }
   ],
   "source": [
    "#Evaluation of the Model using ROC Curve\n",
    "\n",
    "from sklearn.metrics import roc_curve\n",
    "\n",
    "# Predicting probabilities on the test set\n",
    "probs = model.predict_proba(X_test)\n",
    "probs_positive = probs[:, 1]  # Considering only positive class probabilities\n",
    "\n",
    "# Calculating the false positive rate, true positive rate, and thresholds\n",
    "fpr, tpr, thresholds = roc_curve(Y_test, probs_positive)\n",
    "\n",
    "# Plotting the ROC curve\n",
    "plt.plot(fpr, tpr, label='ROC curve')\n",
    "plt.plot([0, 1], [0, 1], 'k--')  # Plotting the random classifier\n",
    "plt.xlabel('False Positive Rate')\n",
    "plt.ylabel('True Positive Rate')\n",
    "plt.title('Receiver Operating Characteristic (ROC) Curve')\n",
    "plt.legend(loc='lower right')\n",
    "plt.show()"
   ],
   "metadata": {
    "collapsed": false,
    "ExecuteTime": {
     "end_time": "2023-06-23T20:25:51.686541600Z",
     "start_time": "2023-06-23T20:25:51.288511Z"
    }
   }
  },
  {
   "cell_type": "markdown",
   "source": [
    "## Testing on a complete new dataset (test dataset)"
   ],
   "metadata": {
    "collapsed": false
   }
  },
  {
   "cell_type": "code",
   "execution_count": 27,
   "outputs": [
    {
     "data": {
      "text/plain": "                                                     text label\n0       \"Kill Bill Siren\" was awesome. These seriously...  None\n1                                           crazy bastard  None\n2       What I hoped for this post: something other th...  None\n3       I didn't find this scene funny, but the fact t...  None\n4       Bill from Kill Bill. Not saying the five point...  None\n...                                                   ...   ...\n236366  I tend to get that with international students...  None\n236367  Mission accepted, I will report back to you!\\n...  None\n236368  Can confirm that we do this at Universities. H...  None\n236369  173lbs? Damn I wish so wasn't so lanky, I'd lo...  None\n236370  Read this as \"human torch\". I'm glad you're no...  None\n\n[236371 rows x 2 columns]",
      "text/html": "<div>\n<style scoped>\n    .dataframe tbody tr th:only-of-type {\n        vertical-align: middle;\n    }\n\n    .dataframe tbody tr th {\n        vertical-align: top;\n    }\n\n    .dataframe thead th {\n        text-align: right;\n    }\n</style>\n<table border=\"1\" class=\"dataframe\">\n  <thead>\n    <tr style=\"text-align: right;\">\n      <th></th>\n      <th>text</th>\n      <th>label</th>\n    </tr>\n  </thead>\n  <tbody>\n    <tr>\n      <th>0</th>\n      <td>\"Kill Bill Siren\" was awesome. These seriously...</td>\n      <td>None</td>\n    </tr>\n    <tr>\n      <th>1</th>\n      <td>crazy bastard</td>\n      <td>None</td>\n    </tr>\n    <tr>\n      <th>2</th>\n      <td>What I hoped for this post: something other th...</td>\n      <td>None</td>\n    </tr>\n    <tr>\n      <th>3</th>\n      <td>I didn't find this scene funny, but the fact t...</td>\n      <td>None</td>\n    </tr>\n    <tr>\n      <th>4</th>\n      <td>Bill from Kill Bill. Not saying the five point...</td>\n      <td>None</td>\n    </tr>\n    <tr>\n      <th>...</th>\n      <td>...</td>\n      <td>...</td>\n    </tr>\n    <tr>\n      <th>236366</th>\n      <td>I tend to get that with international students...</td>\n      <td>None</td>\n    </tr>\n    <tr>\n      <th>236367</th>\n      <td>Mission accepted, I will report back to you!\\n...</td>\n      <td>None</td>\n    </tr>\n    <tr>\n      <th>236368</th>\n      <td>Can confirm that we do this at Universities. H...</td>\n      <td>None</td>\n    </tr>\n    <tr>\n      <th>236369</th>\n      <td>173lbs? Damn I wish so wasn't so lanky, I'd lo...</td>\n      <td>None</td>\n    </tr>\n    <tr>\n      <th>236370</th>\n      <td>Read this as \"human torch\". I'm glad you're no...</td>\n      <td>None</td>\n    </tr>\n  </tbody>\n</table>\n<p>236371 rows × 2 columns</p>\n</div>"
     },
     "execution_count": 27,
     "metadata": {},
     "output_type": "execute_result"
    }
   ],
   "source": [
    "test_df"
   ],
   "metadata": {
    "collapsed": false,
    "ExecuteTime": {
     "end_time": "2023-06-23T19:52:40.331846400Z",
     "start_time": "2023-06-23T19:52:40.316222300Z"
    }
   }
  },
  {
   "cell_type": "code",
   "execution_count": 28,
   "outputs": [],
   "source": [
    "import gensim\n",
    "test_df.text = test_df.text.apply(gensim.utils.simple_preprocess)"
   ],
   "metadata": {
    "collapsed": false,
    "ExecuteTime": {
     "end_time": "2023-06-23T19:52:50.595058300Z",
     "start_time": "2023-06-23T19:52:40.331846400Z"
    }
   }
  },
  {
   "cell_type": "code",
   "execution_count": 29,
   "outputs": [
    {
     "data": {
      "text/plain": "                                                     text label\n0       [kill, bill, siren, was, awesome, these, serio...  None\n1                                        [crazy, bastard]  None\n2       [what, hoped, for, this, post, something, othe...  None\n3       [didn, find, this, scene, funny, but, the, fac...  None\n4       [bill, from, kill, bill, not, saying, the, fiv...  None\n...                                                   ...   ...\n236366  [tend, to, get, that, with, international, stu...  None\n236367  [mission, accepted, will, report, back, to, yo...  None\n236368  [can, confirm, that, we, do, this, at, univers...  None\n236369  [lbs, damn, wish, so, wasn, so, lanky, look, g...  None\n236370  [read, this, as, human, torch, glad, you, re, ...  None\n\n[236371 rows x 2 columns]",
      "text/html": "<div>\n<style scoped>\n    .dataframe tbody tr th:only-of-type {\n        vertical-align: middle;\n    }\n\n    .dataframe tbody tr th {\n        vertical-align: top;\n    }\n\n    .dataframe thead th {\n        text-align: right;\n    }\n</style>\n<table border=\"1\" class=\"dataframe\">\n  <thead>\n    <tr style=\"text-align: right;\">\n      <th></th>\n      <th>text</th>\n      <th>label</th>\n    </tr>\n  </thead>\n  <tbody>\n    <tr>\n      <th>0</th>\n      <td>[kill, bill, siren, was, awesome, these, serio...</td>\n      <td>None</td>\n    </tr>\n    <tr>\n      <th>1</th>\n      <td>[crazy, bastard]</td>\n      <td>None</td>\n    </tr>\n    <tr>\n      <th>2</th>\n      <td>[what, hoped, for, this, post, something, othe...</td>\n      <td>None</td>\n    </tr>\n    <tr>\n      <th>3</th>\n      <td>[didn, find, this, scene, funny, but, the, fac...</td>\n      <td>None</td>\n    </tr>\n    <tr>\n      <th>4</th>\n      <td>[bill, from, kill, bill, not, saying, the, fiv...</td>\n      <td>None</td>\n    </tr>\n    <tr>\n      <th>...</th>\n      <td>...</td>\n      <td>...</td>\n    </tr>\n    <tr>\n      <th>236366</th>\n      <td>[tend, to, get, that, with, international, stu...</td>\n      <td>None</td>\n    </tr>\n    <tr>\n      <th>236367</th>\n      <td>[mission, accepted, will, report, back, to, yo...</td>\n      <td>None</td>\n    </tr>\n    <tr>\n      <th>236368</th>\n      <td>[can, confirm, that, we, do, this, at, univers...</td>\n      <td>None</td>\n    </tr>\n    <tr>\n      <th>236369</th>\n      <td>[lbs, damn, wish, so, wasn, so, lanky, look, g...</td>\n      <td>None</td>\n    </tr>\n    <tr>\n      <th>236370</th>\n      <td>[read, this, as, human, torch, glad, you, re, ...</td>\n      <td>None</td>\n    </tr>\n  </tbody>\n</table>\n<p>236371 rows × 2 columns</p>\n</div>"
     },
     "execution_count": 29,
     "metadata": {},
     "output_type": "execute_result"
    }
   ],
   "source": [
    "test_df"
   ],
   "metadata": {
    "collapsed": false
   }
  },
  {
   "cell_type": "code",
   "execution_count": 38,
   "outputs": [],
   "source": [
    "test_vectors = np.concatenate([buildvector(x, word2vec_model.wv.vector_size) for x in test_df.text])\n",
    "test_vectors = scale(test_vectors)"
   ],
   "metadata": {
    "collapsed": false,
    "ExecuteTime": {
     "end_time": "2023-06-23T19:58:11.848576800Z",
     "start_time": "2023-06-23T19:57:47.913068500Z"
    }
   }
  },
  {
   "cell_type": "code",
   "execution_count": 39,
   "outputs": [
    {
     "data": {
      "text/plain": "array([[ 0.593506  ,  0.07685355, -0.01743866, ..., -0.10728977,\n         1.04007564, -1.10483987],\n       [ 0.23467322, -0.36538544, -0.29257648, ..., -0.48899067,\n        -2.23696558,  0.56356398],\n       [ 1.56615113,  0.79057342, -0.74843439, ..., -0.31784446,\n         2.0679524 , -0.15527389],\n       ...,\n       [ 0.56916871,  0.57131207,  0.28079392, ..., -0.65417246,\n         0.20943486, -0.29243674],\n       [ 0.45995285,  0.14882305, -0.46893332, ..., -0.24959783,\n        -0.73207365, -0.46111686],\n       [ 1.10616388,  1.03748612, -0.70045138, ..., -0.46330461,\n        -0.95483508,  0.05238985]])"
     },
     "execution_count": 39,
     "metadata": {},
     "output_type": "execute_result"
    }
   ],
   "source": [
    "test_vectors"
   ],
   "metadata": {
    "collapsed": false,
    "ExecuteTime": {
     "end_time": "2023-06-23T19:58:16.058380700Z",
     "start_time": "2023-06-23T19:58:16.011506100Z"
    }
   }
  },
  {
   "cell_type": "code",
   "execution_count": 40,
   "outputs": [],
   "source": [
    "predictions = model.predict(test_vectors)"
   ],
   "metadata": {
    "collapsed": false,
    "ExecuteTime": {
     "end_time": "2023-06-23T19:58:32.055959400Z",
     "start_time": "2023-06-23T19:58:31.977836900Z"
    }
   }
  },
  {
   "cell_type": "code",
   "execution_count": 41,
   "outputs": [
    {
     "data": {
      "text/plain": "array([0, 0, 0, ..., 0, 0, 0], dtype=int64)"
     },
     "execution_count": 41,
     "metadata": {},
     "output_type": "execute_result"
    }
   ],
   "source": [
    "predictions"
   ],
   "metadata": {
    "collapsed": false,
    "ExecuteTime": {
     "end_time": "2023-06-23T19:58:35.414374300Z",
     "start_time": "2023-06-23T19:58:35.367499700Z"
    }
   }
  },
  {
   "cell_type": "code",
   "execution_count": 43,
   "outputs": [
    {
     "name": "stdout",
     "output_type": "stream",
     "text": [
      "Label 0 Count 235586\n",
      "Label 1 Count 785\n"
     ]
    }
   ],
   "source": [
    "# Calculating the value counts of predictions\n",
    "prediction_counts = np.bincount(predictions)\n",
    "\n",
    "# Printing the value counts\n",
    "for label, count in enumerate(prediction_counts):\n",
    "    print(\"Label\", label, \"Count\", count)"
   ],
   "metadata": {
    "collapsed": false,
    "ExecuteTime": {
     "end_time": "2023-06-23T20:00:24.520726800Z",
     "start_time": "2023-06-23T20:00:24.505098400Z"
    }
   }
  }
 ],
 "metadata": {
  "kernelspec": {
   "display_name": "Python 3",
   "language": "python",
   "name": "python3"
  },
  "language_info": {
   "codemirror_mode": {
    "name": "ipython",
    "version": 2
   },
   "file_extension": ".py",
   "mimetype": "text/x-python",
   "name": "python",
   "nbconvert_exporter": "python",
   "pygments_lexer": "ipython2",
   "version": "2.7.6"
  }
 },
 "nbformat": 4,
 "nbformat_minor": 0
}
