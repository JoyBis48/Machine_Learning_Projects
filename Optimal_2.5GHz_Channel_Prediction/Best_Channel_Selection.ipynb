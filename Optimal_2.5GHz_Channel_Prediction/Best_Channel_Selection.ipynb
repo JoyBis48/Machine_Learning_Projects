{
  "cells": [
    {
      "attachments": {},
      "cell_type": "markdown",
      "metadata": {
        "id": "9QebxNrqkeeE"
      },
      "source": [
        "## Importing Libraries"
      ]
    },
    {
      "cell_type": "code",
      "execution_count": 51,
      "metadata": {
        "id": "w70842JLnMId"
      },
      "outputs": [],
      "source": [
        "import pandas as pd\n",
        "import numpy as np\n",
        "import sklearn.cluster as cluster\n",
        "import seaborn as sns\n",
        "from matplotlib import pyplot as plt"
      ]
    },
    {
      "attachments": {},
      "cell_type": "markdown",
      "metadata": {
        "id": "Go5-QkRYkkNb"
      },
      "source": [
        "## Merging and Sorting the CSV Data"
      ]
    },
    {
      "cell_type": "code",
      "execution_count": 52,
      "metadata": {
        "id": "JYUuJEC_G7T6"
      },
      "outputs": [],
      "source": [
        "cs1 = pd.read_csv('report.csv')\n",
        "cs2 = pd.read_csv('report1.csv')\n",
        "cs3 = pd.read_csv('report2.csv')\n",
        "cs4 = pd.read_csv('report3.csv')\n",
        "cs5 = pd.read_csv('report4.csv')\n",
        "\n",
        "merged_cs = pd.concat([cs1, cs2, cs3, cs4, cs5])\n",
        "sorted_cs = merged_cs.sort_values(by=['Channel'])\n",
        "sorted_cs.to_csv('Wifi_Attributes.csv', index=False)"
      ]
    },
    {
      "cell_type": "code",
      "execution_count": 53,
      "metadata": {
        "id": "dStFxcKQnWsu"
      },
      "outputs": [],
      "source": [
        "wifi = pd.read_csv(\"Wifi_Attributes.csv\")\n"
      ]
    },
    {
      "cell_type": "code",
      "execution_count": 54,
      "metadata": {
        "colab": {
          "base_uri": "https://localhost:8080/",
          "height": 423
        },
        "id": "qXMX44u6nwXw",
        "outputId": "4bd8b1a7-11f6-4cc6-b898-4f1ff1ac6d65"
      },
      "outputs": [
        {
          "data": {
            "text/html": [
              "<div>\n",
              "<style scoped>\n",
              "    .dataframe tbody tr th:only-of-type {\n",
              "        vertical-align: middle;\n",
              "    }\n",
              "\n",
              "    .dataframe tbody tr th {\n",
              "        vertical-align: top;\n",
              "    }\n",
              "\n",
              "    .dataframe thead th {\n",
              "        text-align: right;\n",
              "    }\n",
              "</style>\n",
              "<table border=\"1\" class=\"dataframe\">\n",
              "  <thead>\n",
              "    <tr style=\"text-align: right;\">\n",
              "      <th></th>\n",
              "      <th>SSID</th>\n",
              "      <th>RSSI</th>\n",
              "      <th>Signal Quality</th>\n",
              "      <th>Average Signal Quality</th>\n",
              "      <th>Frequency</th>\n",
              "      <th>Channel</th>\n",
              "      <th>Channel Width</th>\n",
              "    </tr>\n",
              "  </thead>\n",
              "  <tbody>\n",
              "    <tr>\n",
              "      <th>0</th>\n",
              "      <td>realme GT Master Edition</td>\n",
              "      <td>-95</td>\n",
              "      <td>7</td>\n",
              "      <td>5.7</td>\n",
              "      <td>2.412</td>\n",
              "      <td>1</td>\n",
              "      <td>20 MHz</td>\n",
              "    </tr>\n",
              "    <tr>\n",
              "      <th>1</th>\n",
              "      <td>IoT</td>\n",
              "      <td>-81</td>\n",
              "      <td>20</td>\n",
              "      <td>16.5</td>\n",
              "      <td>2.412</td>\n",
              "      <td>1</td>\n",
              "      <td>20 MHz</td>\n",
              "    </tr>\n",
              "    <tr>\n",
              "      <th>2</th>\n",
              "      <td>IoT</td>\n",
              "      <td>-38</td>\n",
              "      <td>100</td>\n",
              "      <td>100.0</td>\n",
              "      <td>2.412</td>\n",
              "      <td>1</td>\n",
              "      <td>20 MHz</td>\n",
              "    </tr>\n",
              "    <tr>\n",
              "      <th>3</th>\n",
              "      <td>IoT</td>\n",
              "      <td>-59</td>\n",
              "      <td>100</td>\n",
              "      <td>100.0</td>\n",
              "      <td>2.412</td>\n",
              "      <td>1</td>\n",
              "      <td>20 MHz</td>\n",
              "    </tr>\n",
              "    <tr>\n",
              "      <th>4</th>\n",
              "      <td>Dlink</td>\n",
              "      <td>-38</td>\n",
              "      <td>100</td>\n",
              "      <td>100.0</td>\n",
              "      <td>2.412</td>\n",
              "      <td>1</td>\n",
              "      <td>20 MHz</td>\n",
              "    </tr>\n",
              "    <tr>\n",
              "      <th>...</th>\n",
              "      <td>...</td>\n",
              "      <td>...</td>\n",
              "      <td>...</td>\n",
              "      <td>...</td>\n",
              "      <td>...</td>\n",
              "      <td>...</td>\n",
              "      <td>...</td>\n",
              "    </tr>\n",
              "    <tr>\n",
              "      <th>256</th>\n",
              "      <td>IoT</td>\n",
              "      <td>-81</td>\n",
              "      <td>35</td>\n",
              "      <td>20.8</td>\n",
              "      <td>2.462</td>\n",
              "      <td>11</td>\n",
              "      <td>20 MHz</td>\n",
              "    </tr>\n",
              "    <tr>\n",
              "      <th>257</th>\n",
              "      <td>IoT</td>\n",
              "      <td>-66</td>\n",
              "      <td>100</td>\n",
              "      <td>100.0</td>\n",
              "      <td>2.462</td>\n",
              "      <td>11</td>\n",
              "      <td>20 MHz</td>\n",
              "    </tr>\n",
              "    <tr>\n",
              "      <th>258</th>\n",
              "      <td>IoT</td>\n",
              "      <td>-79</td>\n",
              "      <td>40</td>\n",
              "      <td>60.9</td>\n",
              "      <td>2.462</td>\n",
              "      <td>11</td>\n",
              "      <td>20 MHz</td>\n",
              "    </tr>\n",
              "    <tr>\n",
              "      <th>259</th>\n",
              "      <td>Dlink</td>\n",
              "      <td>-80</td>\n",
              "      <td>25</td>\n",
              "      <td>22.7</td>\n",
              "      <td>2.462</td>\n",
              "      <td>11</td>\n",
              "      <td>20 MHz</td>\n",
              "    </tr>\n",
              "    <tr>\n",
              "      <th>260</th>\n",
              "      <td>IIT(BHU)</td>\n",
              "      <td>-68</td>\n",
              "      <td>85</td>\n",
              "      <td>82.9</td>\n",
              "      <td>2.462</td>\n",
              "      <td>11</td>\n",
              "      <td>20 MHz</td>\n",
              "    </tr>\n",
              "  </tbody>\n",
              "</table>\n",
              "<p>261 rows × 7 columns</p>\n",
              "</div>"
            ],
            "text/plain": [
              "                         SSID  RSSI  Signal Quality  Average Signal Quality  \\\n",
              "0    realme GT Master Edition   -95               7                     5.7   \n",
              "1                         IoT   -81              20                    16.5   \n",
              "2                         IoT   -38             100                   100.0   \n",
              "3                         IoT   -59             100                   100.0   \n",
              "4                       Dlink   -38             100                   100.0   \n",
              "..                        ...   ...             ...                     ...   \n",
              "256                       IoT   -81              35                    20.8   \n",
              "257                       IoT   -66             100                   100.0   \n",
              "258                       IoT   -79              40                    60.9   \n",
              "259                     Dlink   -80              25                    22.7   \n",
              "260                  IIT(BHU)   -68              85                    82.9   \n",
              "\n",
              "     Frequency  Channel Channel Width  \n",
              "0        2.412        1        20 MHz  \n",
              "1        2.412        1        20 MHz  \n",
              "2        2.412        1        20 MHz  \n",
              "3        2.412        1        20 MHz  \n",
              "4        2.412        1        20 MHz  \n",
              "..         ...      ...           ...  \n",
              "256      2.462       11        20 MHz  \n",
              "257      2.462       11        20 MHz  \n",
              "258      2.462       11        20 MHz  \n",
              "259      2.462       11        20 MHz  \n",
              "260      2.462       11        20 MHz  \n",
              "\n",
              "[261 rows x 7 columns]"
            ]
          },
          "execution_count": 54,
          "metadata": {},
          "output_type": "execute_result"
        }
      ],
      "source": [
        "wifi"
      ]
    },
    {
      "cell_type": "code",
      "execution_count": 55,
      "metadata": {
        "colab": {
          "base_uri": "https://localhost:8080/"
        },
        "id": "kfd3XihAn5A5",
        "outputId": "b87069b0-708a-4e94-eec4-fcfd4c2e5e8c"
      },
      "outputs": [
        {
          "data": {
            "text/plain": [
              "(261, 7)"
            ]
          },
          "execution_count": 55,
          "metadata": {},
          "output_type": "execute_result"
        }
      ],
      "source": [
        "wifi.shape"
      ]
    },
    {
      "attachments": {},
      "cell_type": "markdown",
      "metadata": {
        "id": "LYKJaHm7k-Bu"
      },
      "source": [
        "## Selection of Relevant Features"
      ]
    },
    {
      "cell_type": "code",
      "execution_count": 56,
      "metadata": {
        "colab": {
          "base_uri": "https://localhost:8080/"
        },
        "id": "e5BoeCiCoHJ1",
        "outputId": "8b710f1e-a0f8-406d-90d4-697d39fd8100"
      },
      "outputs": [
        {
          "data": {
            "text/plain": [
              "RSSI                      float64\n",
              "Signal Quality            float64\n",
              "Average Signal Quality    float64\n",
              "Frequency                 float64\n",
              "Channel                   float64\n",
              "Channel Width             float64\n",
              "dtype: object"
            ]
          },
          "execution_count": 56,
          "metadata": {},
          "output_type": "execute_result"
        }
      ],
      "source": [
        "features = [\"RSSI\" , \"Signal Quality\" , \"Average Signal Quality\" , \"Frequency\" , \"Channel\" , \"Channel Width\"]\n",
        "wifi = wifi.dropna(subset=features)\n",
        "df = wifi[features].copy()\n",
        "df['Channel Width'] = df['Channel Width'].str.replace('MHz', '')\n",
        "df.dtypes\n",
        "df = df.astype(float)\n",
        "df.dtypes"
      ]
    },
    {
      "cell_type": "code",
      "execution_count": 57,
      "metadata": {
        "id": "WwI7iavrUi5p"
      },
      "outputs": [],
      "source": [
        "df_new= wifi[['RSSI' , 'Average Signal Quality' , 'Channel']].copy()"
      ]
    },
    {
      "attachments": {},
      "cell_type": "markdown",
      "metadata": {
        "id": "6bT4akp4lZFP"
      },
      "source": [
        "## Scaling and Preprocessing"
      ]
    },
    {
      "cell_type": "code",
      "execution_count": 58,
      "metadata": {
        "colab": {
          "base_uri": "https://localhost:8080/",
          "height": 300
        },
        "id": "RSJWKI_bwa_Y",
        "outputId": "5aa7ae15-4b35-4754-9e53-2446f956704e"
      },
      "outputs": [
        {
          "data": {
            "text/html": [
              "<div>\n",
              "<style scoped>\n",
              "    .dataframe tbody tr th:only-of-type {\n",
              "        vertical-align: middle;\n",
              "    }\n",
              "\n",
              "    .dataframe tbody tr th {\n",
              "        vertical-align: top;\n",
              "    }\n",
              "\n",
              "    .dataframe thead th {\n",
              "        text-align: right;\n",
              "    }\n",
              "</style>\n",
              "<table border=\"1\" class=\"dataframe\">\n",
              "  <thead>\n",
              "    <tr style=\"text-align: right;\">\n",
              "      <th></th>\n",
              "      <th>RSSI</th>\n",
              "      <th>Signal Quality</th>\n",
              "      <th>Average Signal Quality</th>\n",
              "      <th>Frequency</th>\n",
              "      <th>Channel</th>\n",
              "      <th>Channel Width</th>\n",
              "    </tr>\n",
              "  </thead>\n",
              "  <tbody>\n",
              "    <tr>\n",
              "      <th>count</th>\n",
              "      <td>261.000000</td>\n",
              "      <td>261.000000</td>\n",
              "      <td>261.000000</td>\n",
              "      <td>261.000000</td>\n",
              "      <td>261.000000</td>\n",
              "      <td>261.000000</td>\n",
              "    </tr>\n",
              "    <tr>\n",
              "      <th>mean</th>\n",
              "      <td>4.208086</td>\n",
              "      <td>4.869971</td>\n",
              "      <td>4.879310</td>\n",
              "      <td>5.793103</td>\n",
              "      <td>5.793103</td>\n",
              "      <td>1.034483</td>\n",
              "    </tr>\n",
              "    <tr>\n",
              "      <th>std</th>\n",
              "      <td>2.155237</td>\n",
              "      <td>3.515142</td>\n",
              "      <td>3.442599</td>\n",
              "      <td>3.865940</td>\n",
              "      <td>3.865940</td>\n",
              "      <td>0.557086</td>\n",
              "    </tr>\n",
              "    <tr>\n",
              "      <th>min</th>\n",
              "      <td>1.000000</td>\n",
              "      <td>1.000000</td>\n",
              "      <td>1.000000</td>\n",
              "      <td>1.000000</td>\n",
              "      <td>1.000000</td>\n",
              "      <td>1.000000</td>\n",
              "    </tr>\n",
              "    <tr>\n",
              "      <th>25%</th>\n",
              "      <td>2.551724</td>\n",
              "      <td>1.843750</td>\n",
              "      <td>1.825000</td>\n",
              "      <td>1.000000</td>\n",
              "      <td>1.000000</td>\n",
              "      <td>1.000000</td>\n",
              "    </tr>\n",
              "    <tr>\n",
              "      <th>50%</th>\n",
              "      <td>3.637931</td>\n",
              "      <td>2.968750</td>\n",
              "      <td>3.325000</td>\n",
              "      <td>5.500000</td>\n",
              "      <td>5.500000</td>\n",
              "      <td>1.000000</td>\n",
              "    </tr>\n",
              "    <tr>\n",
              "      <th>75%</th>\n",
              "      <td>5.500000</td>\n",
              "      <td>9.531250</td>\n",
              "      <td>9.343750</td>\n",
              "      <td>10.000000</td>\n",
              "      <td>10.000000</td>\n",
              "      <td>1.000000</td>\n",
              "    </tr>\n",
              "    <tr>\n",
              "      <th>max</th>\n",
              "      <td>10.000000</td>\n",
              "      <td>10.000000</td>\n",
              "      <td>10.000000</td>\n",
              "      <td>10.000000</td>\n",
              "      <td>10.000000</td>\n",
              "      <td>10.000000</td>\n",
              "    </tr>\n",
              "  </tbody>\n",
              "</table>\n",
              "</div>"
            ],
            "text/plain": [
              "             RSSI  Signal Quality  Average Signal Quality   Frequency  \\\n",
              "count  261.000000      261.000000              261.000000  261.000000   \n",
              "mean     4.208086        4.869971                4.879310    5.793103   \n",
              "std      2.155237        3.515142                3.442599    3.865940   \n",
              "min      1.000000        1.000000                1.000000    1.000000   \n",
              "25%      2.551724        1.843750                1.825000    1.000000   \n",
              "50%      3.637931        2.968750                3.325000    5.500000   \n",
              "75%      5.500000        9.531250                9.343750   10.000000   \n",
              "max     10.000000       10.000000               10.000000   10.000000   \n",
              "\n",
              "          Channel  Channel Width  \n",
              "count  261.000000     261.000000  \n",
              "mean     5.793103       1.034483  \n",
              "std      3.865940       0.557086  \n",
              "min      1.000000       1.000000  \n",
              "25%      1.000000       1.000000  \n",
              "50%      5.500000       1.000000  \n",
              "75%     10.000000       1.000000  \n",
              "max     10.000000      10.000000  "
            ]
          },
          "execution_count": 58,
          "metadata": {},
          "output_type": "execute_result"
        }
      ],
      "source": [
        "df = ((df-df.min())/(df.max()-df.min()))*9+1        #using min-max scaling method\n",
        "df.describe()"
      ]
    },
    {
      "cell_type": "code",
      "execution_count": 59,
      "metadata": {
        "colab": {
          "base_uri": "https://localhost:8080/",
          "height": 423
        },
        "id": "xzNMc2Ge2JB7",
        "outputId": "6ba8c01d-a70b-4fbf-ec6a-36f377a2f8ec"
      },
      "outputs": [
        {
          "data": {
            "text/html": [
              "<div>\n",
              "<style scoped>\n",
              "    .dataframe tbody tr th:only-of-type {\n",
              "        vertical-align: middle;\n",
              "    }\n",
              "\n",
              "    .dataframe tbody tr th {\n",
              "        vertical-align: top;\n",
              "    }\n",
              "\n",
              "    .dataframe thead th {\n",
              "        text-align: right;\n",
              "    }\n",
              "</style>\n",
              "<table border=\"1\" class=\"dataframe\">\n",
              "  <thead>\n",
              "    <tr style=\"text-align: right;\">\n",
              "      <th></th>\n",
              "      <th>RSSI</th>\n",
              "      <th>Signal Quality</th>\n",
              "      <th>Average Signal Quality</th>\n",
              "      <th>Frequency</th>\n",
              "      <th>Channel</th>\n",
              "      <th>Channel Width</th>\n",
              "    </tr>\n",
              "  </thead>\n",
              "  <tbody>\n",
              "    <tr>\n",
              "      <th>0</th>\n",
              "      <td>1.155172</td>\n",
              "      <td>1.28125</td>\n",
              "      <td>1.159375</td>\n",
              "      <td>1.0</td>\n",
              "      <td>1.0</td>\n",
              "      <td>1.0</td>\n",
              "    </tr>\n",
              "    <tr>\n",
              "      <th>1</th>\n",
              "      <td>3.327586</td>\n",
              "      <td>2.50000</td>\n",
              "      <td>2.171875</td>\n",
              "      <td>1.0</td>\n",
              "      <td>1.0</td>\n",
              "      <td>1.0</td>\n",
              "    </tr>\n",
              "    <tr>\n",
              "      <th>2</th>\n",
              "      <td>10.000000</td>\n",
              "      <td>10.00000</td>\n",
              "      <td>10.000000</td>\n",
              "      <td>1.0</td>\n",
              "      <td>1.0</td>\n",
              "      <td>1.0</td>\n",
              "    </tr>\n",
              "    <tr>\n",
              "      <th>3</th>\n",
              "      <td>6.741379</td>\n",
              "      <td>10.00000</td>\n",
              "      <td>10.000000</td>\n",
              "      <td>1.0</td>\n",
              "      <td>1.0</td>\n",
              "      <td>1.0</td>\n",
              "    </tr>\n",
              "    <tr>\n",
              "      <th>4</th>\n",
              "      <td>10.000000</td>\n",
              "      <td>10.00000</td>\n",
              "      <td>10.000000</td>\n",
              "      <td>1.0</td>\n",
              "      <td>1.0</td>\n",
              "      <td>1.0</td>\n",
              "    </tr>\n",
              "    <tr>\n",
              "      <th>...</th>\n",
              "      <td>...</td>\n",
              "      <td>...</td>\n",
              "      <td>...</td>\n",
              "      <td>...</td>\n",
              "      <td>...</td>\n",
              "      <td>...</td>\n",
              "    </tr>\n",
              "    <tr>\n",
              "      <th>256</th>\n",
              "      <td>3.327586</td>\n",
              "      <td>3.90625</td>\n",
              "      <td>2.575000</td>\n",
              "      <td>10.0</td>\n",
              "      <td>10.0</td>\n",
              "      <td>1.0</td>\n",
              "    </tr>\n",
              "    <tr>\n",
              "      <th>257</th>\n",
              "      <td>5.655172</td>\n",
              "      <td>10.00000</td>\n",
              "      <td>10.000000</td>\n",
              "      <td>10.0</td>\n",
              "      <td>10.0</td>\n",
              "      <td>1.0</td>\n",
              "    </tr>\n",
              "    <tr>\n",
              "      <th>258</th>\n",
              "      <td>3.637931</td>\n",
              "      <td>4.37500</td>\n",
              "      <td>6.334375</td>\n",
              "      <td>10.0</td>\n",
              "      <td>10.0</td>\n",
              "      <td>1.0</td>\n",
              "    </tr>\n",
              "    <tr>\n",
              "      <th>259</th>\n",
              "      <td>3.482759</td>\n",
              "      <td>2.96875</td>\n",
              "      <td>2.753125</td>\n",
              "      <td>10.0</td>\n",
              "      <td>10.0</td>\n",
              "      <td>1.0</td>\n",
              "    </tr>\n",
              "    <tr>\n",
              "      <th>260</th>\n",
              "      <td>5.344828</td>\n",
              "      <td>8.59375</td>\n",
              "      <td>8.396875</td>\n",
              "      <td>10.0</td>\n",
              "      <td>10.0</td>\n",
              "      <td>1.0</td>\n",
              "    </tr>\n",
              "  </tbody>\n",
              "</table>\n",
              "<p>261 rows × 6 columns</p>\n",
              "</div>"
            ],
            "text/plain": [
              "          RSSI  Signal Quality  Average Signal Quality  Frequency  Channel  \\\n",
              "0     1.155172         1.28125                1.159375        1.0      1.0   \n",
              "1     3.327586         2.50000                2.171875        1.0      1.0   \n",
              "2    10.000000        10.00000               10.000000        1.0      1.0   \n",
              "3     6.741379        10.00000               10.000000        1.0      1.0   \n",
              "4    10.000000        10.00000               10.000000        1.0      1.0   \n",
              "..         ...             ...                     ...        ...      ...   \n",
              "256   3.327586         3.90625                2.575000       10.0     10.0   \n",
              "257   5.655172        10.00000               10.000000       10.0     10.0   \n",
              "258   3.637931         4.37500                6.334375       10.0     10.0   \n",
              "259   3.482759         2.96875                2.753125       10.0     10.0   \n",
              "260   5.344828         8.59375                8.396875       10.0     10.0   \n",
              "\n",
              "     Channel Width  \n",
              "0              1.0  \n",
              "1              1.0  \n",
              "2              1.0  \n",
              "3              1.0  \n",
              "4              1.0  \n",
              "..             ...  \n",
              "256            1.0  \n",
              "257            1.0  \n",
              "258            1.0  \n",
              "259            1.0  \n",
              "260            1.0  \n",
              "\n",
              "[261 rows x 6 columns]"
            ]
          },
          "execution_count": 59,
          "metadata": {},
          "output_type": "execute_result"
        }
      ],
      "source": [
        "df   #already preprocessed. No NaN values in the data, and unwanted columns were removed beforehand."
      ]
    },
    {
      "cell_type": "code",
      "execution_count": 60,
      "metadata": {
        "colab": {
          "base_uri": "https://localhost:8080/"
        },
        "id": "BpSYxhsK86Sb",
        "outputId": "3501e1c5-95d9-4b70-c373-9ca38c5039de"
      },
      "outputs": [
        {
          "name": "stderr",
          "output_type": "stream",
          "text": [
            "c:\\Users\\User\\anaconda3\\lib\\site-packages\\sklearn\\cluster\\_kmeans.py:1036: UserWarning: KMeans is known to have a memory leak on Windows with MKL, when there are less chunks than available threads. You can avoid it by setting the environment variable OMP_NUM_THREADS=2.\n",
            "  warnings.warn(\n"
          ]
        }
      ],
      "source": [
        "K = range(1,12)\n",
        "wss = []\n",
        "for k in K:\n",
        "    kmeans=cluster.KMeans(n_clusters=k,init=\"k-means++\")\n",
        "    kmeans=kmeans.fit(df)\n",
        "    wss_iter = kmeans.inertia_\n",
        "    wss.append(wss_iter)"
      ]
    },
    {
      "cell_type": "code",
      "execution_count": 61,
      "metadata": {
        "colab": {
          "base_uri": "https://localhost:8080/",
          "height": 394
        },
        "id": "NQ4ojyEM9fPX",
        "outputId": "f951a55e-a3a0-4da4-d860-069744917aa6"
      },
      "outputs": [
        {
          "data": {
            "text/html": [
              "<div>\n",
              "<style scoped>\n",
              "    .dataframe tbody tr th:only-of-type {\n",
              "        vertical-align: middle;\n",
              "    }\n",
              "\n",
              "    .dataframe tbody tr th {\n",
              "        vertical-align: top;\n",
              "    }\n",
              "\n",
              "    .dataframe thead th {\n",
              "        text-align: right;\n",
              "    }\n",
              "</style>\n",
              "<table border=\"1\" class=\"dataframe\">\n",
              "  <thead>\n",
              "    <tr style=\"text-align: right;\">\n",
              "      <th></th>\n",
              "      <th>Clusters</th>\n",
              "      <th>WSS</th>\n",
              "    </tr>\n",
              "  </thead>\n",
              "  <tbody>\n",
              "    <tr>\n",
              "      <th>0</th>\n",
              "      <td>1</td>\n",
              "      <td>15354.061780</td>\n",
              "    </tr>\n",
              "    <tr>\n",
              "      <th>1</th>\n",
              "      <td>2</td>\n",
              "      <td>8940.019596</td>\n",
              "    </tr>\n",
              "    <tr>\n",
              "      <th>2</th>\n",
              "      <td>3</td>\n",
              "      <td>4855.828985</td>\n",
              "    </tr>\n",
              "    <tr>\n",
              "      <th>3</th>\n",
              "      <td>4</td>\n",
              "      <td>2708.605310</td>\n",
              "    </tr>\n",
              "    <tr>\n",
              "      <th>4</th>\n",
              "      <td>5</td>\n",
              "      <td>1609.612715</td>\n",
              "    </tr>\n",
              "    <tr>\n",
              "      <th>5</th>\n",
              "      <td>6</td>\n",
              "      <td>1166.753511</td>\n",
              "    </tr>\n",
              "    <tr>\n",
              "      <th>6</th>\n",
              "      <td>7</td>\n",
              "      <td>854.580124</td>\n",
              "    </tr>\n",
              "    <tr>\n",
              "      <th>7</th>\n",
              "      <td>8</td>\n",
              "      <td>701.180237</td>\n",
              "    </tr>\n",
              "    <tr>\n",
              "      <th>8</th>\n",
              "      <td>9</td>\n",
              "      <td>559.310339</td>\n",
              "    </tr>\n",
              "    <tr>\n",
              "      <th>9</th>\n",
              "      <td>10</td>\n",
              "      <td>477.893432</td>\n",
              "    </tr>\n",
              "    <tr>\n",
              "      <th>10</th>\n",
              "      <td>11</td>\n",
              "      <td>424.471186</td>\n",
              "    </tr>\n",
              "  </tbody>\n",
              "</table>\n",
              "</div>"
            ],
            "text/plain": [
              "    Clusters           WSS\n",
              "0          1  15354.061780\n",
              "1          2   8940.019596\n",
              "2          3   4855.828985\n",
              "3          4   2708.605310\n",
              "4          5   1609.612715\n",
              "5          6   1166.753511\n",
              "6          7    854.580124\n",
              "7          8    701.180237\n",
              "8          9    559.310339\n",
              "9         10    477.893432\n",
              "10        11    424.471186"
            ]
          },
          "execution_count": 61,
          "metadata": {},
          "output_type": "execute_result"
        }
      ],
      "source": [
        "centroids = pd.DataFrame({'Clusters' : K, 'WSS' : wss})\n",
        "centroids"
      ]
    },
    {
      "attachments": {},
      "cell_type": "markdown",
      "metadata": {
        "id": "XBaAXA05mViu"
      },
      "source": [
        "## Elbow Point Method Visualisation"
      ]
    },
    {
      "cell_type": "code",
      "execution_count": 62,
      "metadata": {
        "colab": {
          "base_uri": "https://localhost:8080/",
          "height": 470
        },
        "id": "Mj2EHSSI9qn-",
        "outputId": "3adca58a-9a4d-463e-f06e-004a61c2bcdb"
      },
      "outputs": [
        {
          "data": {
            "text/plain": [
              "<AxesSubplot:xlabel='Clusters', ylabel='WSS'>"
            ]
          },
          "execution_count": 62,
          "metadata": {},
          "output_type": "execute_result"
        },
        {
          "data": {
            "image/png": "[encoded data removed]",
            "text/plain": [
              "<Figure size 432x288 with 1 Axes>"
            ]
          },
          "metadata": {
            "needs_background": "light"
          },
          "output_type": "display_data"
        }
      ],
      "source": [
        "sns.lineplot(x = 'Clusters', y = 'WSS', data = centroids , marker=\"+\")"
      ]
    },
    {
      "attachments": {},
      "cell_type": "markdown",
      "metadata": {
        "id": "D6Kp8EJ_mZ-f"
      },
      "source": [
        "## Optimal K value from the plot :- 5"
      ]
    },
    {
      "cell_type": "code",
      "execution_count": 63,
      "metadata": {
        "id": "HUiegUxK-4RD"
      },
      "outputs": [],
      "source": [
        "from sklearn.cluster import KMeans"
      ]
    },
    {
      "attachments": {},
      "cell_type": "markdown",
      "metadata": {
        "id": "4B4gwhmxm0jj"
      },
      "source": [
        "## Applying K-Means Clustering Algorithm "
      ]
    },
    {
      "cell_type": "code",
      "execution_count": 64,
      "metadata": {
        "id": "AChC6pvo_Y3s"
      },
      "outputs": [],
      "source": [
        "km = KMeans(5)\n",
        "cluster_index = km.fit_predict(df)"
      ]
    },
    {
      "cell_type": "code",
      "execution_count": 65,
      "metadata": {
        "colab": {
          "base_uri": "https://localhost:8080/",
          "height": 423
        },
        "id": "YbAFT-li_82G",
        "outputId": "0e9df9be-b470-4495-d12e-bdc83ad9e4ac"
      },
      "outputs": [
        {
          "data": {
            "text/html": [
              "<div>\n",
              "<style scoped>\n",
              "    .dataframe tbody tr th:only-of-type {\n",
              "        vertical-align: middle;\n",
              "    }\n",
              "\n",
              "    .dataframe tbody tr th {\n",
              "        vertical-align: top;\n",
              "    }\n",
              "\n",
              "    .dataframe thead th {\n",
              "        text-align: right;\n",
              "    }\n",
              "</style>\n",
              "<table border=\"1\" class=\"dataframe\">\n",
              "  <thead>\n",
              "    <tr style=\"text-align: right;\">\n",
              "      <th></th>\n",
              "      <th>RSSI</th>\n",
              "      <th>Signal Quality</th>\n",
              "      <th>Average Signal Quality</th>\n",
              "      <th>Frequency</th>\n",
              "      <th>Channel</th>\n",
              "      <th>Channel Width</th>\n",
              "      <th>Cluster</th>\n",
              "    </tr>\n",
              "  </thead>\n",
              "  <tbody>\n",
              "    <tr>\n",
              "      <th>0</th>\n",
              "      <td>1.155172</td>\n",
              "      <td>1.28125</td>\n",
              "      <td>1.159375</td>\n",
              "      <td>1.0</td>\n",
              "      <td>1.0</td>\n",
              "      <td>1.0</td>\n",
              "      <td>4</td>\n",
              "    </tr>\n",
              "    <tr>\n",
              "      <th>1</th>\n",
              "      <td>3.327586</td>\n",
              "      <td>2.50000</td>\n",
              "      <td>2.171875</td>\n",
              "      <td>1.0</td>\n",
              "      <td>1.0</td>\n",
              "      <td>1.0</td>\n",
              "      <td>4</td>\n",
              "    </tr>\n",
              "    <tr>\n",
              "      <th>2</th>\n",
              "      <td>10.000000</td>\n",
              "      <td>10.00000</td>\n",
              "      <td>10.000000</td>\n",
              "      <td>1.0</td>\n",
              "      <td>1.0</td>\n",
              "      <td>1.0</td>\n",
              "      <td>2</td>\n",
              "    </tr>\n",
              "    <tr>\n",
              "      <th>3</th>\n",
              "      <td>6.741379</td>\n",
              "      <td>10.00000</td>\n",
              "      <td>10.000000</td>\n",
              "      <td>1.0</td>\n",
              "      <td>1.0</td>\n",
              "      <td>1.0</td>\n",
              "      <td>2</td>\n",
              "    </tr>\n",
              "    <tr>\n",
              "      <th>4</th>\n",
              "      <td>10.000000</td>\n",
              "      <td>10.00000</td>\n",
              "      <td>10.000000</td>\n",
              "      <td>1.0</td>\n",
              "      <td>1.0</td>\n",
              "      <td>1.0</td>\n",
              "      <td>2</td>\n",
              "    </tr>\n",
              "    <tr>\n",
              "      <th>...</th>\n",
              "      <td>...</td>\n",
              "      <td>...</td>\n",
              "      <td>...</td>\n",
              "      <td>...</td>\n",
              "      <td>...</td>\n",
              "      <td>...</td>\n",
              "      <td>...</td>\n",
              "    </tr>\n",
              "    <tr>\n",
              "      <th>256</th>\n",
              "      <td>3.327586</td>\n",
              "      <td>3.90625</td>\n",
              "      <td>2.575000</td>\n",
              "      <td>10.0</td>\n",
              "      <td>10.0</td>\n",
              "      <td>1.0</td>\n",
              "      <td>3</td>\n",
              "    </tr>\n",
              "    <tr>\n",
              "      <th>257</th>\n",
              "      <td>5.655172</td>\n",
              "      <td>10.00000</td>\n",
              "      <td>10.000000</td>\n",
              "      <td>10.0</td>\n",
              "      <td>10.0</td>\n",
              "      <td>1.0</td>\n",
              "      <td>1</td>\n",
              "    </tr>\n",
              "    <tr>\n",
              "      <th>258</th>\n",
              "      <td>3.637931</td>\n",
              "      <td>4.37500</td>\n",
              "      <td>6.334375</td>\n",
              "      <td>10.0</td>\n",
              "      <td>10.0</td>\n",
              "      <td>1.0</td>\n",
              "      <td>3</td>\n",
              "    </tr>\n",
              "    <tr>\n",
              "      <th>259</th>\n",
              "      <td>3.482759</td>\n",
              "      <td>2.96875</td>\n",
              "      <td>2.753125</td>\n",
              "      <td>10.0</td>\n",
              "      <td>10.0</td>\n",
              "      <td>1.0</td>\n",
              "      <td>3</td>\n",
              "    </tr>\n",
              "    <tr>\n",
              "      <th>260</th>\n",
              "      <td>5.344828</td>\n",
              "      <td>8.59375</td>\n",
              "      <td>8.396875</td>\n",
              "      <td>10.0</td>\n",
              "      <td>10.0</td>\n",
              "      <td>1.0</td>\n",
              "      <td>1</td>\n",
              "    </tr>\n",
              "  </tbody>\n",
              "</table>\n",
              "<p>261 rows × 7 columns</p>\n",
              "</div>"
            ],
            "text/plain": [
              "          RSSI  Signal Quality  Average Signal Quality  Frequency  Channel  \\\n",
              "0     1.155172         1.28125                1.159375        1.0      1.0   \n",
              "1     3.327586         2.50000                2.171875        1.0      1.0   \n",
              "2    10.000000        10.00000               10.000000        1.0      1.0   \n",
              "3     6.741379        10.00000               10.000000        1.0      1.0   \n",
              "4    10.000000        10.00000               10.000000        1.0      1.0   \n",
              "..         ...             ...                     ...        ...      ...   \n",
              "256   3.327586         3.90625                2.575000       10.0     10.0   \n",
              "257   5.655172        10.00000               10.000000       10.0     10.0   \n",
              "258   3.637931         4.37500                6.334375       10.0     10.0   \n",
              "259   3.482759         2.96875                2.753125       10.0     10.0   \n",
              "260   5.344828         8.59375                8.396875       10.0     10.0   \n",
              "\n",
              "     Channel Width  Cluster  \n",
              "0              1.0        4  \n",
              "1              1.0        4  \n",
              "2              1.0        2  \n",
              "3              1.0        2  \n",
              "4              1.0        2  \n",
              "..             ...      ...  \n",
              "256            1.0        3  \n",
              "257            1.0        1  \n",
              "258            1.0        3  \n",
              "259            1.0        3  \n",
              "260            1.0        1  \n",
              "\n",
              "[261 rows x 7 columns]"
            ]
          },
          "execution_count": 65,
          "metadata": {},
          "output_type": "execute_result"
        }
      ],
      "source": [
        "df['Cluster']=cluster_index\n",
        "df"
      ]
    },
    {
      "cell_type": "code",
      "execution_count": 66,
      "metadata": {
        "id": "5zBnrDBcGV1_"
      },
      "outputs": [],
      "source": [
        "df_new['Cluster']=df['Cluster']"
      ]
    },
    {
      "cell_type": "code",
      "execution_count": 67,
      "metadata": {
        "colab": {
          "base_uri": "https://localhost:8080/",
          "height": 423
        },
        "id": "M7KQOPRMTti4",
        "outputId": "a7d7708c-f097-4f4e-f1e4-581239b764b2"
      },
      "outputs": [
        {
          "data": {
            "text/html": [
              "<div>\n",
              "<style scoped>\n",
              "    .dataframe tbody tr th:only-of-type {\n",
              "        vertical-align: middle;\n",
              "    }\n",
              "\n",
              "    .dataframe tbody tr th {\n",
              "        vertical-align: top;\n",
              "    }\n",
              "\n",
              "    .dataframe thead th {\n",
              "        text-align: right;\n",
              "    }\n",
              "</style>\n",
              "<table border=\"1\" class=\"dataframe\">\n",
              "  <thead>\n",
              "    <tr style=\"text-align: right;\">\n",
              "      <th></th>\n",
              "      <th>RSSI</th>\n",
              "      <th>Average Signal Quality</th>\n",
              "      <th>Channel</th>\n",
              "      <th>Cluster</th>\n",
              "    </tr>\n",
              "  </thead>\n",
              "  <tbody>\n",
              "    <tr>\n",
              "      <th>0</th>\n",
              "      <td>-95</td>\n",
              "      <td>5.7</td>\n",
              "      <td>1</td>\n",
              "      <td>4</td>\n",
              "    </tr>\n",
              "    <tr>\n",
              "      <th>1</th>\n",
              "      <td>-81</td>\n",
              "      <td>16.5</td>\n",
              "      <td>1</td>\n",
              "      <td>4</td>\n",
              "    </tr>\n",
              "    <tr>\n",
              "      <th>2</th>\n",
              "      <td>-38</td>\n",
              "      <td>100.0</td>\n",
              "      <td>1</td>\n",
              "      <td>2</td>\n",
              "    </tr>\n",
              "    <tr>\n",
              "      <th>3</th>\n",
              "      <td>-59</td>\n",
              "      <td>100.0</td>\n",
              "      <td>1</td>\n",
              "      <td>2</td>\n",
              "    </tr>\n",
              "    <tr>\n",
              "      <th>4</th>\n",
              "      <td>-38</td>\n",
              "      <td>100.0</td>\n",
              "      <td>1</td>\n",
              "      <td>2</td>\n",
              "    </tr>\n",
              "    <tr>\n",
              "      <th>...</th>\n",
              "      <td>...</td>\n",
              "      <td>...</td>\n",
              "      <td>...</td>\n",
              "      <td>...</td>\n",
              "    </tr>\n",
              "    <tr>\n",
              "      <th>256</th>\n",
              "      <td>-81</td>\n",
              "      <td>20.8</td>\n",
              "      <td>11</td>\n",
              "      <td>3</td>\n",
              "    </tr>\n",
              "    <tr>\n",
              "      <th>257</th>\n",
              "      <td>-66</td>\n",
              "      <td>100.0</td>\n",
              "      <td>11</td>\n",
              "      <td>1</td>\n",
              "    </tr>\n",
              "    <tr>\n",
              "      <th>258</th>\n",
              "      <td>-79</td>\n",
              "      <td>60.9</td>\n",
              "      <td>11</td>\n",
              "      <td>3</td>\n",
              "    </tr>\n",
              "    <tr>\n",
              "      <th>259</th>\n",
              "      <td>-80</td>\n",
              "      <td>22.7</td>\n",
              "      <td>11</td>\n",
              "      <td>3</td>\n",
              "    </tr>\n",
              "    <tr>\n",
              "      <th>260</th>\n",
              "      <td>-68</td>\n",
              "      <td>82.9</td>\n",
              "      <td>11</td>\n",
              "      <td>1</td>\n",
              "    </tr>\n",
              "  </tbody>\n",
              "</table>\n",
              "<p>261 rows × 4 columns</p>\n",
              "</div>"
            ],
            "text/plain": [
              "     RSSI  Average Signal Quality  Channel  Cluster\n",
              "0     -95                     5.7        1        4\n",
              "1     -81                    16.5        1        4\n",
              "2     -38                   100.0        1        2\n",
              "3     -59                   100.0        1        2\n",
              "4     -38                   100.0        1        2\n",
              "..    ...                     ...      ...      ...\n",
              "256   -81                    20.8       11        3\n",
              "257   -66                   100.0       11        1\n",
              "258   -79                    60.9       11        3\n",
              "259   -80                    22.7       11        3\n",
              "260   -68                    82.9       11        1\n",
              "\n",
              "[261 rows x 4 columns]"
            ]
          },
          "execution_count": 67,
          "metadata": {},
          "output_type": "execute_result"
        }
      ],
      "source": [
        "df_new"
      ]
    },
    {
      "cell_type": "code",
      "execution_count": 68,
      "metadata": {
        "colab": {
          "base_uri": "https://localhost:8080/",
          "height": 504
        },
        "id": "mkrmo_ABQjSo",
        "outputId": "8ee2117f-54c7-45d8-91ed-25fb006d0bb3"
      },
      "outputs": [
        {
          "name": "stderr",
          "output_type": "stream",
          "text": [
            "No artists with labels found to put in legend.  Note that artists whose label start with an underscore are ignored when legend() is called with no argument.\n"
          ]
        },
        {
          "data": {
            "text/plain": [
              "<matplotlib.legend.Legend at 0x15cbf3c9eb0>"
            ]
          },
          "execution_count": 68,
          "metadata": {},
          "output_type": "execute_result"
        },
        {
          "data": {
            "image/png": "[encoded data removed]",
            "text/plain": [
              "<Figure size 432x288 with 1 Axes>"
            ]
          },
          "metadata": {
            "needs_background": "light"
          },
          "output_type": "display_data"
        }
      ],
      "source": [
        "\n",
        "df1 = df_new[df_new.Cluster==0]\n",
        "df2 = df_new[df_new.Cluster==1]\n",
        "df3 = df_new[df_new.Cluster==2]\n",
        "df4 = df_new[df_new.Cluster==3]\n",
        "df5 = df_new[df_new.Cluster==4]\n",
        "plt.scatter(df1['Average Signal Quality'],df1['Channel'],color = 'green')\n",
        "plt.scatter(df2['Average Signal Quality'],df2['Channel'],color = 'yellow')\n",
        "plt.scatter(df3['Average Signal Quality'],df3['Channel'],color = 'blue')\n",
        "plt.scatter(df4['Average Signal Quality'],df4['Channel'],color = 'red')\n",
        "plt.scatter(df5['Average Signal Quality'],df5['Channel'],color = 'black')\n",
        "\n",
        "\n",
        "\n",
        "plt.xlabel('Average Signal Quality')\n",
        "plt.ylabel('Channel')\n",
        "plt.legend()\n",
        "\n"
      ]
    },
    {
      "cell_type": "code",
      "execution_count": 69,
      "metadata": {
        "colab": {
          "base_uri": "https://localhost:8080/",
          "height": 504
        },
        "id": "q5TyeNGzUKzy",
        "outputId": "597e2d00-adfb-4346-af02-d5fe95601316"
      },
      "outputs": [
        {
          "name": "stderr",
          "output_type": "stream",
          "text": [
            "No artists with labels found to put in legend.  Note that artists whose label start with an underscore are ignored when legend() is called with no argument.\n"
          ]
        },
        {
          "data": {
            "text/plain": [
              "<matplotlib.legend.Legend at 0x15cbf439f70>"
            ]
          },
          "execution_count": 69,
          "metadata": {},
          "output_type": "execute_result"
        },
        {
          "data": {
            "image/png": "[encoded data removed]",
            "text/plain": [
              "<Figure size 432x288 with 1 Axes>"
            ]
          },
          "metadata": {
            "needs_background": "light"
          },
          "output_type": "display_data"
        }
      ],
      "source": [
        "\n",
        "df1 = df_new[df_new.Cluster==0]\n",
        "df2 = df_new[df_new.Cluster==1]\n",
        "df3 = df_new[df_new.Cluster==2]\n",
        "df4 = df_new[df_new.Cluster==3]\n",
        "df5 = df_new[df_new.Cluster==4]\n",
        "plt.scatter(df1['Cluster'],df1['Channel'],color = 'green')\n",
        "plt.scatter(df2['Cluster'],df2['Channel'],color = 'yellow')\n",
        "plt.scatter(df3['Cluster'],df3['Channel'],color = 'blue')\n",
        "plt.scatter(df4['Cluster'],df4['Channel'],color = 'red')\n",
        "plt.scatter(df5['Cluster'],df5['Channel'],color = 'black')\n",
        "\n",
        "\n",
        "\n",
        "plt.xlabel('Cluster')\n",
        "plt.ylabel('Channel')\n",
        "plt.legend()\n"
      ]
    },
    {
      "cell_type": "code",
      "execution_count": 70,
      "metadata": {
        "colab": {
          "base_uri": "https://localhost:8080/",
          "height": 504
        },
        "id": "ZzVhQ-fISA8r",
        "outputId": "30ff5684-a948-4e74-c47a-2fd3f4667de1"
      },
      "outputs": [
        {
          "name": "stderr",
          "output_type": "stream",
          "text": [
            "No artists with labels found to put in legend.  Note that artists whose label start with an underscore are ignored when legend() is called with no argument.\n"
          ]
        },
        {
          "data": {
            "text/plain": [
              "<matplotlib.legend.Legend at 0x15cbf4b1ca0>"
            ]
          },
          "execution_count": 70,
          "metadata": {},
          "output_type": "execute_result"
        },
        {
          "data": {
            "image/png": "[encoded data removed]",
            "text/plain": [
              "<Figure size 432x288 with 1 Axes>"
            ]
          },
          "metadata": {
            "needs_background": "light"
          },
          "output_type": "display_data"
        }
      ],
      "source": [
        "df1 = df_new[df_new.Cluster==0]\n",
        "df2 = df_new[df_new.Cluster==1]\n",
        "df3 = df_new[df_new.Cluster==2]\n",
        "df4 = df_new[df_new.Cluster==3]\n",
        "df5 = df_new[df_new.Cluster==4]\n",
        "plt.scatter(df1['Cluster'],df1['RSSI'],color = 'green')\n",
        "plt.scatter(df2['Cluster'],df2['RSSI'],color = 'yellow')\n",
        "plt.scatter(df3['Cluster'],df3['RSSI'],color = 'blue')\n",
        "plt.scatter(df4['Cluster'],df4['RSSI'],color = 'red')\n",
        "plt.scatter(df5['Cluster'],df5['RSSI'],color = 'black')\n",
        "\n",
        "\n",
        "\n",
        "plt.xlabel('Cluster')\n",
        "plt.ylabel('RSSI')\n",
        "plt.legend()"
      ]
    },
    {
      "attachments": {},
      "cell_type": "markdown",
      "metadata": {
        "id": "RFQMI-JQbYrs"
      },
      "source": [
        "## Evaluating the performance of the K-Means Cluster through Silhouette analysis and Silhouette score.\n",
        "\n",
        "Silhouette analysis is used to study the separation distance between the obtained clusters. The plot displays a measure of how close each point in one cluster is to points in the neighboring clusters and thus provides a way to assess parameters like number of clusters visually. This way of measure has a range from -1 to 1 .\n",
        "-1 indicates worst cluster.\n",
        "near 0 indicates overlapping clusters\n",
        "+1 indicates highly compact clusters, and is the best kind of cluster that can be obtained."
      ]
    },
    {
      "cell_type": "code",
      "execution_count": 71,
      "metadata": {
        "id": "EpM2ntBqbYrs",
        "outputId": "72067f40-bba5-4d07-e870-606306a008c5"
      },
      "outputs": [
        {
          "data": {
            "image/png": "[encoded data removed]",
            "text/plain": [
              "<Figure size 432x288 with 1 Axes>"
            ]
          },
          "metadata": {
            "needs_background": "light"
          },
          "output_type": "display_data"
        },
        {
          "name": "stdout",
          "output_type": "stream",
          "text": [
            "The silhouette_score of K-Means Clustering is : 0.6608624358424141\n"
          ]
        }
      ],
      "source": [
        "from matplotlib import cm\n",
        "from sklearn.cluster import KMeans\n",
        "from sklearn.metrics import silhouette_samples, silhouette_score\n",
        "import matplotlib.pyplot as plt\n",
        "import numpy as np\n",
        "\n",
        "\n",
        "silhouette_avg = silhouette_score(df, cluster_index)\n",
        "sample_silhouette_values = silhouette_samples(df, cluster_index)\n",
        "y_lower = 10\n",
        "fig, ax = plt.subplots()\n",
        "for i in range(5):\n",
        "    ith_cluster_silhouette_values = sample_silhouette_values[cluster_index == i]\n",
        "    ith_cluster_silhouette_values.sort()\n",
        "    size_cluster_i = ith_cluster_silhouette_values.shape[0]\n",
        "    y_upper = y_lower + size_cluster_i\n",
        "    color = cm.nipy_spectral(float(i) / 5)\n",
        "    ax.fill_betweenx(np.arange(y_lower, y_upper), 0, ith_cluster_silhouette_values, facecolor=color, edgecolor='k', alpha=0.7)\n",
        "    ax.text(-0.05, y_lower + 0.5 * size_cluster_i, str(i))\n",
        "    y_lower = y_upper + 10\n",
        "ax.set_xlabel(\"Silhouette_Coefficient\")\n",
        "ax.set_ylabel(\"Cluster_Index\")\n",
        "ax.axvline(x=silhouette_avg, color=\"red\", linestyle=\"--\")\n",
        "ax.set_yticks([])\n",
        "plt.show()\n",
        "\n",
        "print(\"The silhouette_score of K-Means Clustering is :\", silhouette_score(df, cluster_index)) # The Higher the better. It ranges from 0 to 1"
      ]
    },
    {
      "attachments": {},
      "cell_type": "markdown",
      "metadata": {
        "id": "gtW_NVD1bYrt"
      },
      "source": [
        "## Printing other scores for the K-Means Cluster"
      ]
    },
    {
      "cell_type": "code",
      "execution_count": 72,
      "metadata": {
        "id": "nK8Y1-l4tIxX",
        "outputId": "832c17b5-afc5-4aee-bd9e-9f5774e84151"
      },
      "outputs": [
        {
          "name": "stdout",
          "output_type": "stream",
          "text": [
            "The davies_bouldin_score is : 0.5252183704692455\n",
            "The calinski_harabasz_score is : 567.9577334464008\n"
          ]
        }
      ],
      "source": [
        "from sklearn.metrics import calinski_harabasz_score\n",
        "from sklearn.metrics import davies_bouldin_score\n",
        "print(\"The davies_bouldin_score is :\", davies_bouldin_score(df, cluster_index)) # The Lower the better. It ranges from 0 to infinity\n",
        "print(\"The calinski_harabasz_score is :\", calinski_harabasz_score(df, cluster_index)) # The Higher the better. It ranges from 0 to infinity"
      ]
    },
    {
      "attachments": {},
      "cell_type": "markdown",
      "metadata": {
        "id": "r9AsiqfpbYrt"
      },
      "source": [
        "## Now we are going to use another widely used clustering algorithm known as GaussianMixture.\n"
      ]
    },
    {
      "cell_type": "code",
      "execution_count": 73,
      "metadata": {
        "colab": {
          "base_uri": "https://localhost:8080/",
          "height": 74
        },
        "id": "UJ7IPCIn2NOE",
        "outputId": "b67b58d6-a31f-4c48-bc5f-7819c2add9d3"
      },
      "outputs": [
        {
          "data": {
            "text/plain": [
              "GaussianMixture(n_components=5)"
            ]
          },
          "execution_count": 73,
          "metadata": {},
          "output_type": "execute_result"
        }
      ],
      "source": [
        "from sklearn.mixture import GaussianMixture\n",
        "EM = GaussianMixture(n_components = 5 , init_params = 'kmeans' ) # n_components takes the value of the number of clusters that needs to be obtained. \n",
        "                                                                 # The value is 5, which we got from the elbow method previously.\n",
        "EM.fit(df)"
      ]
    },
    {
      "cell_type": "code",
      "execution_count": 74,
      "metadata": {
        "colab": {
          "base_uri": "https://localhost:8080/"
        },
        "id": "3_1AlqME2jN0",
        "outputId": "58493dc2-87fe-4533-8ef8-f91692ebaecd"
      },
      "outputs": [
        {
          "data": {
            "text/plain": [
              "array([2, 2, 4, 4, 4, 2, 2, 2, 2, 2, 4, 2, 2, 2, 2, 2, 2, 4, 4, 2, 2, 2,\n",
              "       2, 2, 2, 2, 2, 2, 2, 2, 2, 2, 2, 4, 4, 4, 2, 2, 2, 4, 4, 2, 4, 4,\n",
              "       2, 4, 4, 4, 4, 2, 2, 2, 4, 4, 4, 2, 2, 2, 2, 2, 2, 4, 2, 2, 2, 4,\n",
              "       2, 2, 4, 2, 2, 4, 2, 2, 2, 2, 4, 2, 4, 2, 2, 2, 2, 2, 2, 2, 4, 2,\n",
              "       4, 1, 1, 4, 4, 1, 1, 4, 1, 1, 1, 1, 4, 4, 1, 1, 4, 4, 1, 1, 4, 4,\n",
              "       4, 1, 1, 1, 1, 1, 1, 1, 1, 4, 1, 1, 1, 4, 1, 1, 4, 1, 1, 1, 1, 4,\n",
              "       1, 4, 1, 1, 1, 1, 1, 1, 1, 1, 1, 1, 1, 1, 1, 1, 1, 1, 4, 1, 1, 4,\n",
              "       1, 1, 0, 0, 3, 3, 3, 0, 3, 3, 3, 3, 0, 3, 3, 3, 3, 3, 3, 3, 3, 3,\n",
              "       3, 3, 3, 3, 3, 3, 0, 3, 3, 0, 3, 0, 3, 0, 0, 3, 3, 3, 0, 3, 3, 0,\n",
              "       3, 3, 3, 3, 0, 3, 0, 3, 3, 0, 3, 3, 3, 0, 3, 0, 0, 3, 3, 3, 3, 3,\n",
              "       3, 0, 0, 3, 3, 3, 3, 0, 0, 3, 0, 3, 0, 0, 0, 0, 0, 0, 3, 0, 3, 3,\n",
              "       3, 3, 3, 0, 0, 0, 3, 0, 3, 0, 0, 0, 3, 0, 3, 0, 3, 3, 0],\n",
              "      dtype=int64)"
            ]
          },
          "execution_count": 74,
          "metadata": {},
          "output_type": "execute_result"
        }
      ],
      "source": [
        "gm_labels = EM.predict(df)\n",
        "gm_labels"
      ]
    },
    {
      "attachments": {},
      "cell_type": "markdown",
      "metadata": {
        "id": "54q8c4VIbYru"
      },
      "source": [
        "## Performing Silhouette analysis for GaussianMixture as well and fidning the Silhouette score"
      ]
    },
    {
      "cell_type": "code",
      "execution_count": 75,
      "metadata": {
        "id": "ZVNdLSU5bYru",
        "outputId": "0e0b9141-c63b-43c6-e7b2-8495aaa6b37f"
      },
      "outputs": [
        {
          "data": {
            "image/png": "[encoded data removed]",
            "text/plain": [
              "<Figure size 432x288 with 1 Axes>"
            ]
          },
          "metadata": {
            "needs_background": "light"
          },
          "output_type": "display_data"
        },
        {
          "name": "stdout",
          "output_type": "stream",
          "text": [
            "The silhouette_score OF GaussianMixture is : 0.6608624358424141\n"
          ]
        }
      ],
      "source": [
        "\n",
        "gm_silhouette = silhouette_score(df, gm_labels) #using the labels generated by GaussianMixture\n",
        "gm_sample_silhouette_values = silhouette_samples(df, gm_labels)\n",
        "y_lower = 10\n",
        "fig, ax = plt.subplots()\n",
        "for i in range(5):\n",
        "    ith_cluster_silhouette_values = gm_sample_silhouette_values[gm_labels == i]\n",
        "    ith_cluster_silhouette_values.sort()\n",
        "    size_cluster_i = ith_cluster_silhouette_values.shape[0]\n",
        "    y_upper = y_lower + size_cluster_i\n",
        "    color = cm.nipy_spectral(float(i) / 5)\n",
        "    ax.fill_betweenx(np.arange(y_lower, y_upper), 0, ith_cluster_silhouette_values, facecolor=color, edgecolor='k', alpha=0.7)\n",
        "    ax.text(-0.05, y_lower + 0.5 * size_cluster_i, str(i))\n",
        "    y_lower = y_upper + 10\n",
        "ax.set_xlabel(\"Silhouette_Coefficient\")\n",
        "ax.set_ylabel(\"Cluster_Index\")\n",
        "ax.axvline(x=gm_silhouette, color=\"red\", linestyle=\"--\")\n",
        "ax.set_yticks([])\n",
        "plt.show()\n",
        "\n",
        "print(\"The silhouette_score OF GaussianMixture is :\", silhouette_score(df, gm_labels)) "
      ]
    },
    {
      "cell_type": "code",
      "execution_count": 76,
      "metadata": {
        "colab": {
          "base_uri": "https://localhost:8080/",
          "height": 466
        },
        "id": "qyPbWTyu3F-k",
        "outputId": "0256b1aa-fcf9-4269-f7eb-b0bfcc001cb9"
      },
      "outputs": [
        {
          "data": {
            "text/plain": [
              "<AxesSubplot:xlabel='Average Signal Quality', ylabel='Channel'>"
            ]
          },
          "execution_count": 76,
          "metadata": {},
          "output_type": "execute_result"
        },
        {
          "data": {
            "image/png": "[encoded data removed]",
            "text/plain": [
              "<Figure size 432x288 with 1 Axes>"
            ]
          },
          "metadata": {
            "needs_background": "light"
          },
          "output_type": "display_data"
        }
      ],
      "source": [
        "sns.scatterplot(x='Average Signal Quality', y='Channel', hue=gm_labels, data=df, palette ='Set1')"
      ]
    },
    {
      "cell_type": "code",
      "execution_count": 77,
      "metadata": {
        "id": "MINokWr1bYrv",
        "outputId": "e935c72d-3da0-449f-d575-87147348220f"
      },
      "outputs": [
        {
          "data": {
            "text/plain": [
              "<AxesSubplot:xlabel='Cluster', ylabel='Channel'>"
            ]
          },
          "execution_count": 77,
          "metadata": {},
          "output_type": "execute_result"
        },
        {
          "data": {
            "image/png": "[encoded data removed]",
            "text/plain": [
              "<Figure size 432x288 with 1 Axes>"
            ]
          },
          "metadata": {
            "needs_background": "light"
          },
          "output_type": "display_data"
        }
      ],
      "source": [
        "sns.scatterplot(x='Cluster', y='Channel', hue=gm_labels, data=df, palette ='Set1')"
      ]
    },
    {
      "cell_type": "code",
      "execution_count": 78,
      "metadata": {
        "id": "a-n_tAIebYrv",
        "outputId": "c4534e65-9cd5-4b9a-a676-81aa1de11b5e"
      },
      "outputs": [
        {
          "data": {
            "text/plain": [
              "<AxesSubplot:xlabel='Cluster', ylabel='RSSI'>"
            ]
          },
          "execution_count": 78,
          "metadata": {},
          "output_type": "execute_result"
        },
        {
          "data": {
            "image/png": "[encoded data removed]",
            "text/plain": [
              "<Figure size 432x288 with 1 Axes>"
            ]
          },
          "metadata": {
            "needs_background": "light"
          },
          "output_type": "display_data"
        }
      ],
      "source": [
        "sns.scatterplot(x='Cluster', y='RSSI', hue=gm_labels, data=df, palette ='Set1')"
      ]
    },
    {
      "attachments": {},
      "cell_type": "markdown",
      "metadata": {
        "id": "haeInjRBbYr_"
      },
      "source": [
        "We got almost similar plots in case of the GaussianMixture, when compared to the K-Means Clustering.\n",
        "Now we are going to compare the cluster results obtained from K-Means with several other clustering algorithms namely AgglomerativeClustering, SpectralClustering, Birch and GaussianMixture to obtain their respective score. This will give an idea of the similarity index of the clusters produced by different algorithms."
      ]
    },
    {
      "cell_type": "code",
      "execution_count": 79,
      "metadata": {
        "id": "bC8zLlRqbYr_",
        "outputId": "1b513364-fd57-4639-ecae-a859d502fd57"
      },
      "outputs": [
        {
          "name": "stdout",
          "output_type": "stream",
          "text": [
            "{'Agglomerative Clustering': {'Adjusted Rand Score': 0.8151424566522861, 'V Measure Score': 0.8586615639915527, 'Adjusted Mutual Information Score': 0.855810371093462, 'Fowlkes-Mallows Score': 0.8528059474859999, 'Homogeneity Score': 0.8593425261901596, 'Completeness Score': 0.8579816801577165}, 'Spectral Clustering': {'Adjusted Rand Score': 0.47167319932981283, 'V Measure Score': 0.7244747041836151, 'Adjusted Mutual Information Score': 0.7181821031487526, 'Fowlkes-Mallows Score': 0.6527846611685846, 'Homogeneity Score': 0.6161076833611636, 'Completeness Score': 0.8790992421535665}, 'Birch': {'Adjusted Rand Score': 0.9720717690567902, 'V Measure Score': 0.9721132915341416, 'Adjusted Mutual Information Score': 0.9715492817525929, 'Fowlkes-Mallows Score': 0.9778083282877741, 'Homogeneity Score': 0.9708404183891344, 'Completeness Score': 0.9733895068001827}, 'Gaussian Mixture': {'Adjusted Rand Score': 0.8935303991713822, 'V Measure Score': 0.920230020508835, 'Adjusted Mutual Information Score': 0.9186037365098935, 'Fowlkes-Mallows Score': 0.9157208046406796, 'Homogeneity Score': 0.9143990217042114, 'Completeness Score': 0.9261358635655178}}\n"
          ]
        }
      ],
      "source": [
        "from sklearn.metrics import adjusted_rand_score, adjusted_mutual_info_score, completeness_score, fowlkes_mallows_score, homogeneity_score, v_measure_score\n",
        "from sklearn.cluster import AgglomerativeClustering, SpectralClustering, Birch\n",
        "from sklearn.mixture import GaussianMixture\n",
        "\n",
        "clustering_algorithms = {\n",
        "                         \"Agglomerative Clustering\": AgglomerativeClustering(n_clusters=5), # The number of clusters are taken to be 5, as we previously got from the elbow point visualisation plot.\n",
        "                         \"Spectral Clustering\": SpectralClustering(n_clusters=5),\n",
        "                         \"Birch\": Birch(n_clusters=5),\n",
        "                         \"Gaussian Mixture\": GaussianMixture(n_components=5)}\n",
        "\n",
        "def cluster_scores(clustering_algorithms, df):\n",
        "    scores = {}\n",
        "    \n",
        "    for algorithm_name, algorithm in clustering_algorithms.items():   #labels will keep changing due to different clustering algorithm being used per loop but cluster_index as obtained from the K-Means will remain the same.\n",
        "        # Fitting and predicting the dataset                          #Comparision between cluster_index and labels will give us oue scores to find the similarity index.\n",
        "        labels = algorithm.fit_predict(df)\n",
        "\n",
        "        # Initialising scoring methods to be used for scoring labels\n",
        "        rand_score = adjusted_rand_score(cluster_index, labels)\n",
        "        v_score = v_measure_score(cluster_index, labels)\n",
        "        adj_mutual_info = adjusted_mutual_info_score(cluster_index, labels)\n",
        "        fowlkes_mallows = fowlkes_mallows_score(cluster_index, labels)\n",
        "        homogeneity = homogeneity_score(cluster_index, labels)\n",
        "        completeness = completeness_score(cluster_index, labels)\n",
        "        \n",
        "       \n",
        "        \n",
        "        # Adding the scores to a dictionary named 'scores'\n",
        "        scores[algorithm_name] = {\"Adjusted Rand Score\": rand_score,\n",
        "                                  \"V Measure Score\": v_score,\n",
        "                                  \"Adjusted Mutual Information Score\": adj_mutual_info,\n",
        "                                  \"Fowlkes-Mallows Score\": fowlkes_mallows,\n",
        "                                  \"Homogeneity Score\": homogeneity,\n",
        "                                  \"Completeness Score\": completeness,\n",
        "                                 }\n",
        "\n",
        "        \n",
        "    return scores\n",
        "\n",
        "scores = cluster_scores(clustering_algorithms, df)\n",
        "print(scores)"
      ]
    },
    {
      "cell_type": "code",
      "execution_count": 80,
      "metadata": {
        "id": "whTcs3zEbYsA",
        "outputId": "196eed57-68a6-4adf-e896-24192cc10a23"
      },
      "outputs": [
        {
          "data": {
            "text/html": [
              "<div>\n",
              "<style scoped>\n",
              "    .dataframe tbody tr th:only-of-type {\n",
              "        vertical-align: middle;\n",
              "    }\n",
              "\n",
              "    .dataframe tbody tr th {\n",
              "        vertical-align: top;\n",
              "    }\n",
              "\n",
              "    .dataframe thead th {\n",
              "        text-align: right;\n",
              "    }\n",
              "</style>\n",
              "<table border=\"1\" class=\"dataframe\">\n",
              "  <thead>\n",
              "    <tr style=\"text-align: right;\">\n",
              "      <th></th>\n",
              "      <th>Agglomerative Clustering</th>\n",
              "      <th>Spectral Clustering</th>\n",
              "      <th>Birch</th>\n",
              "      <th>Gaussian Mixture</th>\n",
              "    </tr>\n",
              "  </thead>\n",
              "  <tbody>\n",
              "    <tr>\n",
              "      <th>Adjusted Rand Score</th>\n",
              "      <td>0.815142</td>\n",
              "      <td>0.471673</td>\n",
              "      <td>0.972072</td>\n",
              "      <td>0.893530</td>\n",
              "    </tr>\n",
              "    <tr>\n",
              "      <th>V Measure Score</th>\n",
              "      <td>0.858662</td>\n",
              "      <td>0.724475</td>\n",
              "      <td>0.972113</td>\n",
              "      <td>0.920230</td>\n",
              "    </tr>\n",
              "    <tr>\n",
              "      <th>Adjusted Mutual Information Score</th>\n",
              "      <td>0.855810</td>\n",
              "      <td>0.718182</td>\n",
              "      <td>0.971549</td>\n",
              "      <td>0.918604</td>\n",
              "    </tr>\n",
              "    <tr>\n",
              "      <th>Fowlkes-Mallows Score</th>\n",
              "      <td>0.852806</td>\n",
              "      <td>0.652785</td>\n",
              "      <td>0.977808</td>\n",
              "      <td>0.915721</td>\n",
              "    </tr>\n",
              "    <tr>\n",
              "      <th>Homogeneity Score</th>\n",
              "      <td>0.859343</td>\n",
              "      <td>0.616108</td>\n",
              "      <td>0.970840</td>\n",
              "      <td>0.914399</td>\n",
              "    </tr>\n",
              "    <tr>\n",
              "      <th>Completeness Score</th>\n",
              "      <td>0.857982</td>\n",
              "      <td>0.879099</td>\n",
              "      <td>0.973390</td>\n",
              "      <td>0.926136</td>\n",
              "    </tr>\n",
              "  </tbody>\n",
              "</table>\n",
              "</div>"
            ],
            "text/plain": [
              "                                   Agglomerative Clustering  \\\n",
              "Adjusted Rand Score                                0.815142   \n",
              "V Measure Score                                    0.858662   \n",
              "Adjusted Mutual Information Score                  0.855810   \n",
              "Fowlkes-Mallows Score                              0.852806   \n",
              "Homogeneity Score                                  0.859343   \n",
              "Completeness Score                                 0.857982   \n",
              "\n",
              "                                   Spectral Clustering     Birch  \\\n",
              "Adjusted Rand Score                           0.471673  0.972072   \n",
              "V Measure Score                               0.724475  0.972113   \n",
              "Adjusted Mutual Information Score             0.718182  0.971549   \n",
              "Fowlkes-Mallows Score                         0.652785  0.977808   \n",
              "Homogeneity Score                             0.616108  0.970840   \n",
              "Completeness Score                            0.879099  0.973390   \n",
              "\n",
              "                                   Gaussian Mixture  \n",
              "Adjusted Rand Score                        0.893530  \n",
              "V Measure Score                            0.920230  \n",
              "Adjusted Mutual Information Score          0.918604  \n",
              "Fowlkes-Mallows Score                      0.915721  \n",
              "Homogeneity Score                          0.914399  \n",
              "Completeness Score                         0.926136  "
            ]
          },
          "execution_count": 80,
          "metadata": {},
          "output_type": "execute_result"
        }
      ],
      "source": [
        "import pandas as pd\n",
        "table = pd.DataFrame.from_dict(scores) # converting the dictionary to a dataframe for better visualisation.\n",
        "table.head(10)"
      ]
    }
  ],
  "metadata": {
    "colab": {
      "provenance": []
    },
    "kernelspec": {
      "display_name": "Python 3",
      "name": "python3"
    },
    "language_info": {
      "codemirror_mode": {
        "name": "ipython",
        "version": 3
      },
      "file_extension": ".py",
      "mimetype": "text/x-python",
      "name": "python",
      "nbconvert_exporter": "python",
      "pygments_lexer": "ipython3",
      "version": "3.9.12"
    }
  },
  "nbformat": 4,
  "nbformat_minor": 0
}
