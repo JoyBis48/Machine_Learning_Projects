{
 "cells": [
  {
   "cell_type": "markdown",
   "source": [
    "## Importing Necsessary Libraries"
   ],
   "metadata": {
    "collapsed": false
   }
  },
  {
   "cell_type": "code",
   "execution_count": null,
   "outputs": [],
   "source": [
    "import pandas as pd\n",
    "import matplotlib.pyplot as plt\n",
    "import numpy as np\n",
    "import seaborn as sns"
   ],
   "metadata": {
    "collapsed": false
   }
  },
  {
   "cell_type": "code",
   "execution_count": null,
   "outputs": [],
   "source": [
    "df = pd.read_csv('Dataset/Student_Dataset.csv')"
   ],
   "metadata": {
    "collapsed": false
   }
  },
  {
   "cell_type": "code",
   "execution_count": null,
   "outputs": [],
   "source": [
    "print(type(df))"
   ],
   "metadata": {
    "collapsed": false
   }
  },
  {
   "cell_type": "markdown",
   "source": [
    "## Checking the dataframe"
   ],
   "metadata": {
    "collapsed": false
   }
  },
  {
   "cell_type": "code",
   "execution_count": null,
   "outputs": [],
   "source": [
    "df.shape"
   ],
   "metadata": {
    "collapsed": false
   }
  },
  {
   "cell_type": "code",
   "execution_count": null,
   "outputs": [],
   "source": [
    "df.head(10)"
   ],
   "metadata": {
    "collapsed": false
   }
  },
  {
   "cell_type": "code",
   "execution_count": null,
   "outputs": [],
   "source": [
    "df.dtypes"
   ],
   "metadata": {
    "collapsed": false
   }
  },
  {
   "cell_type": "code",
   "execution_count": null,
   "outputs": [],
   "source": [
    "df.info()"
   ],
   "metadata": {
    "collapsed": false
   }
  },
  {
   "cell_type": "code",
   "execution_count": null,
   "outputs": [],
   "source": [
    "df.describe().T #transposing it for better viewability"
   ],
   "metadata": {
    "collapsed": false
   }
  },
  {
   "cell_type": "code",
   "execution_count": null,
   "outputs": [],
   "source": [
    "df.isnull().sum()  #checking for any null values"
   ],
   "metadata": {
    "collapsed": false
   }
  },
  {
   "cell_type": "code",
   "execution_count": null,
   "outputs": [],
   "source": [
    "df.duplicated().sum()  #checking fro duplicate values"
   ],
   "metadata": {
    "collapsed": false
   }
  },
  {
   "cell_type": "code",
   "execution_count": null,
   "outputs": [],
   "source": [
    "df['Target'].value_counts()"
   ],
   "metadata": {
    "collapsed": false
   }
  },
  {
   "cell_type": "code",
   "execution_count": null,
   "outputs": [],
   "source": [
    "df = df[df.Target != \"Enrolled\"] # dropping the rows having Target column as 'Enrolled' , since we are\n",
    "                                 # only concerned with graduate and dropout students"
   ],
   "metadata": {
    "collapsed": false
   }
  },
  {
   "cell_type": "code",
   "execution_count": null,
   "outputs": [],
   "source": [
    "df"
   ],
   "metadata": {
    "collapsed": false
   }
  },
  {
   "cell_type": "markdown",
   "source": [
    "## Exploratory Analysis"
   ],
   "metadata": {
    "collapsed": false
   }
  },
  {
   "cell_type": "code",
   "execution_count": null,
   "outputs": [],
   "source": [
    "# from ydata_profiling import ProfileReport\n",
    "#\n",
    "# profile = ProfileReport(df, title= 'Dropout Pandas Profiling Report', explorative=True)\n",
    "# profile.to_file('Dropout_ProfileReport.html')"
   ],
   "metadata": {
    "collapsed": false
   }
  },
  {
   "cell_type": "code",
   "execution_count": null,
   "outputs": [],
   "source": [
    "plt.figure(figsize=(7, 4))  # Optional: Set the figure size\n",
    "plot1 = sns.countplot(data=df, x='Target', palette='Paired')\n",
    "plt.xlabel('Student Status')\n",
    "plt.ylabel('Count')\n",
    "plt.title('Value Counts of Student Status')\n",
    "plot1.set_xticklabels(['Dropout', 'Graduate'])\n",
    "plt.show()"
   ],
   "metadata": {
    "collapsed": false
   }
  },
  {
   "cell_type": "code",
   "execution_count": null,
   "outputs": [],
   "source": [
    "# Plotting Curricular units 1st sem (grade) with the Target\n",
    "sns.boxplot(x='Target', y='Curricular units 1st sem (grade)', data=df, palette='Paired')\n",
    "plt.show()"
   ],
   "metadata": {
    "collapsed": false
   }
  },
  {
   "cell_type": "code",
   "execution_count": null,
   "outputs": [],
   "source": [
    "# Plotting Curricular units 2nd sem (grade) with the Target\n",
    "sns.boxplot(x='Target', y='Curricular units 2nd sem (grade)', data=df, palette='Paired')\n",
    "plt.show()"
   ],
   "metadata": {
    "collapsed": false
   }
  },
  {
   "cell_type": "code",
   "execution_count": null,
   "outputs": [],
   "source": [
    "\n",
    "plt.figure(figsize=(7, 4))\n",
    "plot4 = sns.barplot(x='Gender', y='Age at enrollment', hue='Target', data=df, palette='Blues')\n",
    "plt.legend(loc=1)\n",
    "plt.xlabel('Courses taken by the student')\n",
    "plot4.set_xticklabels(['Female', 'Male'])\n",
    "plt.show()"
   ],
   "metadata": {
    "collapsed": false
   }
  },
  {
   "cell_type": "code",
   "execution_count": null,
   "outputs": [],
   "source": [
    "# Cross Tablulation Plot to check the status of students as per gender.\n",
    "\n",
    "pd.crosstab(df.Target,df.Gender, margins=True, margins_name='Total').plot(figsize=(7,4), kind=\"bar\", title=\"Gender vs Status\", color=['lightblue','deepskyblue','dodgerblue'])\n",
    "plt.legend(labels=['Female', 'Male', 'Total'])\n",
    "plt.ylabel('Count')\n",
    "plt.show()"
   ],
   "metadata": {
    "collapsed": false
   }
  },
  {
   "cell_type": "code",
   "execution_count": null,
   "outputs": [],
   "source": [
    "# Cross Tablulation Plot to check the status of students based on their debt.\n",
    "\n",
    "pd.crosstab(df.Target, df.Debtor).plot(figsize=(7, 4), kind=\"bar\",\n",
    "title=\"Debt and Status\",color=['lightblue', 'deepskyblue'])\n",
    "plt.legend(labels=['Not In Debt', 'In Debt'])\n",
    "plt.ylabel('Count')\n",
    "plt.show()\n"
   ],
   "metadata": {
    "collapsed": false
   }
  },
  {
   "cell_type": "code",
   "execution_count": null,
   "outputs": [],
   "source": [
    "pd.crosstab(df['Target'],df['Scholarship holder']).plot(figsize=(7, 4), kind=\"bar\",\n",
    "title=\"Scholarship Holders vs Status\",color=['lightblue', 'deepskyblue'])\n",
    "plt.legend(labels=['Non-Holders', 'Holders'])\n",
    "plt.ylabel('Count')\n",
    "plt.show()"
   ],
   "metadata": {
    "collapsed": false
   }
  },
  {
   "cell_type": "markdown",
   "source": [
    "## Cleaning and Preprocessing"
   ],
   "metadata": {
    "collapsed": false
   }
  },
  {
   "cell_type": "code",
   "execution_count": null,
   "outputs": [],
   "source": [
    "# There is no null or duplicate values, so we skip the removal of these values"
   ],
   "metadata": {
    "collapsed": false
   }
  },
  {
   "cell_type": "code",
   "execution_count": null,
   "outputs": [],
   "source": [
    "# Label encoding the target variable with 0 and 1\n",
    "df['Target'] = df['Target'].map({\n",
    "    'Dropout':0,\n",
    "    'Graduate':1\n",
    "})"
   ],
   "metadata": {
    "collapsed": false
   }
  },
  {
   "cell_type": "code",
   "execution_count": null,
   "outputs": [],
   "source": [
    "# Grouping all the features for finding correlations efficiently\n",
    "\n",
    "# Demographic Data\n",
    "Demo_df = df[[\"Marital status\", \"Displaced\", \"Age at enrollment\", \"Gender\", \"Nacionality\", \"International\", \"Target\"]]\n",
    "\n",
    "# Socio-Economic Data\n",
    "SE_df = df[[\"Mother's qualification\", \"Mother's occupation\",\"Father's qualification\", \"Father's occupation\", \"Educational special needs\", \"Debtor\", \"Tuition fees up to date\", \"Scholarship holder\", \"Target\"]]\n",
    "\n",
    "# Academic Data\n",
    "Academic_df = df[['Curricular units 1st sem (credited)',\n",
    "            'Curricular units 1st sem (enrolled)',\n",
    "            'Curricular units 1st sem (evaluations)',\n",
    "            'Curricular units 1st sem (approved)',\n",
    "            'Curricular units 1st sem (grade)',\n",
    "            'Curricular units 1st sem (without evaluations)',\n",
    "            'Curricular units 2nd sem (credited)',\n",
    "            'Curricular units 2nd sem (enrolled)',\n",
    "            'Curricular units 2nd sem (evaluations)',\n",
    "            'Curricular units 2nd sem (approved)',\n",
    "            'Curricular units 2nd sem (grade)',\n",
    "            'Curricular units 2nd sem (without evaluations)', 'Target']]\n",
    "\n",
    "# Other Miscellaneous Data\n",
    "Others_df = df[['Unemployment rate', 'Inflation rate', 'GDP', 'Application mode', 'Application order', 'Course', 'Daytime/evening attendance', 'Previous qualification', 'Target']]"
   ],
   "metadata": {
    "collapsed": false
   }
  },
  {
   "cell_type": "code",
   "execution_count": null,
   "outputs": [],
   "source": [
    "# Correlation Matrix for Demographic Data\n",
    "fig, ax = plt.subplots(figsize=(7,4))\n",
    "sns.heatmap(Demo_df.corr(), annot=True, cmap=\"magma\")\n",
    "plt.title(\"Correlation Matrix of Demographic Data\")\n",
    "plt.show()"
   ],
   "metadata": {
    "collapsed": false
   }
  },
  {
   "cell_type": "code",
   "execution_count": null,
   "outputs": [],
   "source": [
    "# International has very high correlation with Nationality.\n",
    "# So Nationality needs to be removed."
   ],
   "metadata": {
    "collapsed": false
   }
  },
  {
   "cell_type": "code",
   "execution_count": null,
   "outputs": [],
   "source": [
    "# Correlation Matrix for Socio-Economic Data\n",
    "fig, ax = plt.subplots(figsize=(7,4))\n",
    "sns.heatmap(SE_df.corr(), annot=True, cmap=\"coolwarm\")\n",
    "plt.title(\"Correlation Matrix of Socio-Economic Data\")\n",
    "plt.show()"
   ],
   "metadata": {
    "collapsed": false
   }
  },
  {
   "cell_type": "code",
   "execution_count": null,
   "outputs": [],
   "source": [
    "# There is no high correlation in the above plot, so no features are marked to removed."
   ],
   "metadata": {
    "collapsed": false
   }
  },
  {
   "cell_type": "code",
   "execution_count": null,
   "outputs": [],
   "source": [
    "# Correlation Matrix for Academic Data\n",
    "fig, ax = plt.subplots(figsize=(13,13))  #making the figsize of equal dimension to better visualise the correlations\n",
    "sns.heatmap(Academic_df.corr(), annot=True, cmap=\"viridis\", annot_kws={\"size\": 7.5})\n",
    "plt.title(\"Correlation Matrix for Academic Data\")\n",
    "plt.show()"
   ],
   "metadata": {
    "collapsed": false
   }
  },
  {
   "cell_type": "code",
   "execution_count": null,
   "outputs": [],
   "source": [
    "# There are some high correlations in the above plot\n",
    "\n",
    "# Curricular units 1st sem (credited) has high correlation with 2nd sem (credited)\n",
    "# Curricular units 1st sem (enrolled) has high correlation with 2nd sem (enrolled)\n",
    "# Curricular units 1st sem (evaluation) (0.79 correlation with sem 2)has high correlation with 2nd sem (evaluation)\n",
    "# Curricular units 1st sem (approved) has high correlation with 2nd sem (approved)\n",
    "# Curricular units 1st sem (grade) has high correlation with 2nd sem (grade)\n",
    "\n",
    "# Hence removing the whole of 1st sem academic data will be enough."
   ],
   "metadata": {
    "collapsed": false
   }
  },
  {
   "cell_type": "code",
   "execution_count": null,
   "outputs": [],
   "source": [
    "# Correlation Matrix for Other Miscellaneous Data\n",
    "fig, ax = plt.subplots(figsize=(7,4))\n",
    "sns.heatmap(Others_df.corr(), annot=True, cmap=\"plasma\")\n",
    "plt.title(\"Correlation Matrix for Miscellaneous Data\")\n",
    "plt.show()"
   ],
   "metadata": {
    "collapsed": false
   }
  },
  {
   "cell_type": "code",
   "execution_count": null,
   "outputs": [],
   "source": [
    "# There are no high correlations here, so no features are marked to be removed."
   ],
   "metadata": {
    "collapsed": false
   }
  },
  {
   "cell_type": "code",
   "execution_count": null,
   "outputs": [],
   "source": [
    "Redundant_Features = [\"Nacionality\", \"Curricular units 1st sem (credited)\", \"Curricular units 1st sem (enrolled)\",\"Curricular units 1st sem (evaluations)\", \"Curricular units 1st sem (approved)\", \"Curricular units 1st sem (grade)\"]\n",
    "\n",
    "df.drop(Redundant_Features, axis=1, inplace=True)"
   ],
   "metadata": {
    "collapsed": false
   }
  },
  {
   "cell_type": "code",
   "execution_count": null,
   "outputs": [],
   "source": [
    "df"
   ],
   "metadata": {
    "collapsed": false
   }
  },
  {
   "cell_type": "markdown",
   "source": [
    "## Separating Features from the Target variable"
   ],
   "metadata": {
    "collapsed": false
   }
  },
  {
   "cell_type": "code",
   "execution_count": null,
   "outputs": [],
   "source": [
    "X = df.iloc[:, :28]\n",
    "Y = df.iloc[:, -1]"
   ],
   "metadata": {
    "collapsed": false
   }
  },
  {
   "cell_type": "code",
   "execution_count": null,
   "outputs": [],
   "source": [
    "X"
   ],
   "metadata": {
    "collapsed": false
   }
  },
  {
   "cell_type": "code",
   "execution_count": null,
   "outputs": [],
   "source": [
    "Y"
   ],
   "metadata": {
    "collapsed": false
   }
  },
  {
   "cell_type": "markdown",
   "source": [
    "## Model Training and Evaluation"
   ],
   "metadata": {
    "collapsed": false
   }
  },
  {
   "cell_type": "code",
   "execution_count": null,
   "outputs": [],
   "source": [
    "# Importing libraries for Machine Learning\n",
    "from sklearn.model_selection import GridSearchCV, RandomizedSearchCV\n",
    "from sklearn.ensemble import RandomForestClassifier\n",
    "from sklearn.preprocessing import StandardScaler\n",
    "from sklearn.model_selection import train_test_split\n",
    "from sklearn.model_selection import cross_val_score\n",
    "from sklearn.decomposition import PCA\n",
    "\n",
    "# Importing libraries for Evaluation\n",
    "from sklearn import metrics\n",
    "from sklearn.metrics import accuracy_score\n",
    "from sklearn.metrics import precision_score, recall_score, f1_score"
   ],
   "metadata": {
    "collapsed": false
   }
  },
  {
   "cell_type": "code",
   "execution_count": null,
   "outputs": [],
   "source": [
    "# Train-Test Splitting the Dataset\n",
    "X_train,X_test,Y_train,Y_test = train_test_split(X,Y,test_size=0.2)"
   ],
   "metadata": {
    "collapsed": false
   }
  },
  {
   "cell_type": "code",
   "execution_count": null,
   "outputs": [],
   "source": [
    "# Creating a Random Forest Model for training on the best hyperparameters using Grid Search\n",
    "def RandomForestModel(X, Y):\n",
    "# finding the best hyperparameters\n",
    "    param_grid = {\n",
    "    'bootstrap': [True, False],\n",
    "    'n_estimators': [20, 40, 80, 100],\n",
    "    'max_depth': [3, 5, 10, None],\n",
    "    'max_features': ['sqrt', 'log2', None],\n",
    "    'min_samples_split': [2, 5, 7],\n",
    "    'criterion': ['gini', 'entropy']\n",
    "    }\n",
    "\n",
    "    rfc = RandomForestClassifier()\n",
    "\n",
    "    clf = GridSearchCV(estimator = rfc, param_grid = param_grid, cv = 4, n_jobs = -1, verbose = 1)\n",
    "    model = clf.fit(X, Y)\n",
    "\n",
    "    return model"
   ],
   "metadata": {
    "collapsed": false
   }
  },
  {
   "cell_type": "code",
   "execution_count": null,
   "outputs": [],
   "source": [
    "# Creating a scorer function\n",
    "def scorer(X_Test, Y_Test, Model):\n",
    "\n",
    "    Y_Pred = Model.predict(X_Test)\n",
    "    print(f'The Training Accuracy Score is {accuracy_score(Y_Test, Y_Pred)}')\n",
    "    print(f'Precision Score: {precision_score(Y_Test, Y_Pred)}')\n",
    "    print(f'Recall Score: {recall_score(Y_Test, Y_Pred)}')\n",
    "    print(f'f1 Score: {f1_score(Y_Test, Y_Pred)}')\n",
    "    return  None"
   ],
   "metadata": {
    "collapsed": false
   }
  },
  {
   "cell_type": "code",
   "execution_count": null,
   "outputs": [],
   "source": [
    "def Cross_Validation_Score(X, Y, Model):\n",
    "    CV = cross_val_score(Model, X, Y, cv=10)\n",
    "    return  print(f'The Cross Validation Score is : {CV.mean()}')"
   ],
   "metadata": {
    "collapsed": false
   }
  },
  {
   "cell_type": "code",
   "execution_count": null,
   "outputs": [],
   "source": [
    "# Training the Random Forest Model\n",
    "model = RandomForestModel(X_train, Y_train)"
   ],
   "metadata": {
    "collapsed": false
   }
  },
  {
   "cell_type": "code",
   "execution_count": null,
   "outputs": [],
   "source": [
    "#Saving the model\n",
    "import pickle\n",
    "with open('Dropout_Prediction_Model.pkl', 'wb') as file:\n",
    "    pickle.dump(model, file)"
   ],
   "metadata": {
    "collapsed": false
   }
  },
  {
   "cell_type": "code",
   "execution_count": null,
   "outputs": [],
   "source": [
    "# Scoring the performance\n",
    "scorer(X_test, Y_test, model)"
   ],
   "metadata": {
    "collapsed": false
   }
  },
  {
   "cell_type": "code",
   "execution_count": null,
   "outputs": [],
   "source": [
    "# Getting the Cross Validation Score\n",
    "Cross_Validation_Score(X_train, Y_train, model)"
   ],
   "metadata": {
    "collapsed": false
   }
  }
 ],
 "metadata": {
  "kernelspec": {
   "display_name": "Python 3",
   "language": "python",
   "name": "python3"
  },
  "language_info": {
   "codemirror_mode": {
    "name": "ipython",
    "version": 2
   },
   "file_extension": ".py",
   "mimetype": "text/x-python",
   "name": "python",
   "nbconvert_exporter": "python",
   "pygments_lexer": "ipython2",
   "version": "2.7.6"
  }
 },
 "nbformat": 4,
 "nbformat_minor": 0
}
